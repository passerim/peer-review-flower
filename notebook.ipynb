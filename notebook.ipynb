{
 "cells": [
  {
   "cell_type": "code",
   "execution_count": 7,
   "metadata": {},
   "outputs": [],
   "source": [
    "from experiments.fedes.utils import load_data"
   ]
  },
  {
   "cell_type": "code",
   "execution_count": 8,
   "metadata": {},
   "outputs": [
    {
     "name": "stdout",
     "output_type": "stream",
     "text": [
      "Files already downloaded and verified\n",
      "Files already downloaded and verified\n"
     ]
    }
   ],
   "source": [
    "trainset, testset = load_data()"
   ]
  },
  {
   "cell_type": "code",
   "execution_count": 9,
   "metadata": {},
   "outputs": [
    {
     "data": {
      "text/plain": [
       "Dataset CIFAR100\n",
       "    Number of datapoints: 50000\n",
       "    Root location: ./data/cifar100\n",
       "    Split: Train\n",
       "    StandardTransform\n",
       "Transform: Compose(\n",
       "               ToTensor()\n",
       "               Normalize(mean=(0.5, 0.5, 0.5), std=(0.5, 0.5, 0.5))\n",
       "           )"
      ]
     },
     "execution_count": 9,
     "metadata": {},
     "output_type": "execute_result"
    }
   ],
   "source": [
    "trainset"
   ]
  },
  {
   "cell_type": "code",
   "execution_count": 50,
   "metadata": {},
   "outputs": [],
   "source": [
    "labels = np.array(trainset.targets)\n",
    "idx = np.array(range(len(labels)))\n",
    "dataset = [idx, labels]\n",
    "partitions, _ = fl.dataset.utils.common.create_lda_partitions(\n",
    "    dataset, num_partitions=10, concentration=0.1, accept_imbalanced=True\n",
    ")"
   ]
  },
  {
   "cell_type": "code",
   "execution_count": 67,
   "metadata": {},
   "outputs": [],
   "source": [
    "from torch.utils.data import Subset"
   ]
  },
  {
   "cell_type": "code",
   "execution_count": 70,
   "metadata": {},
   "outputs": [
    {
     "data": {
      "text/plain": [
       "<torch.utils.data.dataset.Subset at 0x1c90deb6550>"
      ]
     },
     "execution_count": 70,
     "metadata": {},
     "output_type": "execute_result"
    }
   ],
   "source": [
    "Subset(trainset, partitions[0][0])"
   ]
  },
  {
   "cell_type": "code",
   "execution_count": 51,
   "metadata": {},
   "outputs": [
    {
     "data": {
      "text/plain": [
       "(array([1001.,  702.,   44.,  114.,   13., 1012.,  647.,  307.,  853.,\n",
       "         307.]),\n",
       " array([ 0. ,  9.9, 19.8, 29.7, 39.6, 49.5, 59.4, 69.3, 79.2, 89.1, 99. ]),\n",
       " <BarContainer object of 10 artists>)"
      ]
     },
     "execution_count": 51,
     "metadata": {},
     "output_type": "execute_result"
    },
    {
     "data": {
      "image/png": "[encoded data removed]",
      "text/plain": [
       "<Figure size 432x288 with 1 Axes>"
      ]
     },
     "metadata": {
      "needs_background": "light"
     },
     "output_type": "display_data"
    }
   ],
   "source": [
    "plt.hist(partitions[0][1])"
   ]
  },
  {
   "cell_type": "code",
   "execution_count": 28,
   "metadata": {},
   "outputs": [],
   "source": [
    "import matplotlib.pyplot as plt"
   ]
  },
  {
   "cell_type": "code",
   "execution_count": 56,
   "metadata": {},
   "outputs": [
    {
     "data": {
      "text/plain": [
       "array([21244,  4184, 37090, ..., 13317, 44563, 44562])"
      ]
     },
     "execution_count": 56,
     "metadata": {},
     "output_type": "execute_result"
    }
   ],
   "source": [
    "partitions[0][0]"
   ]
  },
  {
   "cell_type": "code",
   "execution_count": 66,
   "metadata": {},
   "outputs": [
    {
     "data": {
      "text/plain": [
       "(5000, 32, 32, 3)"
      ]
     },
     "execution_count": 66,
     "metadata": {},
     "output_type": "execute_result"
    }
   ],
   "source": [
    "trainset.data[partitions[0][0]].shape"
   ]
  },
  {
   "cell_type": "code",
   "execution_count": 55,
   "metadata": {},
   "outputs": [
    {
     "ename": "TypeError",
     "evalue": "only integer scalar arrays can be converted to a scalar index",
     "output_type": "error",
     "traceback": [
      "\u001b[1;31m---------------------------------------------------------------------------\u001b[0m",
      "\u001b[1;31mTypeError\u001b[0m                                 Traceback (most recent call last)",
      "\u001b[1;32mc:\\Users\\MetBook\\Documents\\UNIVERSITA\\MAGISTRALE\\SD21\\PROGETTO\\FLWR\\peer_reviewed_fl\\notebook.ipynb Cell 7'\u001b[0m in \u001b[0;36m<cell line: 1>\u001b[1;34m()\u001b[0m\n\u001b[1;32m----> <a href='vscode-notebook-cell:/c%3A/Users/MetBook/Documents/UNIVERSITA/MAGISTRALE/SD21/PROGETTO/FLWR/peer_reviewed_fl/notebook.ipynb#ch0000001?line=0'>1</a>\u001b[0m trainset[partitions[\u001b[39m0\u001b[39;49m][\u001b[39m0\u001b[39;49m]]\n",
      "File \u001b[1;32mc:\\Users\\MetBook\\Documents\\UNIVERSITA\\MAGISTRALE\\SD21\\PROGETTO\\FLWR\\peer_reviewed_fl\\envs\\lib\\site-packages\\torchvision\\datasets\\cifar.py:111\u001b[0m, in \u001b[0;36mCIFAR10.__getitem__\u001b[1;34m(self, index)\u001b[0m\n\u001b[0;32m    <a href='file:///c%3A/Users/MetBook/Documents/UNIVERSITA/MAGISTRALE/SD21/PROGETTO/FLWR/peer_reviewed_fl/envs/lib/site-packages/torchvision/datasets/cifar.py?line=102'>103</a>\u001b[0m \u001b[39mdef\u001b[39;00m \u001b[39m__getitem__\u001b[39m(\u001b[39mself\u001b[39m, index: \u001b[39mint\u001b[39m) \u001b[39m-\u001b[39m\u001b[39m>\u001b[39m Tuple[Any, Any]:\n\u001b[0;32m    <a href='file:///c%3A/Users/MetBook/Documents/UNIVERSITA/MAGISTRALE/SD21/PROGETTO/FLWR/peer_reviewed_fl/envs/lib/site-packages/torchvision/datasets/cifar.py?line=103'>104</a>\u001b[0m     \u001b[39m\"\"\"\u001b[39;00m\n\u001b[0;32m    <a href='file:///c%3A/Users/MetBook/Documents/UNIVERSITA/MAGISTRALE/SD21/PROGETTO/FLWR/peer_reviewed_fl/envs/lib/site-packages/torchvision/datasets/cifar.py?line=104'>105</a>\u001b[0m \u001b[39m    Args:\u001b[39;00m\n\u001b[0;32m    <a href='file:///c%3A/Users/MetBook/Documents/UNIVERSITA/MAGISTRALE/SD21/PROGETTO/FLWR/peer_reviewed_fl/envs/lib/site-packages/torchvision/datasets/cifar.py?line=105'>106</a>\u001b[0m \u001b[39m        index (int): Index\u001b[39;00m\n\u001b[1;32m   (...)\u001b[0m\n\u001b[0;32m    <a href='file:///c%3A/Users/MetBook/Documents/UNIVERSITA/MAGISTRALE/SD21/PROGETTO/FLWR/peer_reviewed_fl/envs/lib/site-packages/torchvision/datasets/cifar.py?line=108'>109</a>\u001b[0m \u001b[39m        tuple: (image, target) where target is index of the target class.\u001b[39;00m\n\u001b[0;32m    <a href='file:///c%3A/Users/MetBook/Documents/UNIVERSITA/MAGISTRALE/SD21/PROGETTO/FLWR/peer_reviewed_fl/envs/lib/site-packages/torchvision/datasets/cifar.py?line=109'>110</a>\u001b[0m \u001b[39m    \"\"\"\u001b[39;00m\n\u001b[1;32m--> <a href='file:///c%3A/Users/MetBook/Documents/UNIVERSITA/MAGISTRALE/SD21/PROGETTO/FLWR/peer_reviewed_fl/envs/lib/site-packages/torchvision/datasets/cifar.py?line=110'>111</a>\u001b[0m     img, target \u001b[39m=\u001b[39m \u001b[39mself\u001b[39m\u001b[39m.\u001b[39mdata[index], \u001b[39mself\u001b[39;49m\u001b[39m.\u001b[39;49mtargets[index]\n\u001b[0;32m    <a href='file:///c%3A/Users/MetBook/Documents/UNIVERSITA/MAGISTRALE/SD21/PROGETTO/FLWR/peer_reviewed_fl/envs/lib/site-packages/torchvision/datasets/cifar.py?line=112'>113</a>\u001b[0m     \u001b[39m# doing this so that it is consistent with all other datasets\u001b[39;00m\n\u001b[0;32m    <a href='file:///c%3A/Users/MetBook/Documents/UNIVERSITA/MAGISTRALE/SD21/PROGETTO/FLWR/peer_reviewed_fl/envs/lib/site-packages/torchvision/datasets/cifar.py?line=113'>114</a>\u001b[0m     \u001b[39m# to return a PIL Image\u001b[39;00m\n\u001b[0;32m    <a href='file:///c%3A/Users/MetBook/Documents/UNIVERSITA/MAGISTRALE/SD21/PROGETTO/FLWR/peer_reviewed_fl/envs/lib/site-packages/torchvision/datasets/cifar.py?line=114'>115</a>\u001b[0m     img \u001b[39m=\u001b[39m Image\u001b[39m.\u001b[39mfromarray(img)\n",
      "\u001b[1;31mTypeError\u001b[0m: only integer scalar arrays can be converted to a scalar index"
     ]
    }
   ],
   "source": [
    "trainset[partitions[0][0]]"
   ]
  },
  {
   "cell_type": "code",
   "execution_count": 11,
   "metadata": {},
   "outputs": [
    {
     "data": {
      "text/plain": [
       "<function flwr.dataset.utils.common.partition(x: numpy.ndarray, y: numpy.ndarray, num_partitions: int) -> List[Tuple[numpy.ndarray, numpy.ndarray]]>"
      ]
     },
     "execution_count": 11,
     "metadata": {},
     "output_type": "execute_result"
    }
   ],
   "source": []
  },
  {
   "cell_type": "code",
   "execution_count": 11,
   "metadata": {},
   "outputs": [],
   "source": [
    "from importlib import reload\n",
    "\n",
    "import torch\n",
    "from torch.utils.data.distributed import DistributedSampler\n",
    "from torch.utils.data import DataLoader\n",
    "import numpy as np\n",
    "import flwr as fl\n",
    "\n",
    "from src.centralized.centralized import Net, load_data\n",
    "from src.peer_reviewed import strategy\n",
    "from src.peer_reviewed.prstrategy import PeerReviewStrategy\n",
    "\n",
    "\n",
    "DEVICE = torch.device(\"cuda:0\" if torch.cuda.is_available() else \"cpu\")"
   ]
  },
  {
   "cell_type": "code",
   "execution_count": 3,
   "metadata": {},
   "outputs": [
    {
     "name": "stdout",
     "output_type": "stream",
     "text": [
      "Files already downloaded and verified\n",
      "Files already downloaded and verified\n"
     ]
    }
   ],
   "source": [
    "trainset, testset, _ = load_data()"
   ]
  },
  {
   "cell_type": "code",
   "execution_count": 4,
   "metadata": {},
   "outputs": [
    {
     "data": {
      "text/plain": [
       "50000"
      ]
     },
     "execution_count": 4,
     "metadata": {},
     "output_type": "execute_result"
    }
   ],
   "source": [
    "len(trainset)"
   ]
  },
  {
   "cell_type": "code",
   "execution_count": 5,
   "metadata": {},
   "outputs": [],
   "source": [
    "sampler = DistributedSampler(trainset, num_replicas=10, rank=0, shuffle=True)\n",
    "loader = DataLoader(trainset, shuffle=False, sampler=sampler, batch_size=32)"
   ]
  },
  {
   "cell_type": "code",
   "execution_count": 6,
   "metadata": {},
   "outputs": [
    {
     "data": {
      "text/plain": [
       "torch.Size([32, 3, 32, 32])"
      ]
     },
     "execution_count": 6,
     "metadata": {},
     "output_type": "execute_result"
    }
   ],
   "source": [
    "next(iter(loader))[0].shape"
   ]
  },
  {
   "cell_type": "code",
   "execution_count": 7,
   "metadata": {},
   "outputs": [
    {
     "name": "stdout",
     "output_type": "stream",
     "text": [
      "5000\n"
     ]
    }
   ],
   "source": [
    "total = 0\n",
    "for batch_x, batch_y in loader:\n",
    "    total += len(batch_x)\n",
    "print(total)"
   ]
  },
  {
   "cell_type": "code",
   "execution_count": 8,
   "metadata": {},
   "outputs": [
    {
     "data": {
      "text/plain": [
       "tensor([[[[-0.2863, -0.2941, -0.3020,  ..., -0.3176, -0.2627, -0.3255],\n",
       "          [-0.2235, -0.2549, -0.1373,  ..., -0.2000, -0.2549, -0.1843],\n",
       "          [-0.2078,  0.0196,  0.1059,  ..., -0.1294, -0.1294,  0.0039],\n",
       "          ...,\n",
       "          [-0.7490, -0.8588, -0.8745,  ..., -0.3333, -0.3490, -0.2549],\n",
       "          [-0.4510, -0.4745, -0.4980,  ..., -0.5294, -0.4510, -0.4275],\n",
       "          [-0.2706, -0.2941, -0.2784,  ..., -0.2941, -0.2549, -0.2941]],\n",
       "\n",
       "         [[-0.2863, -0.2863, -0.3020,  ..., -0.3176, -0.2627, -0.3176],\n",
       "          [-0.2157, -0.2471, -0.1373,  ..., -0.1843, -0.2471, -0.1765],\n",
       "          [-0.2078,  0.0275,  0.1059,  ..., -0.0902, -0.1137,  0.0039],\n",
       "          ...,\n",
       "          [-0.7647, -0.8588, -0.8667,  ..., -0.3098, -0.3412, -0.2549],\n",
       "          [-0.4667, -0.4745, -0.4902,  ..., -0.5059, -0.4510, -0.4275],\n",
       "          [-0.2784, -0.2941, -0.2784,  ..., -0.2941, -0.2549, -0.2941]],\n",
       "\n",
       "         [[-0.3098, -0.3255, -0.3098,  ..., -0.3333, -0.2392, -0.3176],\n",
       "          [-0.2471, -0.2863, -0.1451,  ..., -0.1843, -0.2784, -0.2157],\n",
       "          [-0.2314, -0.0118,  0.0902,  ..., -0.0588, -0.1922, -0.0667],\n",
       "          ...,\n",
       "          [-0.7490, -0.8353, -0.8510,  ..., -0.3020, -0.3412, -0.2392],\n",
       "          [-0.4510, -0.4510, -0.4745,  ..., -0.4980, -0.4510, -0.4196],\n",
       "          [-0.2706, -0.2941, -0.2706,  ..., -0.2941, -0.2549, -0.2941]]],\n",
       "\n",
       "\n",
       "        [[[ 0.2549,  0.3020,  0.3647,  ..., -0.6471, -0.2157, -0.3020],\n",
       "          [ 0.2784,  0.3176,  0.3804,  ..., -0.6157, -0.1529, -0.2627],\n",
       "          [ 0.2627,  0.3098,  0.3647,  ..., -0.6078, -0.1373, -0.1686],\n",
       "          ...,\n",
       "          [ 0.2863,  0.8588,  0.9137,  ..., -0.1059, -0.5529, -0.8196],\n",
       "          [ 0.1059,  0.7725,  0.9294,  ..., -0.1765, -0.6471, -0.7882],\n",
       "          [-0.0275,  0.6235,  0.8980,  ..., -0.3412, -0.5608, -0.7255]],\n",
       "\n",
       "         [[ 0.0980,  0.1529,  0.2235,  ..., -0.6784, -0.1843, -0.3412],\n",
       "          [ 0.1137,  0.1686,  0.2235,  ..., -0.6392, -0.1294, -0.3255],\n",
       "          [ 0.1059,  0.1608,  0.2078,  ..., -0.6392, -0.0980, -0.1922],\n",
       "          ...,\n",
       "          [ 0.1608,  0.8588,  0.9137,  ..., -0.2706, -0.6941, -0.8980],\n",
       "          [-0.0510,  0.7412,  0.9373,  ..., -0.3569, -0.7725, -0.8667],\n",
       "          [-0.2078,  0.5843,  0.9059,  ..., -0.5137, -0.7098, -0.8196]],\n",
       "\n",
       "         [[-0.3725, -0.3098, -0.2627,  ..., -0.7725, -0.3176, -0.4980],\n",
       "          [-0.3490, -0.3020, -0.2471,  ..., -0.7412, -0.2706, -0.5059],\n",
       "          [-0.3647, -0.3098, -0.2392,  ..., -0.7333, -0.2392, -0.3725],\n",
       "          ...,\n",
       "          [ 0.0039,  0.8667,  0.9137,  ..., -0.5216, -0.8667, -0.9765],\n",
       "          [-0.2941,  0.7176,  0.9373,  ..., -0.6000, -0.9137, -0.9608],\n",
       "          [-0.4902,  0.5294,  0.9216,  ..., -0.7412, -0.8824, -0.9294]]],\n",
       "\n",
       "\n",
       "        [[[-0.3725, -0.3490, -0.3255,  ...,  0.4667,  0.4745,  0.4667],\n",
       "          [ 0.1529,  0.1451,  0.1686,  ...,  0.5922,  0.5294,  0.3647],\n",
       "          [ 0.4118,  0.3176,  0.2784,  ...,  0.5608,  0.4824,  0.3255],\n",
       "          ...,\n",
       "          [-0.4902, -0.5059, -0.5294,  ...,  0.2392,  0.1608,  0.2471],\n",
       "          [-0.3804, -0.4196, -0.4745,  ...,  0.2157,  0.0510, -0.0510],\n",
       "          [-0.2941, -0.2627, -0.2941,  ...,  0.1608, -0.0824, -0.2784]],\n",
       "\n",
       "         [[-0.5529, -0.5373, -0.5216,  ...,  0.4824,  0.4824,  0.4431],\n",
       "          [ 0.0431,  0.0353,  0.0353,  ...,  0.5216,  0.4353,  0.2314],\n",
       "          [ 0.4667,  0.3569,  0.2941,  ...,  0.5059,  0.4039,  0.2157],\n",
       "          ...,\n",
       "          [-0.4745, -0.4667, -0.5529,  ..., -0.5843, -0.3961, -0.0118],\n",
       "          [-0.3725, -0.3569, -0.4745,  ..., -0.5922, -0.4431, -0.2627],\n",
       "          [-0.2941, -0.2314, -0.2784,  ..., -0.6078, -0.5216, -0.4588]],\n",
       "\n",
       "         [[-0.5843, -0.6000, -0.6235,  ...,  0.4275,  0.4353,  0.4039],\n",
       "          [ 0.0353,  0.0118, -0.0039,  ...,  0.5059,  0.4196,  0.2314],\n",
       "          [ 0.4118,  0.3020,  0.2392,  ...,  0.4824,  0.3882,  0.2078],\n",
       "          ...,\n",
       "          [-0.5529, -0.5294, -0.6078,  ..., -0.6235, -0.5059, -0.1451],\n",
       "          [-0.4824, -0.4510, -0.5373,  ..., -0.6392, -0.5843, -0.4275],\n",
       "          [-0.3882, -0.3176, -0.3569,  ..., -0.6392, -0.6549, -0.6235]]],\n",
       "\n",
       "\n",
       "        ...,\n",
       "\n",
       "\n",
       "        [[[ 0.3961,  0.4039,  0.4118,  ..., -0.9686, -0.9765, -0.9686],\n",
       "          [ 0.4196,  0.4039,  0.4275,  ..., -0.9608, -0.9608, -0.9686],\n",
       "          [ 0.3804,  0.3961,  0.4196,  ..., -0.9529, -0.9529, -0.9608],\n",
       "          ...,\n",
       "          [-0.3569, -0.2157, -0.1294,  ..., -0.3333, -0.3569, -0.4510],\n",
       "          [-0.5686, -0.4667, -0.2235,  ..., -0.3255, -0.3804, -0.4824],\n",
       "          [-0.6627, -0.6392, -0.4353,  ..., -0.3961, -0.4353, -0.5765]],\n",
       "\n",
       "         [[ 0.3098,  0.3255,  0.3176,  ..., -0.9686, -0.9765, -0.9686],\n",
       "          [ 0.3255,  0.3255,  0.3412,  ..., -0.9608, -0.9608, -0.9686],\n",
       "          [ 0.2863,  0.3020,  0.3255,  ..., -0.9608, -0.9529, -0.9608],\n",
       "          ...,\n",
       "          [-0.4588, -0.2706, -0.1059,  ..., -0.4431, -0.4667, -0.5608],\n",
       "          [-0.5216, -0.4745, -0.2392,  ..., -0.4353, -0.4980, -0.5922],\n",
       "          [-0.5529, -0.5608, -0.4980,  ..., -0.5137, -0.5608, -0.6784]],\n",
       "\n",
       "         [[-0.2157, -0.2000, -0.2471,  ..., -0.9686, -0.9765, -0.9686],\n",
       "          [-0.1843, -0.2549, -0.2471,  ..., -0.9608, -0.9608, -0.9686],\n",
       "          [-0.2392, -0.2157, -0.2157,  ..., -0.9529, -0.9529, -0.9686],\n",
       "          ...,\n",
       "          [-0.6157, -0.5137, -0.3412,  ..., -0.6784, -0.6941, -0.7569],\n",
       "          [-0.6627, -0.6549, -0.4745,  ..., -0.6863, -0.7333, -0.7804],\n",
       "          [-0.6706, -0.6941, -0.7098,  ..., -0.7412, -0.7725, -0.8353]]],\n",
       "\n",
       "\n",
       "        [[[ 0.9922,  0.9765,  0.9843,  ...,  0.9843,  0.9843,  0.9843],\n",
       "          [ 1.0000,  1.0000,  1.0000,  ...,  1.0000,  1.0000,  1.0000],\n",
       "          [ 1.0000,  0.9922,  0.9922,  ...,  0.9922,  0.9922,  0.9922],\n",
       "          ...,\n",
       "          [ 0.5451,  0.4902,  0.4353,  ...,  0.8745,  0.9843,  0.9922],\n",
       "          [ 0.6235,  0.6314,  0.6627,  ...,  0.9529,  1.0000,  1.0000],\n",
       "          [ 0.8118,  0.8667,  0.9216,  ...,  0.9843,  0.9765,  0.9765]],\n",
       "\n",
       "         [[ 0.9922,  0.9765,  0.9843,  ...,  0.9843,  0.9843,  0.9843],\n",
       "          [ 1.0000,  1.0000,  1.0000,  ...,  1.0000,  1.0000,  1.0000],\n",
       "          [ 1.0000,  0.9922,  0.9922,  ...,  0.9922,  0.9922,  0.9922],\n",
       "          ...,\n",
       "          [ 0.3569,  0.3176,  0.2863,  ...,  0.7333,  0.9451,  0.9843],\n",
       "          [ 0.4510,  0.4745,  0.5216,  ...,  0.8510,  0.9608,  0.9922],\n",
       "          [ 0.7333,  0.8039,  0.8745,  ...,  0.9608,  0.9608,  0.9765]],\n",
       "\n",
       "         [[ 0.9922,  0.9765,  0.9843,  ...,  0.9843,  0.9843,  0.9843],\n",
       "          [ 1.0000,  1.0000,  1.0000,  ...,  1.0000,  1.0000,  1.0000],\n",
       "          [ 1.0000,  0.9922,  0.9922,  ...,  0.9922,  0.9922,  0.9922],\n",
       "          ...,\n",
       "          [ 0.2392,  0.2078,  0.1765,  ...,  0.7333,  0.9529,  0.9922],\n",
       "          [ 0.3333,  0.3647,  0.4196,  ...,  0.8588,  0.9843,  1.0000],\n",
       "          [ 0.6627,  0.7412,  0.8196,  ...,  0.9451,  0.9686,  0.9843]]],\n",
       "\n",
       "\n",
       "        [[[ 0.1451,  0.1529,  0.1765,  ...,  0.3569,  0.2941,  0.3020],\n",
       "          [ 0.1843,  0.1843,  0.2078,  ...,  0.3333,  0.1922, -0.0667],\n",
       "          [ 0.1922,  0.1922,  0.2157,  ...,  0.6392,  0.5608,  0.1765],\n",
       "          ...,\n",
       "          [ 0.2078,  0.2157,  0.1843,  ...,  0.7490,  0.7490,  0.7412],\n",
       "          [ 0.2392,  0.2314,  0.1137,  ...,  0.7333,  0.7412,  0.7333],\n",
       "          [ 0.2235,  0.1922,  0.2706,  ...,  0.7255,  0.7255,  0.7333]],\n",
       "\n",
       "         [[-0.9373, -0.9294, -0.9216,  ...,  0.0745,  0.0118,  0.0353],\n",
       "          [-0.9294, -0.9216, -0.9137,  ...,  0.0980, -0.0431, -0.3020],\n",
       "          [-0.9216, -0.9216, -0.9216,  ...,  0.4431,  0.3725, -0.0118],\n",
       "          ...,\n",
       "          [-0.9451, -0.9373, -0.9451,  ...,  0.6157,  0.6157,  0.6078],\n",
       "          [-0.9608, -0.9608, -0.8824,  ...,  0.6000,  0.6078,  0.6000],\n",
       "          [-0.9451, -0.9529, -0.4980,  ...,  0.5922,  0.5922,  0.6000]],\n",
       "\n",
       "         [[-0.9059, -0.8902, -0.8824,  ..., -0.3647, -0.3647, -0.3255],\n",
       "          [-0.8902, -0.8745, -0.8667,  ..., -0.2549, -0.3490, -0.5608],\n",
       "          [-0.8824, -0.8745, -0.8667,  ...,  0.1686,  0.1373, -0.1922],\n",
       "          ...,\n",
       "          [-0.8902, -0.8745, -0.8902,  ...,  0.4118,  0.4118,  0.4039],\n",
       "          [-0.8745, -0.8667, -0.8588,  ...,  0.3961,  0.4039,  0.3961],\n",
       "          [-0.8667, -0.8745, -0.5451,  ...,  0.3882,  0.3882,  0.3961]]]])"
      ]
     },
     "execution_count": 8,
     "metadata": {},
     "output_type": "execute_result"
    }
   ],
   "source": [
    "batch_x"
   ]
  },
  {
   "cell_type": "code",
   "execution_count": 9,
   "metadata": {},
   "outputs": [
    {
     "name": "stdout",
     "output_type": "stream",
     "text": [
      "[519. 514. 520. 476. 509. 490. 520. 497. 463. 492.]\n"
     ]
    }
   ],
   "source": [
    "total = np.zeros(10)\n",
    "for batch_x, batch_y in loader:\n",
    "    total += np.bincount(batch_y.numpy(), minlength=10)\n",
    "print(total)"
   ]
  },
  {
   "cell_type": "code",
   "execution_count": 10,
   "metadata": {},
   "outputs": [],
   "source": [
    "trainloader = DataLoader(trainset, shuffle=True, batch_size=32)\n",
    "testloader = DataLoader(testset, shuffle=True, batch_size=32)"
   ]
  },
  {
   "cell_type": "code",
   "execution_count": 11,
   "metadata": {},
   "outputs": [],
   "source": [
    "net = Net().to(DEVICE)"
   ]
  },
  {
   "cell_type": "code",
   "execution_count": 12,
   "metadata": {},
   "outputs": [],
   "source": [
    "criterion = torch.nn.CrossEntropyLoss(reduction=\"sum\")\n",
    "correct, total, loss = 0, 0, 0.0\n",
    "net.eval()\n",
    "with torch.no_grad():\n",
    "    for images, labels in testloader:\n",
    "        images, labels = images.to(DEVICE), labels.to(DEVICE)\n",
    "        outputs = net(images)\n",
    "        loss += criterion(outputs, labels).item()\n",
    "        _, predicted = torch.max(outputs.data, 1)\n",
    "        total += labels.size(0)\n",
    "        correct += (predicted == labels).sum().item()\n",
    "loss /= len(testloader.dataset)\n",
    "accuracy = correct / total"
   ]
  },
  {
   "cell_type": "code",
   "execution_count": 13,
   "metadata": {},
   "outputs": [
    {
     "data": {
      "text/plain": [
       "2.305141393661499"
      ]
     },
     "execution_count": 13,
     "metadata": {},
     "output_type": "execute_result"
    }
   ],
   "source": [
    "loss"
   ]
  },
  {
   "cell_type": "code",
   "execution_count": 14,
   "metadata": {},
   "outputs": [
    {
     "data": {
      "text/plain": [
       "0.0921"
      ]
     },
     "execution_count": 14,
     "metadata": {},
     "output_type": "execute_result"
    }
   ],
   "source": [
    "accuracy"
   ]
  },
  {
   "cell_type": "code",
   "execution_count": 16,
   "metadata": {},
   "outputs": [
    {
     "data": {
      "text/plain": [
       "True"
      ]
     },
     "execution_count": 16,
     "metadata": {},
     "output_type": "execute_result"
    }
   ],
   "source": [
    "reload(strategy)\n",
    "isinstance(strategy.PeerReviewedFedAvg(), fl.server.strategy.Strategy)"
   ]
  },
  {
   "cell_type": "code",
   "execution_count": null,
   "metadata": {},
   "outputs": [],
   "source": []
  }
 ],
 "metadata": {
  "interpreter": {
   "hash": "567eb23278dc48458ee3370825b5f7f3a84494f863de725a2aacc447ea9c55e5"
  },
  "kernelspec": {
   "display_name": "Python 3.8.13 (conda)",
   "language": "python",
   "name": "python3"
  },
  "language_info": {
   "codemirror_mode": {
    "name": "ipython",
    "version": 3
   },
   "file_extension": ".py",
   "mimetype": "text/x-python",
   "name": "python",
   "nbconvert_exporter": "python",
   "pygments_lexer": "ipython3",
   "version": "3.8.13"
  },
  "orig_nbformat": 4
 },
 "nbformat": 4,
 "nbformat_minor": 2
}
