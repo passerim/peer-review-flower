{
  "cells": [
    {
      "cell_type": "markdown",
      "metadata": {
        "id": "cz71fPGrpRiQ"
      },
      "source": [
        "# **Federated Learning with (PeerReview-)Flower and FedAvg**"
      ]
    },
    {
      "cell_type": "markdown",
      "metadata": {
        "id": "D4KiTMTpiort"
      },
      "source": [
        "### Installing dependencies\n",
        "\n",
        "First, we install the necessary packages:"
      ]
    },
    {
      "cell_type": "code",
      "execution_count": null,
      "metadata": {
        "id": "9PAxbNFt6in6"
      },
      "outputs": [],
      "source": [
        "!pip install git+https://github.com/passerim/peer-reviewed-flower.git"
      ]
    },
    {
      "cell_type": "markdown",
      "metadata": {
        "id": "abtAKdBl6in6"
      },
      "source": [
        "Now that we have all dependencies installed, we can import everything we need for this tutorial:"
      ]
    },
    {
      "cell_type": "code",
      "execution_count": 1,
      "metadata": {},
      "outputs": [],
      "source": [
        "import os; os.chdir(\"../..\"); import prflwr; os.chdir(\"experiments/fedls\")"
      ]
    },
    {
      "cell_type": "code",
      "execution_count": 2,
      "metadata": {
        "id": "eTrCL2FmC5U5"
      },
      "outputs": [],
      "source": [
        "import os\n",
        "import random\n",
        "from collections import OrderedDict\n",
        "from typing import Dict, List, Optional, Tuple\n",
        "\n",
        "import flwr as fl\n",
        "import matplotlib.pyplot as plt\n",
        "import numpy as np\n",
        "import torch\n",
        "import torch.nn as nn\n",
        "import torch.nn.functional as F\n",
        "import torchvision\n",
        "from prflwr.simulation import start_simulation\n",
        "from prflwr.utils import non_iid_partitions\n",
        "from torch.utils.data import DataLoader, random_split, Subset\n",
        "from torchvision import transforms"
      ]
    },
    {
      "cell_type": "markdown",
      "metadata": {
        "id": "TllM4BjqxRrG"
      },
      "source": [
        "## Setup\n",
        "\n",
        "Set useful constants, experiments settings and random seed."
      ]
    },
    {
      "cell_type": "code",
      "execution_count": 3,
      "metadata": {
        "id": "RV_Mu96KhHBu"
      },
      "outputs": [],
      "source": [
        "def set_seed(seed: int):\n",
        "    random.seed(seed)\n",
        "    np.random.seed(seed)\n",
        "    torch.manual_seed(seed)\n",
        "    torch.cuda.manual_seed(seed)\n",
        "    torch.backends.cudnn.deterministic = True\n",
        "    torch.backends.cudnn.benchmark = False\n",
        "    os.environ[\"PYTHONHASHSEED\"] = str(seed)"
      ]
    },
    {
      "cell_type": "code",
      "execution_count": 4,
      "metadata": {
        "colab": {
          "base_uri": "https://localhost:8080/"
        },
        "id": "qxsPYpBPhOvN",
        "outputId": "02477350-6564-4f9b-e9b2-d676c5c0c0d7"
      },
      "outputs": [
        {
          "name": "stdout",
          "output_type": "stream",
          "text": [
            "Training for 30 rounds\n",
            "Training on cpu\n"
          ]
        }
      ],
      "source": [
        "# Setting random seed for reproducibility\n",
        "SEED = 123\n",
        "set_seed(SEED)\n",
        "\n",
        "# Experimental settings\n",
        "DATASET = \"CIFAR10\"  # admissible values: \"CIFAR10\" or \"CIFAR100\"\n",
        "NUM_ROUNDS = 30\n",
        "NUM_CLIENTS = 100\n",
        "LOCAL_EPOCHS = 5\n",
        "BATCH_SIZE = 50\n",
        "FRACTION_FIT = 0.1\n",
        "FRACTION_EVAL = 0  # Model performance will be evaluated in a centralized way\n",
        "print(f\"Training for {NUM_ROUNDS} rounds\")\n",
        "\n",
        "# Device to use for training and evaluation\n",
        "DEVICE = torch.device(\"cpu\")\n",
        "print(f\"Training on {DEVICE}\")"
      ]
    },
    {
      "cell_type": "markdown",
      "metadata": {
        "id": "JVcgAAiaihnx"
      },
      "source": [
        "## Data loading\n",
        "\n",
        "Let's now load the CIFAR-10 (or CIFAR-100) training and test set, partition them into `NUM_CLIENTS` smaller datasets (each split into training and validation set), and wrap everything in their own `DataLoader`. Test data will be used to evaluate model's performance in a centralized way."
      ]
    },
    {
      "cell_type": "code",
      "execution_count": 5,
      "metadata": {
        "colab": {
          "base_uri": "https://localhost:8080/"
        },
        "id": "J4Em7BPNTXeX",
        "outputId": "8c158396-8531-43e8-98b6-a0f78e54bfbd"
      },
      "outputs": [
        {
          "name": "stdout",
          "output_type": "stream",
          "text": [
            "Files already downloaded and verified\n",
            "Files already downloaded and verified\n"
          ]
        }
      ],
      "source": [
        "def load_datasets(\n",
        "    num_clients: int,\n",
        "    dataset: str = \"CIFAR10\",\n",
        "    src: str = \"./data\",\n",
        "    iid: bool = True,\n",
        "    concentration: float = 1,\n",
        "    use_augmentation: bool = True,\n",
        ") -> Tuple[List[DataLoader], List[DataLoader], DataLoader]:\n",
        "    if dataset not in [\"CIFAR10\", \"CIFAR100\"]:\n",
        "        raise ValueError(\n",
        "            \"Unknown dataset! Admissible values are: 'CIFAR10' or 'CIFAR100'.\"\n",
        "        )\n",
        "\n",
        "    # Download and transform CIFAR dataset (train and test)\n",
        "    augmentation = (\n",
        "        [\n",
        "            transforms.RandomCrop(24),\n",
        "            transforms.RandomHorizontalFlip(),\n",
        "        ]\n",
        "        if use_augmentation\n",
        "        else []\n",
        "    )\n",
        "    transform = [\n",
        "        transforms.CenterCrop(24),\n",
        "        transforms.ToTensor(),\n",
        "        transforms.Normalize((0.5, 0.5, 0.5), (0.5, 0.5, 0.5)),\n",
        "    ]\n",
        "    trainset = getattr(torchvision.datasets, dataset)(\n",
        "        src,\n",
        "        train=True,\n",
        "        download=True,\n",
        "        transform=transforms.Compose([*augmentation, *transform]),\n",
        "    )\n",
        "    testset = getattr(torchvision.datasets, dataset)(\n",
        "        src,\n",
        "        train=False,\n",
        "        download=True,\n",
        "        transform=transforms.Compose([*transform]),\n",
        "    )\n",
        "\n",
        "    # Split training set into `num_clients` partitions to simulate different local datasets\n",
        "    if not iid:\n",
        "        targets = np.array(trainset.targets)\n",
        "        idxs = np.array(range(len(targets)))\n",
        "        dataset = [idxs, targets]\n",
        "        train_partitions = non_iid_partitions(\n",
        "            dataset,\n",
        "            num_partitions=num_clients,\n",
        "            concentration=concentration,\n",
        "        )\n",
        "        subsets = list(map(lambda p: Subset(trainset, p), train_partitions))\n",
        "    else:\n",
        "        partition_size = len(trainset) // num_clients\n",
        "        lengths = [partition_size] * num_clients\n",
        "        subsets = random_split(trainset, lengths, torch.Generator().manual_seed(42))\n",
        "\n",
        "    # Split each partition into train/val and create DataLoader\n",
        "    trainloaders = []\n",
        "    valloaders = []\n",
        "    for ds in subsets:\n",
        "        len_val = len(ds) // 10  #  use 10% of client's data as validation set\n",
        "        len_train = len(ds) - len_val\n",
        "        lengths = [len_train, len_val]\n",
        "        ds_train, ds_val = random_split(ds, lengths, torch.Generator().manual_seed(42))\n",
        "        trainloaders.append(DataLoader(ds_train, batch_size=BATCH_SIZE, shuffle=True))\n",
        "        valloaders.append(DataLoader(ds_val, batch_size=BATCH_SIZE))\n",
        "    testloader = DataLoader(testset, batch_size=BATCH_SIZE)\n",
        "    return trainloaders, valloaders, testloader\n",
        "\n",
        "\n",
        "trainloaders, valloaders, testloader = load_datasets(NUM_CLIENTS, src=\"../../data/cifar10\")"
      ]
    },
    {
      "cell_type": "markdown",
      "metadata": {
        "id": "OBp7kB4G0sPB"
      },
      "source": [
        "## Model training/evaluation\n",
        "\n",
        "Let's continue with the usual model definition (including `set_parameters` and `get_parameters`), training and test functions:"
      ]
    },
    {
      "cell_type": "code",
      "execution_count": 14,
      "metadata": {
        "id": "2X3cVBXMpP6w"
      },
      "outputs": [],
      "source": [
        "class Net(nn.Module):\n",
        "    def __init__(self, num_classes: int) -> None:\n",
        "        super(Net, self).__init__()\n",
        "        self.conv1 = nn.Conv2d(3, 8, 5, 1, 1)\n",
        "        self.pool = nn.MaxPool2d(2, 2)\n",
        "        self.conv2 = nn.Conv2d(8, 16, 5, 1, 1)\n",
        "        self.fc1 = nn.Linear(16 * 4 * 4, 128)\n",
        "        self.fc2 = nn.Linear(128, 64)\n",
        "        self.fc3 = nn.Linear(64, num_classes)\n",
        "\n",
        "    def forward(self, x: torch.Tensor) -> torch.Tensor:\n",
        "        x = self.pool(F.relu(self.conv1(x)))\n",
        "        x = self.pool(F.relu(self.conv2(x)))\n",
        "        x = x.view(-1, 16 * 4 * 4)\n",
        "        x = F.relu(self.fc1(x))\n",
        "        x = F.relu(self.fc2(x))\n",
        "        x = self.fc3(x)\n",
        "        return x\n",
        "\n",
        "\n",
        "def get_parameters(net) -> List[np.ndarray]:\n",
        "    return [val.cpu().numpy() for _, val in net.state_dict().items()]\n",
        "\n",
        "\n",
        "def set_parameters(net, parameters: List[np.ndarray]):\n",
        "    params_dict = zip(net.state_dict().keys(), parameters)\n",
        "    state_dict = OrderedDict({k: torch.Tensor(v) for k, v in params_dict})\n",
        "    net.load_state_dict(state_dict, strict=True)\n",
        "\n",
        "\n",
        "def train(net, trainloader, epochs=1, lr=0.01):\n",
        "    \"\"\"Train the network on the training set.\"\"\"\n",
        "    criterion = torch.nn.CrossEntropyLoss()\n",
        "    optimizer = torch.optim.SGD(net.parameters(), lr=lr)\n",
        "    net.train()\n",
        "    for epoch in range(epochs):\n",
        "        correct, total, epoch_loss = 0, 0, 0.0\n",
        "        for batch, (images, labels) in enumerate(trainloader):\n",
        "            images, labels = images.to(DEVICE), labels.to(DEVICE)\n",
        "            optimizer.zero_grad()\n",
        "            outputs = net(images)\n",
        "            loss = criterion(outputs, labels)\n",
        "            loss.backward()\n",
        "            optimizer.step()\n",
        "            # Metrics\n",
        "            epoch_loss += loss.item()\n",
        "            total += labels.size(0)\n",
        "            correct += (torch.max(outputs.data, 1)[1] == labels).sum().item()\n",
        "        epoch_loss /= (batch + 1)\n",
        "        epoch_acc = correct / total\n",
        "        print(f\"Epoch {epoch+1}: train loss {epoch_loss}, accuracy {epoch_acc}\")\n",
        "\n",
        "\n",
        "def test(net, testloader):\n",
        "    \"\"\"Evaluate the network on the entire test set.\"\"\"\n",
        "    criterion = torch.nn.CrossEntropyLoss()\n",
        "    correct, total, loss = 0, 0, 0.0\n",
        "    net.eval()\n",
        "    with torch.no_grad():\n",
        "        for batch, (images, labels) in enumerate(testloader):\n",
        "            images, labels = images.to(DEVICE), labels.to(DEVICE)\n",
        "            outputs = net(images)\n",
        "            loss += criterion(outputs, labels).item()\n",
        "            _, predicted = torch.max(outputs.data, 1)\n",
        "            total += labels.size(0)\n",
        "            correct += (predicted == labels).sum().item()\n",
        "    loss /= (batch + 1)\n",
        "    accuracy = correct / total\n",
        "    return loss, accuracy"
      ]
    },
    {
      "cell_type": "markdown",
      "metadata": {
        "id": "FZlzx1tbdnGz"
      },
      "source": [
        "Let's check model's correctness, then print some info about the datasets and splits."
      ]
    },
    {
      "cell_type": "code",
      "execution_count": 15,
      "metadata": {
        "colab": {
          "base_uri": "https://localhost:8080/"
        },
        "id": "QQmFLwyrcZ4U",
        "outputId": "8375ef11-5fbd-410e-c404-57d6740cd75e"
      },
      "outputs": [
        {
          "name": "stdout",
          "output_type": "stream",
          "text": [
            "Model parameters: 45626\n",
            "Client's trainset size: 450\n",
            "Client's validation set size: 50\n",
            "Server's testset size: 10000\n"
          ]
        }
      ],
      "source": [
        "# Create an instance of the model\n",
        "NUM_CLASSES = len(np.unique(testloader.dataset.targets))\n",
        "net = Net(NUM_CLASSES).to(DEVICE)\n",
        "with torch.no_grad():\n",
        "    assert net(torch.randn((3, 24, 24), device=DEVICE)).shape == torch.Size(\n",
        "        [1, NUM_CLASSES]\n",
        "    )\n",
        "\n",
        "# Print some stats about the model and the data\n",
        "print(\"Model parameters:\", sum(p.numel() for p in net.parameters() if p.requires_grad))\n",
        "print(\"Client's trainset size:\", len(trainloaders[0].dataset))\n",
        "print(\"Client's validation set size:\", len(valloaders[0].dataset))\n",
        "print(\"Server's testset size:\", len(testloader.dataset))"
      ]
    },
    {
      "cell_type": "markdown",
      "metadata": {
        "id": "-yW_cnCapDN9"
      },
      "source": [
        "## Flower client\n",
        "\n",
        "To implement the Flower client, we create a subclass of `flwr.client.NumPyClient` and implement the three methods `get_parameters`, `fit`, and `evaluate`. Here, we also pass the `cid` to the client and use it log additional details."
      ]
    },
    {
      "attachments": {},
      "cell_type": "markdown",
      "metadata": {
        "id": "1lCf3oljdClM"
      },
      "source": [
        "### Sending/receiving arbitrary values to/from clients\n",
        "\n",
        "In some situations, we want to dinamically configure client side training and evaluation from the server-side, for example by setting the learning rate or the local epochs. Flower provides a way to send configuration values from the server to the clients using a dictionary. Clients receive values from the server through the `config` parameter and can read values from this dictionary."
      ]
    },
    {
      "cell_type": "code",
      "execution_count": 16,
      "metadata": {
        "id": "ZH3f2rt7h-Ih"
      },
      "outputs": [],
      "source": [
        "class FlowerClient(fl.client.NumPyClient):\n",
        "    def __init__(self, cid, net, trainloader, valloader):\n",
        "        self.cid = cid\n",
        "        self.net = net\n",
        "        self.trainloader = trainloader\n",
        "        self.valloader = valloader\n",
        "\n",
        "    def get_parameters(self, config):\n",
        "        print(f\"[Client {self.cid}] get_parameters\")\n",
        "        return get_parameters(self.net)\n",
        "\n",
        "    def fit(self, parameters, config):\n",
        "        # Read values from config\n",
        "        server_round = config[\"server_round\"]\n",
        "        local_epochs = config[\"local_epochs\"]\n",
        "        learning_rate = config[\"learning_rate\"]\n",
        "        # Use values provided by the config\n",
        "        print(f\"[Client {self.cid}, round {server_round}] fit, config: {config}\")\n",
        "        set_parameters(self.net, parameters)\n",
        "        train(self.net, self.trainloader, local_epochs, learning_rate)\n",
        "        return get_parameters(self.net), len(self.trainloader), {}\n",
        "\n",
        "    def evaluate(self, parameters, config):\n",
        "        print(f\"[Client {self.cid}] evaluate, config: {config}\")\n",
        "        set_parameters(self.net, parameters)\n",
        "        loss, accuracy = test(self.net, self.valloader)\n",
        "        return float(loss), len(self.valloader), {\"accuracy\": float(accuracy)}\n",
        "\n",
        "\n",
        "def client_fn(cid) -> FlowerClient:\n",
        "    net = Net(NUM_CLASSES).to(DEVICE)\n",
        "    trainloader = trainloaders[int(cid)]\n",
        "    valloader = valloaders[int(cid)]\n",
        "    return FlowerClient(cid, net, trainloader, valloader)"
      ]
    },
    {
      "attachments": {},
      "cell_type": "markdown",
      "metadata": {
        "id": "F8eKOYYsix3W"
      },
      "source": [
        "We can send the config dictionary from the server to the clients providing a function to the strategy that gets called every round of federated learning."
      ]
    },
    {
      "cell_type": "code",
      "execution_count": 17,
      "metadata": {
        "id": "wlqLKGdJgVRg"
      },
      "outputs": [],
      "source": [
        "def fit_config(server_round: int):\n",
        "    # os.system(\"rm -r /tmp/ray\")\n",
        "    config = {\n",
        "        \"server_round\": server_round,  # The current round of federated learning\n",
        "        \"local_epochs\":  LOCAL_EPOCHS,\n",
        "        \"learning_rate\": 0.25 * (0.99 ** (server_round - 1)),\n",
        "    }\n",
        "    return config"
      ]
    },
    {
      "attachments": {},
      "cell_type": "markdown",
      "metadata": {
        "id": "axzXSMtlfhXU"
      },
      "source": [
        "## Customizing the FedAvg strategy\n",
        "\n",
        "The strategy encapsulates the federated learning algorithm, in this notebook we will use the standard version of FedAvg. We will also customize the parameters initilization of the global model and the centralized model evaluation."
      ]
    },
    {
      "attachments": {},
      "cell_type": "markdown",
      "metadata": {
        "id": "p6FHRf8HrbzV"
      },
      "source": [
        "### Server-side parameter **initialization**\n",
        "\n",
        "Flower, by default, initializes the global model by asking one random client for the initial parameters, however when more control on the initialization is needed passing `initial_parameters` to the `FedAvg` strategy prevents Flower from asking one of the clients for the initial parameters."
      ]
    },
    {
      "cell_type": "code",
      "execution_count": 18,
      "metadata": {
        "id": "50Y2yxJOjw4z"
      },
      "outputs": [],
      "source": [
        "initial_parameters = fl.common.ndarrays_to_parameters(get_parameters(Net(NUM_CLASSES)))"
      ]
    },
    {
      "attachments": {},
      "cell_type": "markdown",
      "metadata": {
        "id": "wt3_SmQKnpRO"
      },
      "source": [
        "### Server-side parameter **evaluation**\n",
        "\n",
        "With Flower, we can evaluate the aggregated model on the server-side or on the client-side. Centralized evaluation is conceptually simpler: if there is a server-side dataset that can be used for evaluation purposes, then we can evaluate the newly aggregated model after each round of training without having to send the model to clients."
      ]
    },
    {
      "cell_type": "code",
      "execution_count": 19,
      "metadata": {
        "id": "MDovnUvsn7if"
      },
      "outputs": [],
      "source": [
        "# The `evaluate` function will be by Flower called after every round\n",
        "def evaluate(\n",
        "    server_round: int, parameters: fl.common.NDArrays, config: Dict[str, fl.common.Scalar]\n",
        ") -> Optional[Tuple[float, Dict[str, fl.common.Scalar]]]:\n",
        "    net = Net(NUM_CLASSES).to(DEVICE)\n",
        "    set_parameters(net, parameters)  # Update model with the latest parameters\n",
        "    loss, accuracy = test(net, testloader)\n",
        "    print(f\"Server-side evaluation loss {loss} / accuracy {accuracy}\")\n",
        "    return loss, {\"accuracy\": accuracy}"
      ]
    },
    {
      "attachments": {},
      "cell_type": "markdown",
      "metadata": {
        "id": "POBApsmwuCx2"
      },
      "source": [
        "## Running federated learning\n",
        "\n",
        "Let's run a federated learning experiment with a large number of clients. We have 100 partitions, each holding 450 training and 50 validation examples. We configure the clients to perform 5 local training epochs. The federated learning simulation is started by the function `start_simulation`, in this case we will use the sequential simulation implemented in PeerReview-Flower. The `start_simulation` function accepts a number of arguments:\n",
        "* `client_fn` is used to create `FlowerClient` instances,\n",
        "* the number of clients to simulate is specified by `num_clients`,\n",
        "* the number of rounds `num_rounds` is encapsulated in a `flwr.server.ServerConfig`,\n",
        "* `strategy` is used to specify the custom strategy we configured above."
      ]
    },
    {
      "cell_type": "code",
      "execution_count": 20,
      "metadata": {
        "colab": {
          "base_uri": "https://localhost:8080/"
        },
        "id": "zVTrw7OsttE7",
        "outputId": "0e3f799a-d895-4346-b7d5-7bbc09e49d22"
      },
      "outputs": [
        {
          "name": "stderr",
          "output_type": "stream",
          "text": [
            "INFO flower 2023-01-02 13:01:57,923 | app.py:95 | Starting Flower simulation, config: ServerConfig(num_rounds=30, round_timeout=None)\n",
            "INFO flower 2023-01-02 13:01:58,059 | server.py:86 | Initializing global parameters\n",
            "INFO flower 2023-01-02 13:01:58,060 | server.py:266 | Using initial parameters provided by strategy\n",
            "INFO flower 2023-01-02 13:01:58,061 | server.py:88 | Evaluating initial parameters\n",
            "INFO flower 2023-01-02 13:02:00,795 | server.py:91 | initial parameters (loss, other metrics): 2.30655566573143, {'accuracy': 0.1}\n",
            "INFO flower 2023-01-02 13:02:00,796 | server.py:101 | FL starting\n",
            "DEBUG flower 2023-01-02 13:02:00,797 | server.py:215 | fit_round 1: strategy sampled 10 clients (out of 100)\n"
          ]
        },
        {
          "name": "stdout",
          "output_type": "stream",
          "text": [
            "Server-side evaluation loss 2.30655566573143 / accuracy 0.1\n",
            "[Client 48, round 1] fit, config: {'server_round': 1, 'local_epochs': 5, 'learning_rate': 0.25}\n",
            "[Client 47, round 1] fit, config: {'server_round': 1, 'local_epochs': 5, 'learning_rate': 0.25}\n",
            "[Client 8, round 1] fit, config: {'server_round': 1, 'local_epochs': 5, 'learning_rate': 0.25}\n",
            "[Client 37, round 1] fit, config: {'server_round': 1, 'local_epochs': 5, 'learning_rate': 0.25}\n",
            "[Client 15, round 1] fit, config: {'server_round': 1, 'local_epochs': 5, 'learning_rate': 0.25}\n",
            "[Client 33, round 1] fit, config: {'server_round': 1, 'local_epochs': 5, 'learning_rate': 0.25}\n",
            "[Client 64, round 1] fit, config: {'server_round': 1, 'local_epochs': 5, 'learning_rate': 0.25}\n",
            "[Client 77, round 1] fit, config: {'server_round': 1, 'local_epochs': 5, 'learning_rate': 0.25}\n",
            "[Client 41, round 1] fit, config: {'server_round': 1, 'local_epochs': 5, 'learning_rate': 0.25}\n",
            "[Client 7, round 1] fit, config: {'server_round': 1, 'local_epochs': 5, 'learning_rate': 0.25}\n",
            "Epoch 1: train loss 2.3115269343058267, accuracy 0.09111111111111111\n",
            "Epoch 1: train loss 2.3012457423739963, accuracy 0.11555555555555555\n",
            "Epoch 1: train loss 2.307942416932848, accuracy 0.08222222222222222\n",
            "Epoch 1: train loss 2.2983626789516873, accuracy 0.10888888888888888\n",
            "Epoch 1: train loss 2.305410861968994, accuracy 0.09555555555555556\n",
            "Epoch 1: train loss 2.309536933898926, accuracy 0.08444444444444445\n",
            "Epoch 1: train loss 2.304082234700521, accuracy 0.09555555555555556\n",
            "Epoch 1: train loss 2.3061263826158314, accuracy 0.1111111111111111\n",
            "Epoch 1: train loss 2.3099293973710804, accuracy 0.08444444444444445\n",
            "Epoch 1: train loss 2.310855415132311, accuracy 0.07555555555555556\n",
            "Epoch 2: train loss 2.3019507196214466, accuracy 0.10888888888888888\n",
            "Epoch 2: train loss 2.29146311018202, accuracy 0.14222222222222222\n",
            "Epoch 2: train loss 2.3019707997639975, accuracy 0.10444444444444445\n",
            "Epoch 2: train loss 2.2946685949961343, accuracy 0.1\n",
            "Epoch 2: train loss 2.3002374437120228, accuracy 0.1111111111111111\n",
            "Epoch 2: train loss 2.2965102990468345, accuracy 0.1\n",
            "Epoch 2: train loss 2.2963443862067328, accuracy 0.11777777777777777\n",
            "Epoch 2: train loss 2.3029509915245905, accuracy 0.08888888888888889\n",
            "Epoch 2: train loss 2.2984788947635226, accuracy 0.09777777777777778\n",
            "Epoch 2: train loss 2.2935801876915827, accuracy 0.11777777777777777\n",
            "Epoch 3: train loss 2.2921343909369574, accuracy 0.1511111111111111\n",
            "Epoch 3: train loss 2.2805013391706677, accuracy 0.14222222222222222\n",
            "Epoch 3: train loss 2.2924676736195884, accuracy 0.14222222222222222\n",
            "Epoch 3: train loss 2.292513476477729, accuracy 0.12222222222222222\n",
            "Epoch 3: train loss 2.2904126114315457, accuracy 0.13555555555555557\n",
            "Epoch 3: train loss 2.2778404818640814, accuracy 0.15333333333333332\n",
            "Epoch 3: train loss 2.275615109337701, accuracy 0.14222222222222222\n",
            "Epoch 3: train loss 2.281746122572157, accuracy 0.14888888888888888\n",
            "Epoch 3: train loss 2.2881285084618463, accuracy 0.13777777777777778\n",
            "Epoch 3: train loss 2.2769716845618353, accuracy 0.15333333333333332\n",
            "Epoch 4: train loss 2.2703569995032415, accuracy 0.14888888888888888\n",
            "Epoch 4: train loss 2.2627135382758246, accuracy 0.14222222222222222\n",
            "Epoch 4: train loss 2.2698896725972495, accuracy 0.14444444444444443\n",
            "Epoch 4: train loss 2.2684672938452826, accuracy 0.14\n",
            "Epoch 4: train loss 2.26969141430325, accuracy 0.1288888888888889\n",
            "Epoch 4: train loss 2.2535337342156305, accuracy 0.18\n",
            "Epoch 4: train loss 2.2717038260565863, accuracy 0.1688888888888889\n",
            "Epoch 4: train loss 2.248326884375678, accuracy 0.18222222222222223\n",
            "Epoch 4: train loss 2.237882057825724, accuracy 0.15333333333333332\n",
            "Epoch 4: train loss 2.234777185651991, accuracy 0.15777777777777777\n",
            "Epoch 5: train loss 2.2336475054423013, accuracy 0.15777777777777777\n",
            "Epoch 5: train loss 2.232504818174574, accuracy 0.13555555555555557\n"
          ]
        },
        {
          "name": "stderr",
          "output_type": "stream",
          "text": [
            "DEBUG flower 2023-01-02 13:02:13,705 | server.py:229 | fit_round 1 received 10 results and 0 failures\n",
            "WARNING flower 2023-01-02 13:02:13,738 | fedavg.py:243 | No fit_metrics_aggregation_fn provided\n"
          ]
        },
        {
          "name": "stdout",
          "output_type": "stream",
          "text": [
            "Epoch 5: train loss 2.230281194051107, accuracy 0.17777777777777778\n",
            "Epoch 5: train loss 2.2224558459387884, accuracy 0.16666666666666666\n",
            "Epoch 5: train loss 2.2325150436825223, accuracy 0.14\n",
            "Epoch 5: train loss 2.235481341679891, accuracy 0.16666666666666666\n",
            "Epoch 5: train loss 2.2077820830874972, accuracy 0.19777777777777777\n",
            "Epoch 5: train loss 2.193068186442057, accuracy 0.20222222222222222\n",
            "Epoch 5: train loss 2.2245153850979276, accuracy 0.1622222222222222\n",
            "Epoch 5: train loss 2.208337518903944, accuracy 0.18888888888888888\n"
          ]
        },
        {
          "name": "stderr",
          "output_type": "stream",
          "text": [
            "INFO flower 2023-01-02 13:02:16,912 | server.py:116 | fit progress: (1, 2.1898021697998047, {'accuracy': 0.1751}, 16.11516770900016)\n",
            "INFO flower 2023-01-02 13:02:16,912 | server.py:163 | evaluate_round 1: no clients selected, cancel\n",
            "DEBUG flower 2023-01-02 13:02:16,913 | server.py:215 | fit_round 2: strategy sampled 10 clients (out of 100)\n"
          ]
        },
        {
          "name": "stdout",
          "output_type": "stream",
          "text": [
            "Server-side evaluation loss 2.1898021697998047 / accuracy 0.1751\n",
            "[Client 48, round 2] fit, config: {'server_round': 2, 'local_epochs': 5, 'learning_rate': 0.2475}\n",
            "[Client 6, round 2] fit, config: {'server_round': 2, 'local_epochs': 5, 'learning_rate': 0.2475}\n",
            "[Client 75, round 2] fit, config: {'server_round': 2, 'local_epochs': 5, 'learning_rate': 0.2475}\n",
            "[Client 49, round 2] fit, config: {'server_round': 2, 'local_epochs': 5, 'learning_rate': 0.2475}\n",
            "[Client 38, round 2] fit, config: {'server_round': 2, 'local_epochs': 5, 'learning_rate': 0.2475}\n",
            "[Client 13, round 2] fit, config: {'server_round': 2, 'local_epochs': 5, 'learning_rate': 0.2475}\n",
            "[Client 59, round 2] fit, config: {'server_round': 2, 'local_epochs': 5, 'learning_rate': 0.2475}\n",
            "[Client 73, round 2] fit, config: {'server_round': 2, 'local_epochs': 5, 'learning_rate': 0.2475}\n",
            "[Client 97, round 2] fit, config: {'server_round': 2, 'local_epochs': 5, 'learning_rate': 0.2475}\n",
            "[Client 90, round 2] fit, config: {'server_round': 2, 'local_epochs': 5, 'learning_rate': 0.2475}\n",
            "Epoch 1: train loss 2.190424336327447, accuracy 0.18222222222222223\n",
            "Epoch 1: train loss 2.2143564224243164, accuracy 0.19555555555555557\n",
            "Epoch 1: train loss 2.2200039757622614, accuracy 0.17777777777777778\n",
            "Epoch 1: train loss 2.253919071621365, accuracy 0.14222222222222222\n",
            "Epoch 1: train loss 2.1892390516069202, accuracy 0.18666666666666668\n",
            "Epoch 1: train loss 2.2067992422315807, accuracy 0.16\n",
            "Epoch 1: train loss 2.163850466410319, accuracy 0.17333333333333334\n",
            "Epoch 1: train loss 2.2098470528920493, accuracy 0.2088888888888889\n",
            "Epoch 1: train loss 2.2050595813327365, accuracy 0.18888888888888888\n",
            "Epoch 1: train loss 2.1703409353892007, accuracy 0.17777777777777778\n",
            "Epoch 2: train loss 2.171032508214315, accuracy 0.15555555555555556\n",
            "Epoch 2: train loss 2.1800316439734564, accuracy 0.18222222222222223\n",
            "Epoch 2: train loss 2.1380899217393665, accuracy 0.22\n",
            "Epoch 2: train loss 2.1894355879889593, accuracy 0.18888888888888888\n",
            "Epoch 2: train loss 2.1569537586636014, accuracy 0.2311111111111111\n",
            "Epoch 2: train loss 2.173056231604682, accuracy 0.22\n",
            "Epoch 2: train loss 2.17515402370029, accuracy 0.1711111111111111\n",
            "Epoch 2: train loss 2.163291056950887, accuracy 0.1688888888888889\n",
            "Epoch 2: train loss 2.1936625904507108, accuracy 0.17555555555555555\n",
            "Epoch 2: train loss 2.2215347819858127, accuracy 0.14666666666666667\n",
            "Epoch 3: train loss 2.104283889134725, accuracy 0.19333333333333333\n",
            "Epoch 3: train loss 2.161157581541273, accuracy 0.18666666666666668\n",
            "Epoch 3: train loss 2.1312431494394937, accuracy 0.16444444444444445\n",
            "Epoch 3: train loss 2.229965739780002, accuracy 0.1511111111111111\n",
            "Epoch 3: train loss 2.1430293718973794, accuracy 0.1711111111111111\n",
            "Epoch 3: train loss 2.151935577392578, accuracy 0.18444444444444444\n",
            "Epoch 3: train loss 2.148581796222263, accuracy 0.21333333333333335\n",
            "Epoch 3: train loss 2.1463176012039185, accuracy 0.19555555555555557\n",
            "Epoch 3: train loss 2.2239158815807767, accuracy 0.1688888888888889\n",
            "Epoch 3: train loss 2.1437381903330484, accuracy 0.18888888888888888\n",
            "Epoch 4: train loss 2.124392588933309, accuracy 0.19333333333333333\n",
            "Epoch 4: train loss 2.233312474356757, accuracy 0.15555555555555556\n",
            "Epoch 4: train loss 2.1181544727749295, accuracy 0.17777777777777778\n",
            "Epoch 4: train loss 2.1790639294518366, accuracy 0.17333333333333334\n",
            "Epoch 4: train loss 2.134549617767334, accuracy 0.22666666666666666\n",
            "Epoch 4: train loss 2.1717107031080456, accuracy 0.18888888888888888\n",
            "Epoch 4: train loss 2.1451340516408286, accuracy 0.21777777777777776\n",
            "Epoch 4: train loss 2.148000372780694, accuracy 0.15555555555555556\n",
            "Epoch 4: train loss 2.1553994284735785, accuracy 0.2\n",
            "Epoch 4: train loss 2.1408912208345203, accuracy 0.18444444444444444\n"
          ]
        },
        {
          "name": "stderr",
          "output_type": "stream",
          "text": [
            "DEBUG flower 2023-01-02 13:02:33,642 | server.py:229 | fit_round 2 received 10 results and 0 failures\n"
          ]
        },
        {
          "name": "stdout",
          "output_type": "stream",
          "text": [
            "Epoch 5: train loss 2.0777696238623724, accuracy 0.2111111111111111\n",
            "Epoch 5: train loss 2.2037636174096003, accuracy 0.19555555555555557\n",
            "Epoch 5: train loss 2.08044351471795, accuracy 0.21777777777777776\n",
            "Epoch 5: train loss 2.1314909987979465, accuracy 0.20222222222222222\n",
            "Epoch 5: train loss 2.1081909603542752, accuracy 0.22\n",
            "Epoch 5: train loss 2.149714575873481, accuracy 0.1688888888888889\n",
            "Epoch 5: train loss 2.077318549156189, accuracy 0.21333333333333335\n",
            "Epoch 5: train loss 2.1232753064897327, accuracy 0.2088888888888889\n",
            "Epoch 5: train loss 2.1228226158354015, accuracy 0.21777777777777776\n",
            "Epoch 5: train loss 2.122673087649875, accuracy 0.18\n"
          ]
        },
        {
          "name": "stderr",
          "output_type": "stream",
          "text": [
            "INFO flower 2023-01-02 13:02:37,318 | server.py:116 | fit progress: (2, 2.0629611456394197, {'accuracy': 0.2207}, 36.52160762300082)\n",
            "INFO flower 2023-01-02 13:02:37,319 | server.py:163 | evaluate_round 2: no clients selected, cancel\n",
            "DEBUG flower 2023-01-02 13:02:37,319 | server.py:215 | fit_round 3: strategy sampled 10 clients (out of 100)\n"
          ]
        },
        {
          "name": "stdout",
          "output_type": "stream",
          "text": [
            "Server-side evaluation loss 2.0629611456394197 / accuracy 0.2207\n",
            "[Client 41, round 3] fit, config: {'server_round': 3, 'local_epochs': 5, 'learning_rate': 0.245025}\n",
            "[Client 31, round 3] fit, config: {'server_round': 3, 'local_epochs': 5, 'learning_rate': 0.245025}\n",
            "[Client 82, round 3] fit, config: {'server_round': 3, 'local_epochs': 5, 'learning_rate': 0.245025}\n",
            "[Client 57, round 3] fit, config: {'server_round': 3, 'local_epochs': 5, 'learning_rate': 0.245025}\n",
            "[Client 56, round 3] fit, config: {'server_round': 3, 'local_epochs': 5, 'learning_rate': 0.245025}\n",
            "[Client 34, round 3] fit, config: {'server_round': 3, 'local_epochs': 5, 'learning_rate': 0.245025}\n",
            "[Client 72, round 3] fit, config: {'server_round': 3, 'local_epochs': 5, 'learning_rate': 0.245025}\n",
            "[Client 73, round 3] fit, config: {'server_round': 3, 'local_epochs': 5, 'learning_rate': 0.245025}\n",
            "[Client 44, round 3] fit, config: {'server_round': 3, 'local_epochs': 5, 'learning_rate': 0.245025}\n",
            "[Client 88, round 3] fit, config: {'server_round': 3, 'local_epochs': 5, 'learning_rate': 0.245025}\n",
            "Epoch 1: train loss 2.095528417163425, accuracy 0.21555555555555556\n",
            "Epoch 1: train loss 2.1115474038653903, accuracy 0.21333333333333335\n",
            "Epoch 1: train loss 2.124313566419813, accuracy 0.17777777777777778\n",
            "Epoch 1: train loss 2.1313316292232938, accuracy 0.17333333333333334\n",
            "Epoch 1: train loss 2.1492426925235324, accuracy 0.19555555555555557\n",
            "Epoch 1: train loss 2.096501257684496, accuracy 0.21333333333333335\n",
            "Epoch 1: train loss 2.1344983312818737, accuracy 0.2088888888888889\n",
            "Epoch 1: train loss 2.15283555454678, accuracy 0.16666666666666666\n",
            "Epoch 1: train loss 2.0964973502688937, accuracy 0.2\n",
            "Epoch 1: train loss 2.0696272320217557, accuracy 0.21777777777777776\n",
            "Epoch 2: train loss 2.066620018747118, accuracy 0.21777777777777776\n",
            "Epoch 2: train loss 2.1386782460742526, accuracy 0.20666666666666667\n",
            "Epoch 2: train loss 2.115112966961331, accuracy 0.18666666666666668\n",
            "Epoch 2: train loss 2.1352654298146567, accuracy 0.1622222222222222\n",
            "Epoch 2: train loss 2.0941792594061956, accuracy 0.21777777777777776\n",
            "Epoch 2: train loss 2.1437892648908825, accuracy 0.22666666666666666\n",
            "Epoch 2: train loss 2.1511205037434897, accuracy 0.19555555555555557\n",
            "Epoch 2: train loss 2.07568457391527, accuracy 0.23555555555555555\n",
            "Epoch 2: train loss 2.055954178174337, accuracy 0.22666666666666666\n",
            "Epoch 2: train loss 2.1241814295450845, accuracy 0.15777777777777777\n",
            "Epoch 3: train loss 2.0830582910113864, accuracy 0.17777777777777778\n",
            "Epoch 3: train loss 2.080098761452569, accuracy 0.21555555555555556\n",
            "Epoch 3: train loss 2.0753473970625134, accuracy 0.2288888888888889\n",
            "Epoch 3: train loss 2.035034603542752, accuracy 0.2288888888888889\n",
            "Epoch 3: train loss 2.0744960970348783, accuracy 0.18444444444444444\n",
            "Epoch 3: train loss 2.06316610177358, accuracy 0.2311111111111111\n",
            "Epoch 3: train loss 2.0710748698976307, accuracy 0.18222222222222223\n",
            "Epoch 3: train loss 2.0862846904330783, accuracy 0.19777777777777777\n",
            "Epoch 3: train loss 2.109035028351678, accuracy 0.19555555555555557\n",
            "Epoch 3: train loss 2.0965938568115234, accuracy 0.20666666666666667\n",
            "Epoch 4: train loss 2.098069535361396, accuracy 0.20666666666666667\n",
            "Epoch 4: train loss 2.054814020792643, accuracy 0.2111111111111111\n",
            "Epoch 4: train loss 2.0472027593188815, accuracy 0.24444444444444444\n",
            "Epoch 4: train loss 2.1184490389294095, accuracy 0.19555555555555557\n",
            "Epoch 4: train loss 2.0857507387797036, accuracy 0.22\n",
            "Epoch 4: train loss 2.075595498085022, accuracy 0.20222222222222222\n",
            "Epoch 4: train loss 2.063824415206909, accuracy 0.16666666666666666\n",
            "Epoch 4: train loss 2.121970706515842, accuracy 0.16444444444444445\n",
            "Epoch 4: train loss 2.1191591024398804, accuracy 0.18888888888888888\n",
            "Epoch 4: train loss 2.041254176033868, accuracy 0.19555555555555557\n"
          ]
        },
        {
          "name": "stderr",
          "output_type": "stream",
          "text": [
            "DEBUG flower 2023-01-02 13:02:51,406 | server.py:229 | fit_round 3 received 10 results and 0 failures\n"
          ]
        },
        {
          "name": "stdout",
          "output_type": "stream",
          "text": [
            "Epoch 5: train loss 2.0681487321853638, accuracy 0.19777777777777777\n",
            "Epoch 5: train loss 2.081366393301222, accuracy 0.21333333333333335\n",
            "Epoch 5: train loss 2.0606825086805554, accuracy 0.20444444444444446\n",
            "Epoch 5: train loss 2.0146531661351523, accuracy 0.21555555555555556\n",
            "Epoch 5: train loss 2.039378219180637, accuracy 0.21777777777777776\n",
            "Epoch 5: train loss 2.1045691437191434, accuracy 0.23555555555555555\n",
            "Epoch 5: train loss 2.089146296183268, accuracy 0.21555555555555556\n",
            "Epoch 5: train loss 2.058923509385851, accuracy 0.2111111111111111\n",
            "Epoch 5: train loss 2.115175631311205, accuracy 0.16\n",
            "Epoch 5: train loss 2.0434206459257336, accuracy 0.1711111111111111\n"
          ]
        },
        {
          "name": "stderr",
          "output_type": "stream",
          "text": [
            "INFO flower 2023-01-02 13:02:54,573 | server.py:116 | fit progress: (3, 2.0181534522771836, {'accuracy': 0.2438}, 53.77632574299969)\n",
            "INFO flower 2023-01-02 13:02:54,573 | server.py:163 | evaluate_round 3: no clients selected, cancel\n",
            "DEBUG flower 2023-01-02 13:02:54,574 | server.py:215 | fit_round 4: strategy sampled 10 clients (out of 100)\n"
          ]
        },
        {
          "name": "stdout",
          "output_type": "stream",
          "text": [
            "Server-side evaluation loss 2.0181534522771836 / accuracy 0.2438\n",
            "[Client 58, round 4] fit, config: {'server_round': 4, 'local_epochs': 5, 'learning_rate': 0.24257475}\n",
            "[Client 73, round 4] fit, config: {'server_round': 4, 'local_epochs': 5, 'learning_rate': 0.24257475}\n",
            "[Client 64, round 4] fit, config: {'server_round': 4, 'local_epochs': 5, 'learning_rate': 0.24257475}\n",
            "[Client 35, round 4] fit, config: {'server_round': 4, 'local_epochs': 5, 'learning_rate': 0.24257475}\n",
            "[Client 43, round 4] fit, config: {'server_round': 4, 'local_epochs': 5, 'learning_rate': 0.24257475}\n",
            "[Client 6, round 4] fit, config: {'server_round': 4, 'local_epochs': 5, 'learning_rate': 0.24257475}\n",
            "[Client 23, round 4] fit, config: {'server_round': 4, 'local_epochs': 5, 'learning_rate': 0.24257475}\n",
            "[Client 15, round 4] fit, config: {'server_round': 4, 'local_epochs': 5, 'learning_rate': 0.24257475}\n",
            "[Client 2, round 4] fit, config: {'server_round': 4, 'local_epochs': 5, 'learning_rate': 0.24257475}\n",
            "[Client 54, round 4] fit, config: {'server_round': 4, 'local_epochs': 5, 'learning_rate': 0.24257475}\n",
            "Epoch 1: train loss 2.088652941915724, accuracy 0.19333333333333333\n",
            "Epoch 1: train loss 2.1054020987616644, accuracy 0.19111111111111112\n",
            "Epoch 1: train loss 2.082160923216078, accuracy 0.24\n",
            "Epoch 1: train loss 2.0526512066523233, accuracy 0.24444444444444444\n",
            "Epoch 1: train loss 2.0762385659747653, accuracy 0.19111111111111112\n",
            "Epoch 1: train loss 2.059865713119507, accuracy 0.20666666666666667\n",
            "Epoch 1: train loss 2.0953982141282825, accuracy 0.2288888888888889\n",
            "Epoch 1: train loss 2.048901187049018, accuracy 0.19777777777777777\n",
            "Epoch 1: train loss 2.103838430510627, accuracy 0.1622222222222222\n",
            "Epoch 1: train loss 2.0585725175009832, accuracy 0.22\n",
            "Epoch 2: train loss 2.084256225162082, accuracy 0.2088888888888889\n",
            "Epoch 2: train loss 2.1139713393317328, accuracy 0.18444444444444444\n",
            "Epoch 2: train loss 2.040208180745443, accuracy 0.2\n",
            "Epoch 2: train loss 2.0594160424338446, accuracy 0.23777777777777778\n",
            "Epoch 2: train loss 2.1274189021852283, accuracy 0.2\n",
            "Epoch 2: train loss 2.050756123330858, accuracy 0.22444444444444445\n",
            "Epoch 2: train loss 2.046019540892707, accuracy 0.19777777777777777\n",
            "Epoch 2: train loss 2.0498038265440197, accuracy 0.19555555555555557\n",
            "Epoch 2: train loss 2.051369825998942, accuracy 0.24222222222222223\n",
            "Epoch 2: train loss 2.0600575473573475, accuracy 0.2288888888888889\n",
            "Epoch 3: train loss 2.074698951509264, accuracy 0.24444444444444444\n",
            "Epoch 3: train loss 2.149156755871243, accuracy 0.18\n",
            "Epoch 3: train loss 2.058399518330892, accuracy 0.20666666666666667\n",
            "Epoch 3: train loss 2.075170225567288, accuracy 0.20666666666666667\n",
            "Epoch 3: train loss 2.085309465726217, accuracy 0.2088888888888889\n",
            "Epoch 3: train loss 2.0783863597446017, accuracy 0.21777777777777776\n",
            "Epoch 3: train loss 2.0543585220972695, accuracy 0.24888888888888888\n",
            "Epoch 3: train loss 2.0210533804363675, accuracy 0.19333333333333333\n",
            "Epoch 3: train loss 1.99642546971639, accuracy 0.25333333333333335\n",
            "Epoch 3: train loss 2.054080777698093, accuracy 0.24\n",
            "Epoch 4: train loss 2.0466115474700928, accuracy 0.2111111111111111\n",
            "Epoch 4: train loss 2.0464493566089206, accuracy 0.23333333333333334\n",
            "Epoch 4: train loss 2.0398861037360296, accuracy 0.17555555555555555\n",
            "Epoch 4: train loss 2.066399229897393, accuracy 0.18222222222222223\n",
            "Epoch 4: train loss 2.0652560128106012, accuracy 0.23555555555555555\n",
            "Epoch 4: train loss 2.0064395798577204, accuracy 0.25333333333333335\n",
            "Epoch 4: train loss 2.0666059388054743, accuracy 0.23777777777777778\n",
            "Epoch 4: train loss 2.058802949057685, accuracy 0.2222222222222222\n",
            "Epoch 4: train loss 2.017999675538805, accuracy 0.21777777777777776\n",
            "Epoch 4: train loss 2.0723073614968195, accuracy 0.24\n"
          ]
        },
        {
          "name": "stderr",
          "output_type": "stream",
          "text": [
            "DEBUG flower 2023-01-02 13:03:10,283 | server.py:229 | fit_round 4 received 10 results and 0 failures\n"
          ]
        },
        {
          "name": "stdout",
          "output_type": "stream",
          "text": [
            "Epoch 5: train loss 2.0715315341949463, accuracy 0.22444444444444445\n",
            "Epoch 5: train loss 2.12237458758884, accuracy 0.20222222222222222\n",
            "Epoch 5: train loss 2.004804836379157, accuracy 0.2288888888888889\n",
            "Epoch 5: train loss 2.014757831891378, accuracy 0.2644444444444444\n",
            "Epoch 5: train loss 2.023771736356947, accuracy 0.18888888888888888\n",
            "Epoch 5: train loss 2.0666589736938477, accuracy 0.23333333333333334\n",
            "Epoch 5: train loss 2.1133388545778065, accuracy 0.21777777777777776\n",
            "Epoch 5: train loss 2.098215924368964, accuracy 0.2088888888888889\n",
            "Epoch 5: train loss 2.0473176373375788, accuracy 0.22\n",
            "Epoch 5: train loss 2.0337676207224527, accuracy 0.25333333333333335\n"
          ]
        },
        {
          "name": "stderr",
          "output_type": "stream",
          "text": [
            "INFO flower 2023-01-02 13:03:13,068 | server.py:116 | fit progress: (4, 1.9932282614707946, {'accuracy': 0.2604}, 72.27153215199905)\n",
            "INFO flower 2023-01-02 13:03:13,069 | server.py:163 | evaluate_round 4: no clients selected, cancel\n",
            "DEBUG flower 2023-01-02 13:03:13,069 | server.py:215 | fit_round 5: strategy sampled 10 clients (out of 100)\n"
          ]
        },
        {
          "name": "stdout",
          "output_type": "stream",
          "text": [
            "Server-side evaluation loss 1.9932282614707946 / accuracy 0.2604\n",
            "[Client 84, round 5] fit, config: {'server_round': 5, 'local_epochs': 5, 'learning_rate': 0.2401490025}\n",
            "[Client 63, round 5] fit, config: {'server_round': 5, 'local_epochs': 5, 'learning_rate': 0.2401490025}\n",
            "[Client 93, round 5] fit, config: {'server_round': 5, 'local_epochs': 5, 'learning_rate': 0.2401490025}\n",
            "[Client 16, round 5] fit, config: {'server_round': 5, 'local_epochs': 5, 'learning_rate': 0.2401490025}\n",
            "[Client 68, round 5] fit, config: {'server_round': 5, 'local_epochs': 5, 'learning_rate': 0.2401490025}\n",
            "[Client 5, round 5] fit, config: {'server_round': 5, 'local_epochs': 5, 'learning_rate': 0.2401490025}\n",
            "[Client 61, round 5] fit, config: {'server_round': 5, 'local_epochs': 5, 'learning_rate': 0.2401490025}\n",
            "[Client 60, round 5] fit, config: {'server_round': 5, 'local_epochs': 5, 'learning_rate': 0.2401490025}\n",
            "[Client 69, round 5] fit, config: {'server_round': 5, 'local_epochs': 5, 'learning_rate': 0.2401490025}\n",
            "[Client 18, round 5] fit, config: {'server_round': 5, 'local_epochs': 5, 'learning_rate': 0.2401490025}\n",
            "Epoch 1: train loss 2.0407344500223794, accuracy 0.23555555555555555\n",
            "Epoch 1: train loss 2.039971868197123, accuracy 0.23777777777777778\n",
            "Epoch 1: train loss 2.0206447309917874, accuracy 0.2111111111111111\n",
            "Epoch 1: train loss 2.085658404562208, accuracy 0.18666666666666668\n",
            "Epoch 1: train loss 1.975101523929172, accuracy 0.2777777777777778\n",
            "Epoch 1: train loss 2.0714863936106362, accuracy 0.2\n",
            "Epoch 1: train loss 2.0156523254182606, accuracy 0.25555555555555554\n",
            "Epoch 1: train loss 2.04651051097446, accuracy 0.21777777777777776\n",
            "Epoch 1: train loss 2.008011129167345, accuracy 0.22444444444444445\n",
            "Epoch 1: train loss 2.0403707954618664, accuracy 0.22666666666666666\n",
            "Epoch 2: train loss 2.088063213560316, accuracy 0.23333333333333334\n",
            "Epoch 2: train loss 2.0689200427797108, accuracy 0.2222222222222222\n",
            "Epoch 2: train loss 2.0606985886891684, accuracy 0.2222222222222222\n",
            "Epoch 2: train loss 2.0855055385165744, accuracy 0.22666666666666666\n",
            "Epoch 2: train loss 2.053793125682407, accuracy 0.2222222222222222\n",
            "Epoch 2: train loss 2.0347141292360096, accuracy 0.24666666666666667\n",
            "Epoch 2: train loss 2.030062609248691, accuracy 0.25333333333333335\n",
            "Epoch 2: train loss 2.0332320398754544, accuracy 0.2088888888888889\n",
            "Epoch 2: train loss 2.1271500057644315, accuracy 0.20444444444444446\n",
            "Epoch 2: train loss 1.996321267551846, accuracy 0.23555555555555555\n",
            "Epoch 3: train loss 2.116675919956631, accuracy 0.2311111111111111\n",
            "Epoch 3: train loss 2.033233390914069, accuracy 0.25555555555555554\n",
            "Epoch 3: train loss 2.043097178141276, accuracy 0.2311111111111111\n",
            "Epoch 3: train loss 1.9925018813874986, accuracy 0.2577777777777778\n",
            "Epoch 3: train loss 1.9898589981926813, accuracy 0.2511111111111111\n",
            "Epoch 3: train loss 2.06607358985477, accuracy 0.24444444444444444\n",
            "Epoch 3: train loss 1.9594245221879747, accuracy 0.24444444444444444\n",
            "Epoch 3: train loss 2.0416061083475747, accuracy 0.2311111111111111\n",
            "Epoch 3: train loss 1.996608747376336, accuracy 0.23555555555555555\n",
            "Epoch 3: train loss 1.9878952503204346, accuracy 0.21777777777777776\n",
            "Epoch 4: train loss 2.022899945576986, accuracy 0.23333333333333334\n",
            "Epoch 4: train loss 1.9620745579401653, accuracy 0.2688888888888889\n",
            "Epoch 4: train loss 2.049805177582635, accuracy 0.23777777777777778\n",
            "Epoch 4: train loss 2.0011651118596396, accuracy 0.2311111111111111\n",
            "Epoch 4: train loss 2.038983013894823, accuracy 0.22\n",
            "Epoch 4: train loss 2.0377005603578358, accuracy 0.2222222222222222\n",
            "Epoch 4: train loss 2.0345606406529746, accuracy 0.26222222222222225\n",
            "Epoch 4: train loss 1.993766228357951, accuracy 0.22\n",
            "Epoch 4: train loss 1.96483227941725, accuracy 0.24888888888888888\n",
            "Epoch 4: train loss 2.013372434510125, accuracy 0.24888888888888888\n"
          ]
        },
        {
          "name": "stderr",
          "output_type": "stream",
          "text": [
            "DEBUG flower 2023-01-02 13:03:27,844 | server.py:229 | fit_round 5 received 10 results and 0 failures\n"
          ]
        },
        {
          "name": "stdout",
          "output_type": "stream",
          "text": [
            "Epoch 5: train loss 1.982599178949992, accuracy 0.26222222222222225\n",
            "Epoch 5: train loss 2.0563159916136, accuracy 0.2222222222222222\n",
            "Epoch 5: train loss 1.9809147251976862, accuracy 0.2688888888888889\n",
            "Epoch 5: train loss 2.0480017529593573, accuracy 0.2644444444444444\n",
            "Epoch 5: train loss 1.991031249364217, accuracy 0.23333333333333334\n",
            "Epoch 5: train loss 1.9657673041025798, accuracy 0.2777777777777778\n",
            "Epoch 5: train loss 2.0305594073401556, accuracy 0.24444444444444444\n",
            "Epoch 5: train loss 2.07362343205346, accuracy 0.23777777777777778\n",
            "Epoch 5: train loss 1.956374168395996, accuracy 0.25555555555555554\n",
            "Epoch 5: train loss 1.9914069440629747, accuracy 0.22444444444444445\n"
          ]
        },
        {
          "name": "stderr",
          "output_type": "stream",
          "text": [
            "INFO flower 2023-01-02 13:03:30,894 | server.py:116 | fit progress: (5, 1.9428342407941819, {'accuracy': 0.2868}, 90.0976676650007)\n",
            "INFO flower 2023-01-02 13:03:30,895 | server.py:163 | evaluate_round 5: no clients selected, cancel\n",
            "DEBUG flower 2023-01-02 13:03:30,896 | server.py:215 | fit_round 6: strategy sampled 10 clients (out of 100)\n"
          ]
        },
        {
          "name": "stdout",
          "output_type": "stream",
          "text": [
            "Server-side evaluation loss 1.9428342407941819 / accuracy 0.2868\n",
            "[Client 41, round 6] fit, config: {'server_round': 6, 'local_epochs': 5, 'learning_rate': 0.23774751247499998}\n",
            "[Client 47, round 6] fit, config: {'server_round': 6, 'local_epochs': 5, 'learning_rate': 0.23774751247499998}\n",
            "[Client 76, round 6] fit, config: {'server_round': 6, 'local_epochs': 5, 'learning_rate': 0.23774751247499998}\n",
            "[Client 4, round 6] fit, config: {'server_round': 6, 'local_epochs': 5, 'learning_rate': 0.23774751247499998}\n",
            "[Client 59, round 6] fit, config: {'server_round': 6, 'local_epochs': 5, 'learning_rate': 0.23774751247499998}\n",
            "[Client 28, round 6] fit, config: {'server_round': 6, 'local_epochs': 5, 'learning_rate': 0.23774751247499998}\n",
            "[Client 64, round 6] fit, config: {'server_round': 6, 'local_epochs': 5, 'learning_rate': 0.23774751247499998}\n",
            "[Client 99, round 6] fit, config: {'server_round': 6, 'local_epochs': 5, 'learning_rate': 0.23774751247499998}\n",
            "[Client 36, round 6] fit, config: {'server_round': 6, 'local_epochs': 5, 'learning_rate': 0.23774751247499998}\n",
            "[Client 90, round 6] fit, config: {'server_round': 6, 'local_epochs': 5, 'learning_rate': 0.23774751247499998}\n",
            "Epoch 1: train loss 1.9703188472323947, accuracy 0.24666666666666667\n",
            "Epoch 1: train loss 1.9446011914147272, accuracy 0.26222222222222225\n",
            "Epoch 1: train loss 2.048596077495151, accuracy 0.24\n",
            "Epoch 1: train loss 2.0126914580663047, accuracy 0.2777777777777778\n",
            "Epoch 1: train loss 2.069693499141269, accuracy 0.21777777777777776\n",
            "Epoch 1: train loss 1.9816926055484347, accuracy 0.23555555555555555\n",
            "Epoch 1: train loss 1.9276649289660983, accuracy 0.2733333333333333\n",
            "Epoch 1: train loss 1.9933228890101116, accuracy 0.22666666666666666\n",
            "Epoch 1: train loss 2.0027909676233926, accuracy 0.23555555555555555\n",
            "Epoch 1: train loss 1.9993999401728313, accuracy 0.24888888888888888\n",
            "Epoch 2: train loss 1.9971389108233981, accuracy 0.2311111111111111\n",
            "Epoch 2: train loss 1.9463669856389363, accuracy 0.24666666666666667\n",
            "Epoch 2: train loss 2.0577253103256226, accuracy 0.25555555555555554\n",
            "Epoch 2: train loss 1.9890641768773396, accuracy 0.2222222222222222\n",
            "Epoch 2: train loss 1.9509932332568698, accuracy 0.28\n",
            "Epoch 2: train loss 2.0577646758821277, accuracy 0.21333333333333335\n",
            "Epoch 2: train loss 1.9889540407392714, accuracy 0.2311111111111111\n",
            "Epoch 2: train loss 1.957197242312961, accuracy 0.26666666666666666\n",
            "Epoch 2: train loss 2.0179789066314697, accuracy 0.22\n",
            "Epoch 2: train loss 1.9730881187650893, accuracy 0.2311111111111111\n",
            "Epoch 3: train loss 2.040448268254598, accuracy 0.24222222222222223\n",
            "Epoch 3: train loss 2.065490232573615, accuracy 0.21555555555555556\n",
            "Epoch 3: train loss 1.951160642835829, accuracy 0.25555555555555554\n",
            "Epoch 3: train loss 1.900460097524855, accuracy 0.26666666666666666\n",
            "Epoch 3: train loss 1.9898191293080647, accuracy 0.25555555555555554\n",
            "Epoch 3: train loss 2.066802832815382, accuracy 0.28\n",
            "Epoch 3: train loss 1.986486964755588, accuracy 0.24888888888888888\n",
            "Epoch 3: train loss 1.9689661264419556, accuracy 0.2288888888888889\n",
            "Epoch 3: train loss 2.000103897518582, accuracy 0.24666666666666667\n",
            "Epoch 3: train loss 1.9901049666934543, accuracy 0.29333333333333333\n",
            "Epoch 4: train loss 2.0303897990120783, accuracy 0.2688888888888889\n",
            "Epoch 4: train loss 1.9963581032223172, accuracy 0.24222222222222223\n",
            "Epoch 4: train loss 1.9782848358154297, accuracy 0.27111111111111114\n",
            "Epoch 4: train loss 1.9130802022086248, accuracy 0.28\n",
            "Epoch 4: train loss 1.9708546267615423, accuracy 0.24888888888888888\n",
            "Epoch 4: train loss 1.9761761956744723, accuracy 0.22\n",
            "Epoch 4: train loss 1.987411379814148, accuracy 0.24666666666666667\n",
            "Epoch 4: train loss 1.9986606703864203, accuracy 0.2288888888888889\n",
            "Epoch 4: train loss 2.0077511734432645, accuracy 0.2644444444444444\n",
            "Epoch 4: train loss 1.9402726888656616, accuracy 0.26222222222222225\n"
          ]
        },
        {
          "name": "stderr",
          "output_type": "stream",
          "text": [
            "DEBUG flower 2023-01-02 13:03:47,104 | server.py:229 | fit_round 6 received 10 results and 0 failures\n"
          ]
        },
        {
          "name": "stdout",
          "output_type": "stream",
          "text": [
            "Epoch 5: train loss 1.984714561038547, accuracy 0.23333333333333334\n",
            "Epoch 5: train loss 1.933481878704495, accuracy 0.2688888888888889\n",
            "Epoch 5: train loss 2.061586936314901, accuracy 0.2644444444444444\n",
            "Epoch 5: train loss 1.890190389421251, accuracy 0.2866666666666667\n",
            "Epoch 5: train loss 2.041822499699063, accuracy 0.20222222222222222\n",
            "Epoch 5: train loss 1.9326417181226943, accuracy 0.2733333333333333\n",
            "Epoch 5: train loss 1.939159870147705, accuracy 0.28444444444444444\n",
            "Epoch 5: train loss 2.0012551281187267, accuracy 0.23777777777777778\n",
            "Epoch 5: train loss 2.044666714138455, accuracy 0.22444444444444445\n",
            "Epoch 5: train loss 2.0294708410898843, accuracy 0.24\n"
          ]
        },
        {
          "name": "stderr",
          "output_type": "stream",
          "text": [
            "INFO flower 2023-01-02 13:03:50,347 | server.py:116 | fit progress: (6, 1.9086399233341218, {'accuracy': 0.3141}, 109.55071388000033)\n",
            "INFO flower 2023-01-02 13:03:50,348 | server.py:163 | evaluate_round 6: no clients selected, cancel\n",
            "DEBUG flower 2023-01-02 13:03:50,349 | server.py:215 | fit_round 7: strategy sampled 10 clients (out of 100)\n"
          ]
        },
        {
          "name": "stdout",
          "output_type": "stream",
          "text": [
            "Server-side evaluation loss 1.9086399233341218 / accuracy 0.3141\n",
            "[Client 74, round 7] fit, config: {'server_round': 7, 'local_epochs': 5, 'learning_rate': 0.23537003735025}\n",
            "[Client 1, round 7] fit, config: {'server_round': 7, 'local_epochs': 5, 'learning_rate': 0.23537003735025}\n",
            "[Client 41, round 7] fit, config: {'server_round': 7, 'local_epochs': 5, 'learning_rate': 0.23537003735025}\n",
            "[Client 93, round 7] fit, config: {'server_round': 7, 'local_epochs': 5, 'learning_rate': 0.23537003735025}\n",
            "[Client 29, round 7] fit, config: {'server_round': 7, 'local_epochs': 5, 'learning_rate': 0.23537003735025}\n",
            "[Client 49, round 7] fit, config: {'server_round': 7, 'local_epochs': 5, 'learning_rate': 0.23537003735025}\n",
            "[Client 88, round 7] fit, config: {'server_round': 7, 'local_epochs': 5, 'learning_rate': 0.23537003735025}\n",
            "[Client 8, round 7] fit, config: {'server_round': 7, 'local_epochs': 5, 'learning_rate': 0.23537003735025}\n",
            "[Client 32, round 7] fit, config: {'server_round': 7, 'local_epochs': 5, 'learning_rate': 0.23537003735025}\n",
            "[Client 36, round 7] fit, config: {'server_round': 7, 'local_epochs': 5, 'learning_rate': 0.23537003735025}\n",
            "Epoch 1: train loss 1.970033327738444, accuracy 0.2311111111111111\n",
            "Epoch 1: train loss 1.9097917079925537, accuracy 0.3\n",
            "Epoch 1: train loss 1.9667934709125094, accuracy 0.26222222222222225\n",
            "Epoch 1: train loss 1.8812562889522977, accuracy 0.29555555555555557\n",
            "Epoch 1: train loss 1.9892772171232436, accuracy 0.2644444444444444\n",
            "Epoch 1: train loss 1.97096672323015, accuracy 0.2866666666666667\n",
            "Epoch 1: train loss 1.9733335442013211, accuracy 0.25555555555555554\n",
            "Epoch 1: train loss 1.9157402515411377, accuracy 0.2866666666666667\n",
            "Epoch 1: train loss 1.8992656999164157, accuracy 0.31777777777777777\n",
            "Epoch 1: train loss 2.016123572985331, accuracy 0.24666666666666667\n",
            "Epoch 2: train loss 2.1311828162935047, accuracy 0.26\n",
            "Epoch 2: train loss 2.0458631780412464, accuracy 0.21777777777777776\n",
            "Epoch 2: train loss 1.8847533729341295, accuracy 0.27555555555555555\n",
            "Epoch 2: train loss 1.9632173246807523, accuracy 0.28\n",
            "Epoch 2: train loss 1.9363723463482327, accuracy 0.27555555555555555\n",
            "Epoch 2: train loss 1.9380101760228474, accuracy 0.2688888888888889\n",
            "Epoch 2: train loss 2.0350034369362726, accuracy 0.2288888888888889\n",
            "Epoch 2: train loss 1.9676158958011203, accuracy 0.2911111111111111\n",
            "Epoch 2: train loss 1.9438176552454631, accuracy 0.2688888888888889\n",
            "Epoch 2: train loss 1.9316975408130221, accuracy 0.26222222222222225\n",
            "Epoch 3: train loss 2.0758760372797647, accuracy 0.20444444444444446\n",
            "Epoch 3: train loss 1.9868282079696655, accuracy 0.2822222222222222\n",
            "Epoch 3: train loss 1.9589066637886896, accuracy 0.25555555555555554\n",
            "Epoch 3: train loss 1.898778345849779, accuracy 0.27555555555555555\n",
            "Epoch 3: train loss 2.008598115709093, accuracy 0.28\n",
            "Epoch 3: train loss 1.950094872050815, accuracy 0.2822222222222222\n",
            "Epoch 3: train loss 1.9333890279134114, accuracy 0.28444444444444444\n",
            "Epoch 3: train loss 1.9020770920647516, accuracy 0.30444444444444446\n",
            "Epoch 3: train loss 1.9305470519595676, accuracy 0.28888888888888886\n",
            "Epoch 3: train loss 1.9098080529106989, accuracy 0.2688888888888889\n",
            "Epoch 4: train loss 2.0243411196602716, accuracy 0.2\n",
            "Epoch 4: train loss 1.8675674729877048, accuracy 0.31777777777777777\n",
            "Epoch 4: train loss 1.9847136471006606, accuracy 0.24666666666666667\n",
            "Epoch 4: train loss 1.9680860704845853, accuracy 0.2777777777777778\n",
            "Epoch 4: train loss 1.851707895596822, accuracy 0.29333333333333333\n",
            "Epoch 4: train loss 2.0170141723420887, accuracy 0.23777777777777778\n",
            "Epoch 4: train loss 1.8550535043080647, accuracy 0.31333333333333335\n",
            "Epoch 4: train loss 1.9840908977720473, accuracy 0.24444444444444444\n",
            "Epoch 4: train loss 1.8821921083662245, accuracy 0.30444444444444446\n",
            "Epoch 4: train loss 2.044844243261549, accuracy 0.25555555555555554\n"
          ]
        },
        {
          "name": "stderr",
          "output_type": "stream",
          "text": [
            "DEBUG flower 2023-01-02 13:04:06,094 | server.py:229 | fit_round 7 received 10 results and 0 failures\n"
          ]
        },
        {
          "name": "stdout",
          "output_type": "stream",
          "text": [
            "Epoch 5: train loss 2.004818916320801, accuracy 0.21555555555555556\n",
            "Epoch 5: train loss 1.9426931540171306, accuracy 0.2866666666666667\n",
            "Epoch 5: train loss 1.9788047340181139, accuracy 0.25333333333333335\n",
            "Epoch 5: train loss 1.9563140869140625, accuracy 0.27555555555555555\n",
            "Epoch 5: train loss 1.9043625195821126, accuracy 0.32\n",
            "Epoch 5: train loss 1.8261998626920912, accuracy 0.30444444444444446\n",
            "Epoch 5: train loss 1.8448880778418646, accuracy 0.29555555555555557\n",
            "Epoch 5: train loss 1.8901411957210965, accuracy 0.28888888888888886\n",
            "Epoch 5: train loss 1.9638357162475586, accuracy 0.24888888888888888\n",
            "Epoch 5: train loss 2.1218121449152627, accuracy 0.26666666666666666\n"
          ]
        },
        {
          "name": "stderr",
          "output_type": "stream",
          "text": [
            "INFO flower 2023-01-02 13:04:08,773 | server.py:116 | fit progress: (7, 1.937952494621277, {'accuracy': 0.2845}, 127.97628000000077)\n",
            "INFO flower 2023-01-02 13:04:08,774 | server.py:163 | evaluate_round 7: no clients selected, cancel\n",
            "DEBUG flower 2023-01-02 13:04:08,774 | server.py:215 | fit_round 8: strategy sampled 10 clients (out of 100)\n"
          ]
        },
        {
          "name": "stdout",
          "output_type": "stream",
          "text": [
            "Server-side evaluation loss 1.937952494621277 / accuracy 0.2845\n",
            "[Client 21, round 8] fit, config: {'server_round': 8, 'local_epochs': 5, 'learning_rate': 0.23301633697674748}\n",
            "[Client 53, round 8] fit, config: {'server_round': 8, 'local_epochs': 5, 'learning_rate': 0.23301633697674748}\n",
            "[Client 45, round 8] fit, config: {'server_round': 8, 'local_epochs': 5, 'learning_rate': 0.23301633697674748}\n",
            "[Client 54, round 8] fit, config: {'server_round': 8, 'local_epochs': 5, 'learning_rate': 0.23301633697674748}\n",
            "[Client 5, round 8] fit, config: {'server_round': 8, 'local_epochs': 5, 'learning_rate': 0.23301633697674748}\n",
            "[Client 1, round 8] fit, config: {'server_round': 8, 'local_epochs': 5, 'learning_rate': 0.23301633697674748}\n",
            "[Client 77, round 8] fit, config: {'server_round': 8, 'local_epochs': 5, 'learning_rate': 0.23301633697674748}\n",
            "[Client 63, round 8] fit, config: {'server_round': 8, 'local_epochs': 5, 'learning_rate': 0.23301633697674748}\n",
            "[Client 86, round 8] fit, config: {'server_round': 8, 'local_epochs': 5, 'learning_rate': 0.23301633697674748}\n",
            "[Client 25, round 8] fit, config: {'server_round': 8, 'local_epochs': 5, 'learning_rate': 0.23301633697674748}\n",
            "Epoch 1: train loss 1.9482671817143757, accuracy 0.25555555555555554\n",
            "Epoch 1: train loss 1.9442777501212225, accuracy 0.28444444444444444\n",
            "Epoch 1: train loss 1.8791816631952922, accuracy 0.29333333333333333\n",
            "Epoch 1: train loss 1.9063524802525837, accuracy 0.25555555555555554\n",
            "Epoch 1: train loss 1.8780789110395644, accuracy 0.30666666666666664\n",
            "Epoch 1: train loss 1.9577475256390042, accuracy 0.2644444444444444\n",
            "Epoch 1: train loss 1.9099990791744657, accuracy 0.2911111111111111\n",
            "Epoch 1: train loss 1.981414556503296, accuracy 0.26222222222222225\n",
            "Epoch 1: train loss 1.891920314894782, accuracy 0.34\n",
            "Epoch 1: train loss 1.9655669662687514, accuracy 0.26666666666666666\n",
            "Epoch 2: train loss 1.9016224543253581, accuracy 0.29333333333333333\n",
            "Epoch 2: train loss 1.9251360760794745, accuracy 0.2688888888888889\n",
            "Epoch 2: train loss 1.9627634684244792, accuracy 0.2733333333333333\n",
            "Epoch 2: train loss 1.8999269538455539, accuracy 0.29777777777777775\n",
            "Epoch 2: train loss 1.9078753921720717, accuracy 0.3022222222222222\n",
            "Epoch 2: train loss 1.9489676422542996, accuracy 0.29333333333333333\n",
            "Epoch 2: train loss 1.9126882553100586, accuracy 0.2866666666666667\n",
            "Epoch 2: train loss 1.916538291507297, accuracy 0.28888888888888886\n",
            "Epoch 2: train loss 1.9229622152116563, accuracy 0.27111111111111114\n",
            "Epoch 2: train loss 1.9040346807903714, accuracy 0.2644444444444444\n",
            "Epoch 3: train loss 1.880862169795566, accuracy 0.3022222222222222\n",
            "Epoch 3: train loss 1.8808078368504841, accuracy 0.34\n",
            "Epoch 3: train loss 1.9130501217312283, accuracy 0.24888888888888888\n",
            "Epoch 3: train loss 1.8406226767434015, accuracy 0.36444444444444446\n",
            "Epoch 3: train loss 1.8500064214070637, accuracy 0.31777777777777777\n",
            "Epoch 3: train loss 1.9013940890630086, accuracy 0.3\n",
            "Epoch 3: train loss 1.9024771716859605, accuracy 0.2911111111111111\n",
            "Epoch 3: train loss 1.9047461615668402, accuracy 0.27555555555555555\n",
            "Epoch 3: train loss 1.863046367963155, accuracy 0.2866666666666667\n",
            "Epoch 3: train loss 1.84752090771993, accuracy 0.29555555555555557\n",
            "Epoch 4: train loss 1.8407755957709417, accuracy 0.33555555555555555\n",
            "Epoch 4: train loss 1.8338670995500352, accuracy 0.3244444444444444\n",
            "Epoch 4: train loss 1.8972368372811212, accuracy 0.3022222222222222\n",
            "Epoch 4: train loss 1.9416618744532268, accuracy 0.2911111111111111\n",
            "Epoch 4: train loss 1.9078098800447252, accuracy 0.2911111111111111\n",
            "Epoch 4: train loss 1.8882103231218126, accuracy 0.28444444444444444\n",
            "Epoch 4: train loss 1.9450929429796007, accuracy 0.2733333333333333\n",
            "Epoch 4: train loss 1.8514018323686388, accuracy 0.34444444444444444\n",
            "Epoch 4: train loss 1.9097719722323947, accuracy 0.2911111111111111\n",
            "Epoch 4: train loss 1.9488703807195027, accuracy 0.2644444444444444\n"
          ]
        },
        {
          "name": "stderr",
          "output_type": "stream",
          "text": [
            "DEBUG flower 2023-01-02 13:04:23,987 | server.py:229 | fit_round 8 received 10 results and 0 failures\n"
          ]
        },
        {
          "name": "stdout",
          "output_type": "stream",
          "text": [
            "Epoch 5: train loss 1.8569852908452351, accuracy 0.29333333333333333\n",
            "Epoch 5: train loss 1.8679549164242215, accuracy 0.3244444444444444\n",
            "Epoch 5: train loss 1.9097132550345526, accuracy 0.27111111111111114\n",
            "Epoch 5: train loss 1.8092676401138306, accuracy 0.3377777777777778\n",
            "Epoch 5: train loss 1.854982402589586, accuracy 0.3288888888888889\n",
            "Epoch 5: train loss 1.875347720252143, accuracy 0.30444444444444446\n",
            "Epoch 5: train loss 1.8697546852959528, accuracy 0.3111111111111111\n",
            "Epoch 5: train loss 1.9215518765979342, accuracy 0.3\n",
            "Epoch 5: train loss 1.8350060648388333, accuracy 0.29777777777777775\n",
            "Epoch 5: train loss 1.9312836064232721, accuracy 0.26\n"
          ]
        },
        {
          "name": "stderr",
          "output_type": "stream",
          "text": [
            "INFO flower 2023-01-02 13:04:26,934 | server.py:116 | fit progress: (8, 1.7613398510217666, {'accuracy': 0.3668}, 146.13779058599903)\n",
            "INFO flower 2023-01-02 13:04:26,935 | server.py:163 | evaluate_round 8: no clients selected, cancel\n",
            "DEBUG flower 2023-01-02 13:04:26,936 | server.py:215 | fit_round 9: strategy sampled 10 clients (out of 100)\n"
          ]
        },
        {
          "name": "stdout",
          "output_type": "stream",
          "text": [
            "Server-side evaluation loss 1.7613398510217666 / accuracy 0.3668\n",
            "[Client 34, round 9] fit, config: {'server_round': 9, 'local_epochs': 5, 'learning_rate': 0.23068617360698002}\n",
            "[Client 5, round 9] fit, config: {'server_round': 9, 'local_epochs': 5, 'learning_rate': 0.23068617360698002}\n",
            "[Client 67, round 9] fit, config: {'server_round': 9, 'local_epochs': 5, 'learning_rate': 0.23068617360698002}\n",
            "[Client 21, round 9] fit, config: {'server_round': 9, 'local_epochs': 5, 'learning_rate': 0.23068617360698002}\n",
            "[Client 97, round 9] fit, config: {'server_round': 9, 'local_epochs': 5, 'learning_rate': 0.23068617360698002}\n",
            "[Client 94, round 9] fit, config: {'server_round': 9, 'local_epochs': 5, 'learning_rate': 0.23068617360698002}\n",
            "[Client 24, round 9] fit, config: {'server_round': 9, 'local_epochs': 5, 'learning_rate': 0.23068617360698002}\n",
            "[Client 38, round 9] fit, config: {'server_round': 9, 'local_epochs': 5, 'learning_rate': 0.23068617360698002}\n",
            "[Client 63, round 9] fit, config: {'server_round': 9, 'local_epochs': 5, 'learning_rate': 0.23068617360698002}\n",
            "[Client 59, round 9] fit, config: {'server_round': 9, 'local_epochs': 5, 'learning_rate': 0.23068617360698002}\n",
            "Epoch 1: train loss 1.8914684057235718, accuracy 0.31555555555555553\n",
            "Epoch 1: train loss 1.8885131809446547, accuracy 0.3111111111111111\n",
            "Epoch 1: train loss 1.9193061192830403, accuracy 0.2777777777777778\n",
            "Epoch 1: train loss 1.8556036551793416, accuracy 0.3022222222222222\n",
            "Epoch 1: train loss 1.8666382498211331, accuracy 0.2866666666666667\n",
            "Epoch 1: train loss 1.9061901172002156, accuracy 0.31333333333333335\n",
            "Epoch 1: train loss 1.9068401522106595, accuracy 0.32222222222222224\n",
            "Epoch 1: train loss 1.8093090852101643, accuracy 0.3022222222222222\n",
            "Epoch 1: train loss 1.847883900006612, accuracy 0.3088888888888889\n",
            "Epoch 1: train loss 1.9110920561684503, accuracy 0.28444444444444444\n",
            "Epoch 2: train loss 1.8765961329142253, accuracy 0.3\n",
            "Epoch 2: train loss 1.9175972673628066, accuracy 0.29777777777777775\n",
            "Epoch 2: train loss 1.9151855972078111, accuracy 0.30666666666666664\n",
            "Epoch 2: train loss 1.854250775443183, accuracy 0.32666666666666666\n",
            "Epoch 2: train loss 1.9080813593334622, accuracy 0.3\n",
            "Epoch 2: train loss 1.8239383432600234, accuracy 0.3288888888888889\n",
            "Epoch 2: train loss 1.8845770756403606, accuracy 0.3\n",
            "Epoch 2: train loss 1.8603063689337835, accuracy 0.31555555555555553\n",
            "Epoch 2: train loss 1.8570457696914673, accuracy 0.31555555555555553\n",
            "Epoch 2: train loss 1.9220157729254828, accuracy 0.31555555555555553\n",
            "Epoch 3: train loss 1.8376867373784382, accuracy 0.31333333333333335\n",
            "Epoch 3: train loss 1.9230717288123236, accuracy 0.2911111111111111\n",
            "Epoch 3: train loss 1.7816786898507013, accuracy 0.33111111111111113\n",
            "Epoch 3: train loss 1.8157056305143568, accuracy 0.33555555555555555\n",
            "Epoch 3: train loss 1.8749799860848322, accuracy 0.3\n",
            "Epoch 3: train loss 1.920183195008172, accuracy 0.31333333333333335\n",
            "Epoch 3: train loss 1.8024985922707453, accuracy 0.3511111111111111\n",
            "Epoch 3: train loss 1.873367773161994, accuracy 0.31333333333333335\n",
            "Epoch 3: train loss 1.860947158601549, accuracy 0.2688888888888889\n",
            "Epoch 3: train loss 1.832709444893731, accuracy 0.3088888888888889\n",
            "Epoch 4: train loss 1.7561815579732258, accuracy 0.3422222222222222\n",
            "Epoch 4: train loss 1.8373201025856867, accuracy 0.29777777777777775\n",
            "Epoch 4: train loss 1.8008053965038724, accuracy 0.3111111111111111\n",
            "Epoch 4: train loss 1.8431847757763333, accuracy 0.3377777777777778\n",
            "Epoch 4: train loss 1.7941842211617365, accuracy 0.3622222222222222\n",
            "Epoch 4: train loss 1.9535776774088542, accuracy 0.2777777777777778\n",
            "Epoch 4: train loss 1.7919777234395344, accuracy 0.32\n",
            "Epoch 4: train loss 1.8944914870791965, accuracy 0.3111111111111111\n",
            "Epoch 4: train loss 1.9107354084650676, accuracy 0.3022222222222222\n",
            "Epoch 4: train loss 1.8554732004801433, accuracy 0.28444444444444444\n"
          ]
        },
        {
          "name": "stderr",
          "output_type": "stream",
          "text": [
            "DEBUG flower 2023-01-02 13:04:42,602 | server.py:229 | fit_round 9 received 10 results and 0 failures\n"
          ]
        },
        {
          "name": "stdout",
          "output_type": "stream",
          "text": [
            "Epoch 5: train loss 1.8369522492090862, accuracy 0.28888888888888886\n",
            "Epoch 5: train loss 1.7675188382466633, accuracy 0.3511111111111111\n",
            "Epoch 5: train loss 1.8006599479251437, accuracy 0.33555555555555555\n",
            "Epoch 5: train loss 1.7830366028679743, accuracy 0.31333333333333335\n",
            "Epoch 5: train loss 1.8737682501475017, accuracy 0.2822222222222222\n",
            "Epoch 5: train loss 1.8799626959694757, accuracy 0.3088888888888889\n",
            "Epoch 5: train loss 1.8372332519955106, accuracy 0.3088888888888889\n",
            "Epoch 5: train loss 1.8328964842690363, accuracy 0.30666666666666664\n",
            "Epoch 5: train loss 1.868816958533393, accuracy 0.27555555555555555\n",
            "Epoch 5: train loss 1.859777569770813, accuracy 0.3333333333333333\n"
          ]
        },
        {
          "name": "stderr",
          "output_type": "stream",
          "text": [
            "INFO flower 2023-01-02 13:04:45,333 | server.py:116 | fit progress: (9, 1.7244032686948776, {'accuracy': 0.3858}, 164.53593137700045)\n",
            "INFO flower 2023-01-02 13:04:45,333 | server.py:163 | evaluate_round 9: no clients selected, cancel\n",
            "DEBUG flower 2023-01-02 13:04:45,333 | server.py:215 | fit_round 10: strategy sampled 10 clients (out of 100)\n"
          ]
        },
        {
          "name": "stdout",
          "output_type": "stream",
          "text": [
            "Server-side evaluation loss 1.7244032686948776 / accuracy 0.3858\n",
            "[Client 36, round 10] fit, config: {'server_round': 10, 'local_epochs': 5, 'learning_rate': 0.2283793118709102}\n",
            "[Client 28, round 10] fit, config: {'server_round': 10, 'local_epochs': 5, 'learning_rate': 0.2283793118709102}\n",
            "[Client 67, round 10] fit, config: {'server_round': 10, 'local_epochs': 5, 'learning_rate': 0.2283793118709102}\n",
            "[Client 11, round 10] fit, config: {'server_round': 10, 'local_epochs': 5, 'learning_rate': 0.2283793118709102}\n",
            "[Client 13, round 10] fit, config: {'server_round': 10, 'local_epochs': 5, 'learning_rate': 0.2283793118709102}\n",
            "[Client 56, round 10] fit, config: {'server_round': 10, 'local_epochs': 5, 'learning_rate': 0.2283793118709102}\n",
            "[Client 69, round 10] fit, config: {'server_round': 10, 'local_epochs': 5, 'learning_rate': 0.2283793118709102}\n",
            "[Client 78, round 10] fit, config: {'server_round': 10, 'local_epochs': 5, 'learning_rate': 0.2283793118709102}\n",
            "[Client 71, round 10] fit, config: {'server_round': 10, 'local_epochs': 5, 'learning_rate': 0.2283793118709102}\n",
            "[Client 35, round 10] fit, config: {'server_round': 10, 'local_epochs': 5, 'learning_rate': 0.2283793118709102}\n",
            "Epoch 1: train loss 1.9132222334543865, accuracy 0.32222222222222224\n",
            "Epoch 1: train loss 1.8843688037660387, accuracy 0.28888888888888886\n",
            "Epoch 1: train loss 1.8163421418931749, accuracy 0.3\n",
            "Epoch 1: train loss 1.8357764614952936, accuracy 0.31555555555555553\n",
            "Epoch 1: train loss 1.8116157982084486, accuracy 0.33555555555555555\n",
            "Epoch 1: train loss 1.8820842769410875, accuracy 0.3\n",
            "Epoch 1: train loss 1.799154904153612, accuracy 0.3488888888888889\n",
            "Epoch 1: train loss 1.8015410370296903, accuracy 0.3333333333333333\n",
            "Epoch 1: train loss 1.8608728514777289, accuracy 0.32222222222222224\n",
            "Epoch 1: train loss 1.7324171198738947, accuracy 0.31333333333333335\n",
            "Epoch 2: train loss 1.8202947510613336, accuracy 0.3022222222222222\n",
            "Epoch 2: train loss 1.896705945332845, accuracy 0.3244444444444444\n",
            "Epoch 2: train loss 1.8282764885160658, accuracy 0.3022222222222222\n",
            "Epoch 2: train loss 1.857876592212253, accuracy 0.29777777777777775\n",
            "Epoch 2: train loss 1.8211952315436468, accuracy 0.3488888888888889\n",
            "Epoch 2: train loss 1.8883622619840834, accuracy 0.30666666666666664\n",
            "Epoch 2: train loss 1.7879647413889568, accuracy 0.34444444444444444\n",
            "Epoch 2: train loss 1.7582423157162137, accuracy 0.38222222222222224\n",
            "Epoch 2: train loss 1.873728182580736, accuracy 0.29777777777777775\n",
            "Epoch 2: train loss 1.7966756688223944, accuracy 0.3022222222222222\n",
            "Epoch 3: train loss 1.8098795016606648, accuracy 0.3088888888888889\n",
            "Epoch 3: train loss 1.7273722622129652, accuracy 0.3488888888888889\n",
            "Epoch 3: train loss 1.8683449162377253, accuracy 0.32\n",
            "Epoch 3: train loss 1.845797273847792, accuracy 0.3333333333333333\n",
            "Epoch 3: train loss 1.7963403065999348, accuracy 0.3333333333333333\n",
            "Epoch 3: train loss 1.7878781689537897, accuracy 0.3466666666666667\n",
            "Epoch 3: train loss 1.7090900871488783, accuracy 0.4088888888888889\n",
            "Epoch 3: train loss 1.8285709354612563, accuracy 0.3622222222222222\n",
            "Epoch 3: train loss 1.8517106241650052, accuracy 0.3022222222222222\n",
            "Epoch 3: train loss 1.729713625378079, accuracy 0.3333333333333333\n",
            "Epoch 4: train loss 1.8387895954979792, accuracy 0.33111111111111113\n",
            "Epoch 4: train loss 1.8056739171346028, accuracy 0.3377777777777778\n",
            "Epoch 4: train loss 1.8159895075692072, accuracy 0.34\n",
            "Epoch 4: train loss 1.8429023557239108, accuracy 0.31333333333333335\n",
            "Epoch 4: train loss 1.8478696081373427, accuracy 0.3\n",
            "Epoch 4: train loss 1.7524251408047147, accuracy 0.33555555555555555\n",
            "Epoch 4: train loss 1.8240613142649333, accuracy 0.3288888888888889\n",
            "Epoch 4: train loss 1.8370498286353216, accuracy 0.3333333333333333\n",
            "Epoch 4: train loss 1.7721132569842868, accuracy 0.34444444444444444\n",
            "Epoch 4: train loss 1.8406395117441814, accuracy 0.34\n"
          ]
        },
        {
          "name": "stderr",
          "output_type": "stream",
          "text": [
            "DEBUG flower 2023-01-02 13:05:01,253 | server.py:229 | fit_round 10 received 10 results and 0 failures\n"
          ]
        },
        {
          "name": "stdout",
          "output_type": "stream",
          "text": [
            "Epoch 5: train loss 1.7920867337120905, accuracy 0.3288888888888889\n",
            "Epoch 5: train loss 1.7783124844233196, accuracy 0.3\n",
            "Epoch 5: train loss 1.8307017352845933, accuracy 0.31333333333333335\n",
            "Epoch 5: train loss 1.9792773458692763, accuracy 0.3022222222222222\n",
            "Epoch 5: train loss 1.8775777551862929, accuracy 0.32\n",
            "Epoch 5: train loss 1.830125583542718, accuracy 0.32\n",
            "Epoch 5: train loss 1.9410122897889879, accuracy 0.3333333333333333\n",
            "Epoch 5: train loss 1.7596766551335652, accuracy 0.36\n",
            "Epoch 5: train loss 1.7241020335091486, accuracy 0.32666666666666666\n",
            "Epoch 5: train loss 1.8323746124903362, accuracy 0.30444444444444446\n"
          ]
        },
        {
          "name": "stderr",
          "output_type": "stream",
          "text": [
            "INFO flower 2023-01-02 13:05:05,231 | server.py:116 | fit progress: (10, 1.7422066110372543, {'accuracy': 0.3839}, 184.4346613859998)\n",
            "INFO flower 2023-01-02 13:05:05,232 | server.py:163 | evaluate_round 10: no clients selected, cancel\n",
            "DEBUG flower 2023-01-02 13:05:05,233 | server.py:215 | fit_round 11: strategy sampled 10 clients (out of 100)\n"
          ]
        },
        {
          "name": "stdout",
          "output_type": "stream",
          "text": [
            "Server-side evaluation loss 1.7422066110372543 / accuracy 0.3839\n",
            "[Client 24, round 11] fit, config: {'server_round': 11, 'local_epochs': 5, 'learning_rate': 0.2260955187522011}\n",
            "[Client 66, round 11] fit, config: {'server_round': 11, 'local_epochs': 5, 'learning_rate': 0.2260955187522011}\n",
            "[Client 8, round 11] fit, config: {'server_round': 11, 'local_epochs': 5, 'learning_rate': 0.2260955187522011}\n",
            "[Client 81, round 11] fit, config: {'server_round': 11, 'local_epochs': 5, 'learning_rate': 0.2260955187522011}\n",
            "[Client 50, round 11] fit, config: {'server_round': 11, 'local_epochs': 5, 'learning_rate': 0.2260955187522011}\n",
            "[Client 57, round 11] fit, config: {'server_round': 11, 'local_epochs': 5, 'learning_rate': 0.2260955187522011}\n",
            "[Client 52, round 11] fit, config: {'server_round': 11, 'local_epochs': 5, 'learning_rate': 0.2260955187522011}\n",
            "[Client 14, round 11] fit, config: {'server_round': 11, 'local_epochs': 5, 'learning_rate': 0.2260955187522011}\n",
            "[Client 7, round 11] fit, config: {'server_round': 11, 'local_epochs': 5, 'learning_rate': 0.2260955187522011}\n",
            "[Client 72, round 11] fit, config: {'server_round': 11, 'local_epochs': 5, 'learning_rate': 0.2260955187522011}\n",
            "Epoch 1: train loss 1.7834224303563435, accuracy 0.3244444444444444\n",
            "Epoch 1: train loss 1.7887101040946112, accuracy 0.3688888888888889\n",
            "Epoch 1: train loss 1.8354507949617174, accuracy 0.3422222222222222\n",
            "Epoch 1: train loss 1.788189238972134, accuracy 0.32\n",
            "Epoch 1: train loss 1.771428147951762, accuracy 0.3622222222222222\n",
            "Epoch 1: train loss 1.8123487366570368, accuracy 0.31777777777777777\n",
            "Epoch 1: train loss 1.8437940279642742, accuracy 0.3466666666666667\n",
            "Epoch 1: train loss 1.7754725615183513, accuracy 0.34\n",
            "Epoch 1: train loss 1.8546395036909316, accuracy 0.29777777777777775\n",
            "Epoch 1: train loss 1.806617922253079, accuracy 0.32222222222222224\n",
            "Epoch 2: train loss 1.8848819202846951, accuracy 0.29555555555555557\n",
            "Epoch 2: train loss 1.7627172735002306, accuracy 0.35777777777777775\n",
            "Epoch 2: train loss 1.8652382691701253, accuracy 0.3422222222222222\n",
            "Epoch 2: train loss 1.7601397302415636, accuracy 0.3688888888888889\n",
            "Epoch 2: train loss 1.7859067387051053, accuracy 0.32666666666666666\n",
            "Epoch 2: train loss 1.8723738855785794, accuracy 0.31333333333333335\n",
            "Epoch 2: train loss 1.7711963653564453, accuracy 0.32\n",
            "Epoch 2: train loss 1.8636041349834866, accuracy 0.31333333333333335\n",
            "Epoch 2: train loss 1.784824185901218, accuracy 0.3288888888888889\n",
            "Epoch 2: train loss 1.8192079464594524, accuracy 0.3466666666666667\n",
            "Epoch 3: train loss 1.796813474761115, accuracy 0.34\n",
            "Epoch 3: train loss 1.6715001000298395, accuracy 0.3844444444444444\n",
            "Epoch 3: train loss 1.7188695536719427, accuracy 0.3711111111111111\n",
            "Epoch 3: train loss 1.851987706290351, accuracy 0.3\n",
            "Epoch 3: train loss 1.8135339551501803, accuracy 0.3\n",
            "Epoch 3: train loss 1.796368334028456, accuracy 0.3466666666666667\n",
            "Epoch 3: train loss 1.8146960867775812, accuracy 0.31777777777777777\n",
            "Epoch 3: train loss 1.9122277630700006, accuracy 0.29333333333333333\n",
            "Epoch 3: train loss 1.802098102039761, accuracy 0.3422222222222222\n",
            "Epoch 3: train loss 1.8226801819271512, accuracy 0.3422222222222222\n",
            "Epoch 4: train loss 1.7345738808314006, accuracy 0.3688888888888889\n",
            "Epoch 4: train loss 1.8235590193006728, accuracy 0.3111111111111111\n",
            "Epoch 4: train loss 1.8237279256184895, accuracy 0.3333333333333333\n",
            "Epoch 4: train loss 1.7784539196226332, accuracy 0.3244444444444444\n",
            "Epoch 4: train loss 1.760280476676093, accuracy 0.30444444444444446\n",
            "Epoch 4: train loss 1.8228902551862929, accuracy 0.31777777777777777\n",
            "Epoch 4: train loss 1.9108201795154147, accuracy 0.31333333333333335\n",
            "Epoch 4: train loss 1.860260354148017, accuracy 0.34\n",
            "Epoch 4: train loss 1.8606140348646376, accuracy 0.36\n",
            "Epoch 4: train loss 1.8004663123024836, accuracy 0.3288888888888889\n"
          ]
        },
        {
          "name": "stderr",
          "output_type": "stream",
          "text": [
            "DEBUG flower 2023-01-02 13:05:21,057 | server.py:229 | fit_round 11 received 10 results and 0 failures\n"
          ]
        },
        {
          "name": "stdout",
          "output_type": "stream",
          "text": [
            "Epoch 5: train loss 1.7812872992621527, accuracy 0.35333333333333333\n",
            "Epoch 5: train loss 1.9711047278510199, accuracy 0.28444444444444444\n",
            "Epoch 5: train loss 1.8705029487609863, accuracy 0.33111111111111113\n",
            "Epoch 5: train loss 1.6601985957887437, accuracy 0.37777777777777777\n",
            "Epoch 5: train loss 1.8709504869249132, accuracy 0.3288888888888889\n",
            "Epoch 5: train loss 1.8233567343817816, accuracy 0.32\n",
            "Epoch 5: train loss 1.7714420557022095, accuracy 0.3488888888888889\n",
            "Epoch 5: train loss 1.7506601413091023, accuracy 0.36666666666666664\n",
            "Epoch 5: train loss 1.7464434040917292, accuracy 0.3488888888888889\n",
            "Epoch 5: train loss 1.8381249772177801, accuracy 0.28888888888888886\n"
          ]
        },
        {
          "name": "stderr",
          "output_type": "stream",
          "text": [
            "INFO flower 2023-01-02 13:05:23,840 | server.py:116 | fit progress: (11, 1.696931614279747, {'accuracy': 0.3896}, 203.04335266899943)\n",
            "INFO flower 2023-01-02 13:05:23,841 | server.py:163 | evaluate_round 11: no clients selected, cancel\n",
            "DEBUG flower 2023-01-02 13:05:23,842 | server.py:215 | fit_round 12: strategy sampled 10 clients (out of 100)\n"
          ]
        },
        {
          "name": "stdout",
          "output_type": "stream",
          "text": [
            "Server-side evaluation loss 1.696931614279747 / accuracy 0.3896\n",
            "[Client 55, round 12] fit, config: {'server_round': 12, 'local_epochs': 5, 'learning_rate': 0.2238345635646791}\n",
            "[Client 97, round 12] fit, config: {'server_round': 12, 'local_epochs': 5, 'learning_rate': 0.2238345635646791}\n",
            "[Client 83, round 12] fit, config: {'server_round': 12, 'local_epochs': 5, 'learning_rate': 0.2238345635646791}\n",
            "[Client 66, round 12] fit, config: {'server_round': 12, 'local_epochs': 5, 'learning_rate': 0.2238345635646791}\n",
            "[Client 45, round 12] fit, config: {'server_round': 12, 'local_epochs': 5, 'learning_rate': 0.2238345635646791}\n",
            "[Client 63, round 12] fit, config: {'server_round': 12, 'local_epochs': 5, 'learning_rate': 0.2238345635646791}\n",
            "[Client 17, round 12] fit, config: {'server_round': 12, 'local_epochs': 5, 'learning_rate': 0.2238345635646791}\n",
            "[Client 19, round 12] fit, config: {'server_round': 12, 'local_epochs': 5, 'learning_rate': 0.2238345635646791}\n",
            "[Client 24, round 12] fit, config: {'server_round': 12, 'local_epochs': 5, 'learning_rate': 0.2238345635646791}\n",
            "[Client 27, round 12] fit, config: {'server_round': 12, 'local_epochs': 5, 'learning_rate': 0.2238345635646791}\n",
            "Epoch 1: train loss 1.8222335974375408, accuracy 0.3022222222222222\n",
            "Epoch 1: train loss 1.7961544858084784, accuracy 0.28\n",
            "Epoch 1: train loss 1.8181142674552069, accuracy 0.31333333333333335\n",
            "Epoch 1: train loss 1.7908525069554646, accuracy 0.31777777777777777\n",
            "Epoch 1: train loss 1.69056416882409, accuracy 0.38\n",
            "Epoch 1: train loss 1.723967605166965, accuracy 0.36\n",
            "Epoch 1: train loss 1.782454596625434, accuracy 0.34\n",
            "Epoch 1: train loss 1.8128792974683974, accuracy 0.3244444444444444\n",
            "Epoch 1: train loss 1.8081374830669827, accuracy 0.3466666666666667\n",
            "Epoch 1: train loss 1.8558031055662367, accuracy 0.3088888888888889\n",
            "Epoch 2: train loss 1.7509575817320082, accuracy 0.31555555555555553\n",
            "Epoch 2: train loss 1.6900115013122559, accuracy 0.3466666666666667\n",
            "Epoch 2: train loss 1.7119673887888591, accuracy 0.36\n",
            "Epoch 2: train loss 1.8118579652574327, accuracy 0.3111111111111111\n",
            "Epoch 2: train loss 1.7477178970972698, accuracy 0.32222222222222224\n",
            "Epoch 2: train loss 1.7945023377736409, accuracy 0.3511111111111111\n",
            "Epoch 2: train loss 1.8362728622224596, accuracy 0.32222222222222224\n",
            "Epoch 2: train loss 1.8050780693689983, accuracy 0.35333333333333333\n",
            "Epoch 2: train loss 1.803444226582845, accuracy 0.31333333333333335\n",
            "Epoch 2: train loss 1.83203125, accuracy 0.3\n",
            "Epoch 3: train loss 1.812490118874444, accuracy 0.3111111111111111\n",
            "Epoch 3: train loss 1.7085755003823175, accuracy 0.32222222222222224\n",
            "Epoch 3: train loss 2.031106154123942, accuracy 0.29777777777777775\n",
            "Epoch 3: train loss 1.7627381218804254, accuracy 0.3377777777777778\n",
            "Epoch 3: train loss 1.7219176954693265, accuracy 0.36\n",
            "Epoch 3: train loss 1.7828069130579631, accuracy 0.3244444444444444\n",
            "Epoch 3: train loss 1.763273662990994, accuracy 0.31555555555555553\n",
            "Epoch 3: train loss 1.7791260083516438, accuracy 0.3422222222222222\n",
            "Epoch 3: train loss 1.7943514453040228, accuracy 0.3288888888888889\n",
            "Epoch 3: train loss 1.7636446820365057, accuracy 0.31333333333333335\n",
            "Epoch 4: train loss 1.800154407819112, accuracy 0.32666666666666666\n",
            "Epoch 4: train loss 1.9505258666144476, accuracy 0.3\n",
            "Epoch 4: train loss 1.8419671456019084, accuracy 0.33555555555555555\n",
            "Epoch 4: train loss 1.753583312034607, accuracy 0.3622222222222222\n",
            "Epoch 4: train loss 1.7005386352539062, accuracy 0.4066666666666667\n",
            "Epoch 4: train loss 1.6603209575017293, accuracy 0.3933333333333333\n",
            "Epoch 4: train loss 1.7893122302161322, accuracy 0.3422222222222222\n",
            "Epoch 4: train loss 1.7298425568474665, accuracy 0.32666666666666666\n",
            "Epoch 4: train loss 1.7233494652642145, accuracy 0.3688888888888889\n",
            "Epoch 4: train loss 1.7558586067623563, accuracy 0.34\n"
          ]
        },
        {
          "name": "stderr",
          "output_type": "stream",
          "text": [
            "DEBUG flower 2023-01-02 13:05:39,613 | server.py:229 | fit_round 12 received 10 results and 0 failures\n"
          ]
        },
        {
          "name": "stdout",
          "output_type": "stream",
          "text": [
            "Epoch 5: train loss 1.7308188676834106, accuracy 0.3422222222222222\n",
            "Epoch 5: train loss 1.7093607981999714, accuracy 0.36666666666666664\n",
            "Epoch 5: train loss 1.744027230474684, accuracy 0.38\n",
            "Epoch 5: train loss 1.7664960092968411, accuracy 0.33555555555555555\n",
            "Epoch 5: train loss 1.7427482340070937, accuracy 0.32666666666666666\n",
            "Epoch 5: train loss 1.812027374903361, accuracy 0.32\n",
            "Epoch 5: train loss 1.7292601532406278, accuracy 0.3711111111111111\n",
            "Epoch 5: train loss 1.713108155462477, accuracy 0.3466666666666667\n",
            "Epoch 5: train loss 1.7066060702006023, accuracy 0.35555555555555557\n",
            "Epoch 5: train loss 1.720226486523946, accuracy 0.3466666666666667\n"
          ]
        },
        {
          "name": "stderr",
          "output_type": "stream",
          "text": [
            "INFO flower 2023-01-02 13:05:42,161 | server.py:116 | fit progress: (12, 1.6355706119537354, {'accuracy': 0.4121}, 221.3640436980004)\n",
            "INFO flower 2023-01-02 13:05:42,161 | server.py:163 | evaluate_round 12: no clients selected, cancel\n",
            "DEBUG flower 2023-01-02 13:05:42,162 | server.py:215 | fit_round 13: strategy sampled 10 clients (out of 100)\n"
          ]
        },
        {
          "name": "stdout",
          "output_type": "stream",
          "text": [
            "Server-side evaluation loss 1.6355706119537354 / accuracy 0.4121\n",
            "[Client 30, round 13] fit, config: {'server_round': 13, 'local_epochs': 5, 'learning_rate': 0.2215962179290323}\n",
            "[Client 4, round 13] fit, config: {'server_round': 13, 'local_epochs': 5, 'learning_rate': 0.2215962179290323}\n",
            "[Client 31, round 13] fit, config: {'server_round': 13, 'local_epochs': 5, 'learning_rate': 0.2215962179290323}\n",
            "[Client 26, round 13] fit, config: {'server_round': 13, 'local_epochs': 5, 'learning_rate': 0.2215962179290323}\n",
            "[Client 9, round 13] fit, config: {'server_round': 13, 'local_epochs': 5, 'learning_rate': 0.2215962179290323}\n",
            "[Client 51, round 13] fit, config: {'server_round': 13, 'local_epochs': 5, 'learning_rate': 0.2215962179290323}\n",
            "[Client 3, round 13] fit, config: {'server_round': 13, 'local_epochs': 5, 'learning_rate': 0.2215962179290323}\n",
            "[Client 1, round 13] fit, config: {'server_round': 13, 'local_epochs': 5, 'learning_rate': 0.2215962179290323}\n",
            "[Client 52, round 13] fit, config: {'server_round': 13, 'local_epochs': 5, 'learning_rate': 0.2215962179290323}\n",
            "[Client 83, round 13] fit, config: {'server_round': 13, 'local_epochs': 5, 'learning_rate': 0.2215962179290323}\n",
            "Epoch 1: train loss 1.7312416500515408, accuracy 0.3466666666666667\n",
            "Epoch 1: train loss 1.7799605131149292, accuracy 0.3466666666666667\n",
            "Epoch 1: train loss 1.7316743665271335, accuracy 0.35555555555555557\n",
            "Epoch 1: train loss 1.7608860731124878, accuracy 0.36444444444444446\n",
            "Epoch 1: train loss 1.7925937970479329, accuracy 0.3288888888888889\n",
            "Epoch 1: train loss 1.7286120653152466, accuracy 0.3377777777777778\n",
            "Epoch 1: train loss 1.7757526371214125, accuracy 0.34444444444444444\n",
            "Epoch 1: train loss 1.7909957832760282, accuracy 0.3466666666666667\n",
            "Epoch 1: train loss 1.76626808113522, accuracy 0.3422222222222222\n",
            "Epoch 1: train loss 1.7034051683213975, accuracy 0.38\n",
            "Epoch 2: train loss 1.8352790011299982, accuracy 0.36444444444444446\n",
            "Epoch 2: train loss 1.7185455295774672, accuracy 0.3377777777777778\n",
            "Epoch 2: train loss 1.7539842393663194, accuracy 0.38\n",
            "Epoch 2: train loss 1.6463992728127375, accuracy 0.39111111111111113\n",
            "Epoch 2: train loss 1.8352514372931585, accuracy 0.35777777777777775\n",
            "Epoch 2: train loss 1.7335922585593329, accuracy 0.3622222222222222\n",
            "Epoch 2: train loss 1.7484808762868245, accuracy 0.35777777777777775\n",
            "Epoch 2: train loss 1.7755897177590265, accuracy 0.37333333333333335\n",
            "Epoch 2: train loss 1.7486429611841838, accuracy 0.3511111111111111\n",
            "Epoch 2: train loss 1.683703859647115, accuracy 0.38222222222222224\n",
            "Epoch 3: train loss 1.6652910974290636, accuracy 0.4066666666666667\n",
            "Epoch 3: train loss 1.8602186308966742, accuracy 0.3466666666666667\n",
            "Epoch 3: train loss 1.6810824473698933, accuracy 0.37777777777777777\n",
            "Epoch 3: train loss 1.7253555059432983, accuracy 0.36666666666666664\n",
            "Epoch 3: train loss 1.682728237575955, accuracy 0.38222222222222224\n",
            "Epoch 3: train loss 1.7141455147001479, accuracy 0.37555555555555553\n",
            "Epoch 3: train loss 1.7232864167955186, accuracy 0.38\n",
            "Epoch 3: train loss 1.7452045414182875, accuracy 0.37555555555555553\n",
            "Epoch 3: train loss 1.780120677418179, accuracy 0.3688888888888889\n",
            "Epoch 3: train loss 1.7428232298956976, accuracy 0.3488888888888889\n",
            "Epoch 4: train loss 1.6936131848229303, accuracy 0.35555555555555557\n",
            "Epoch 4: train loss 1.7988068262736003, accuracy 0.31777777777777777\n",
            "Epoch 4: train loss 1.7512973414527044, accuracy 0.37333333333333335\n",
            "Epoch 4: train loss 1.6995267338222928, accuracy 0.34\n",
            "Epoch 4: train loss 1.7514781289630466, accuracy 0.35333333333333333\n",
            "Epoch 4: train loss 1.6909262074364557, accuracy 0.3711111111111111\n",
            "Epoch 4: train loss 1.7359048657947116, accuracy 0.37333333333333335\n",
            "Epoch 4: train loss 1.6925709777408176, accuracy 0.38666666666666666\n",
            "Epoch 4: train loss 1.7283224794599745, accuracy 0.3511111111111111\n",
            "Epoch 4: train loss 1.7436893516116672, accuracy 0.34444444444444444\n"
          ]
        },
        {
          "name": "stderr",
          "output_type": "stream",
          "text": [
            "DEBUG flower 2023-01-02 13:05:55,991 | server.py:229 | fit_round 13 received 10 results and 0 failures\n"
          ]
        },
        {
          "name": "stdout",
          "output_type": "stream",
          "text": [
            "Epoch 5: train loss 1.6455899344550238, accuracy 0.4022222222222222\n",
            "Epoch 5: train loss 1.8267641067504883, accuracy 0.37333333333333335\n",
            "Epoch 5: train loss 1.7225087351269193, accuracy 0.3844444444444444\n",
            "Epoch 5: train loss 1.6158446073532104, accuracy 0.4022222222222222\n",
            "Epoch 5: train loss 1.75866695245107, accuracy 0.35777777777777775\n",
            "Epoch 5: train loss 1.802494313981798, accuracy 0.3377777777777778\n",
            "Epoch 5: train loss 1.72171065542433, accuracy 0.3933333333333333\n",
            "Epoch 5: train loss 1.6587480041715834, accuracy 0.36444444444444446\n",
            "Epoch 5: train loss 1.6734071969985962, accuracy 0.3488888888888889\n",
            "Epoch 5: train loss 1.6382562981711493, accuracy 0.37555555555555553\n"
          ]
        },
        {
          "name": "stderr",
          "output_type": "stream",
          "text": [
            "INFO flower 2023-01-02 13:05:58,508 | server.py:116 | fit progress: (13, 1.604927464723587, {'accuracy': 0.4217}, 237.7111636890004)\n",
            "INFO flower 2023-01-02 13:05:58,508 | server.py:163 | evaluate_round 13: no clients selected, cancel\n",
            "DEBUG flower 2023-01-02 13:05:58,509 | server.py:215 | fit_round 14: strategy sampled 10 clients (out of 100)\n"
          ]
        },
        {
          "name": "stdout",
          "output_type": "stream",
          "text": [
            "Server-side evaluation loss 1.604927464723587 / accuracy 0.4217\n",
            "[Client 41, round 14] fit, config: {'server_round': 14, 'local_epochs': 5, 'learning_rate': 0.21938025574974196}\n",
            "[Client 70, round 14] fit, config: {'server_round': 14, 'local_epochs': 5, 'learning_rate': 0.21938025574974196}\n",
            "[Client 3, round 14] fit, config: {'server_round': 14, 'local_epochs': 5, 'learning_rate': 0.21938025574974196}\n",
            "[Client 5, round 14] fit, config: {'server_round': 14, 'local_epochs': 5, 'learning_rate': 0.21938025574974196}\n",
            "[Client 93, round 14] fit, config: {'server_round': 14, 'local_epochs': 5, 'learning_rate': 0.21938025574974196}\n",
            "[Client 55, round 14] fit, config: {'server_round': 14, 'local_epochs': 5, 'learning_rate': 0.21938025574974196}\n",
            "[Client 31, round 14] fit, config: {'server_round': 14, 'local_epochs': 5, 'learning_rate': 0.21938025574974196}\n",
            "[Client 89, round 14] fit, config: {'server_round': 14, 'local_epochs': 5, 'learning_rate': 0.21938025574974196}\n",
            "[Client 37, round 14] fit, config: {'server_round': 14, 'local_epochs': 5, 'learning_rate': 0.21938025574974196}\n",
            "[Client 23, round 14] fit, config: {'server_round': 14, 'local_epochs': 5, 'learning_rate': 0.21938025574974196}\n",
            "Epoch 1: train loss 1.6272427373462253, accuracy 0.4088888888888889\n",
            "Epoch 1: train loss 1.7739078336291842, accuracy 0.33555555555555555\n",
            "Epoch 1: train loss 1.770787239074707, accuracy 0.3488888888888889\n",
            "Epoch 1: train loss 1.7187097205056086, accuracy 0.38666666666666666\n",
            "Epoch 1: train loss 1.7819878260294597, accuracy 0.3377777777777778\n",
            "Epoch 1: train loss 1.7422816223568387, accuracy 0.3488888888888889\n",
            "Epoch 1: train loss 1.7184791962305705, accuracy 0.3711111111111111\n",
            "Epoch 1: train loss 1.753314773241679, accuracy 0.37555555555555553\n",
            "Epoch 1: train loss 1.7791275448269315, accuracy 0.3488888888888889\n",
            "Epoch 1: train loss 1.7357418934504192, accuracy 0.35333333333333333\n",
            "Epoch 2: train loss 1.759078131781684, accuracy 0.35333333333333333\n",
            "Epoch 2: train loss 1.706782062848409, accuracy 0.35333333333333333\n",
            "Epoch 2: train loss 1.7811613480250041, accuracy 0.37777777777777777\n",
            "Epoch 2: train loss 1.7326826122072008, accuracy 0.36666666666666664\n",
            "Epoch 2: train loss 1.662736005253262, accuracy 0.39111111111111113\n",
            "Epoch 2: train loss 1.7754994365904067, accuracy 0.35777777777777775\n",
            "Epoch 2: train loss 1.7384257713953655, accuracy 0.3711111111111111\n",
            "Epoch 2: train loss 1.8300133678648207, accuracy 0.32666666666666666\n",
            "Epoch 2: train loss 1.6905935737821791, accuracy 0.3977777777777778\n",
            "Epoch 2: train loss 1.697687519921197, accuracy 0.3511111111111111\n",
            "Epoch 3: train loss 1.667068017853631, accuracy 0.3688888888888889\n",
            "Epoch 3: train loss 1.6024943722618952, accuracy 0.42444444444444446\n",
            "Epoch 3: train loss 1.6335581673516169, accuracy 0.3977777777777778\n",
            "Epoch 3: train loss 1.7948260307312012, accuracy 0.3288888888888889\n",
            "Epoch 3: train loss 1.822970257865058, accuracy 0.32\n",
            "Epoch 3: train loss 1.7310210598839655, accuracy 0.3244444444444444\n",
            "Epoch 3: train loss 1.7389545440673828, accuracy 0.36444444444444446\n",
            "Epoch 3: train loss 1.616832309299045, accuracy 0.38666666666666666\n",
            "Epoch 3: train loss 1.674381481276618, accuracy 0.38\n",
            "Epoch 3: train loss 1.7998055087195501, accuracy 0.3466666666666667\n",
            "Epoch 4: train loss 1.7515667147106595, accuracy 0.3688888888888889\n",
            "Epoch 4: train loss 1.5572135580910578, accuracy 0.3888888888888889\n",
            "Epoch 4: train loss 1.6462009880277846, accuracy 0.3977777777777778\n",
            "Epoch 4: train loss 1.744633608394199, accuracy 0.33555555555555555\n",
            "Epoch 4: train loss 1.8028176095750597, accuracy 0.3244444444444444\n",
            "Epoch 4: train loss 1.7454846170213487, accuracy 0.31333333333333335\n",
            "Epoch 4: train loss 1.741871436436971, accuracy 0.35777777777777775\n",
            "Epoch 4: train loss 1.7524482938978407, accuracy 0.35777777777777775\n",
            "Epoch 4: train loss 1.6827916834089491, accuracy 0.35555555555555557\n",
            "Epoch 4: train loss 1.7114800479676988, accuracy 0.36666666666666664\n"
          ]
        },
        {
          "name": "stderr",
          "output_type": "stream",
          "text": [
            "DEBUG flower 2023-01-02 13:06:12,781 | server.py:229 | fit_round 14 received 10 results and 0 failures\n"
          ]
        },
        {
          "name": "stdout",
          "output_type": "stream",
          "text": [
            "Epoch 5: train loss 1.7681614425447252, accuracy 0.3333333333333333\n",
            "Epoch 5: train loss 1.6160165866216023, accuracy 0.39555555555555555\n",
            "Epoch 5: train loss 1.6778192785051134, accuracy 0.3844444444444444\n",
            "Epoch 5: train loss 1.6594780153698392, accuracy 0.36666666666666664\n",
            "Epoch 5: train loss 1.7295196188820734, accuracy 0.3622222222222222\n",
            "Epoch 5: train loss 1.6924526823891535, accuracy 0.36444444444444446\n",
            "Epoch 5: train loss 1.8004126416312323, accuracy 0.3466666666666667\n",
            "Epoch 5: train loss 1.7442264159520466, accuracy 0.3622222222222222\n",
            "Epoch 5: train loss 1.8099117146597967, accuracy 0.31333333333333335\n",
            "Epoch 5: train loss 1.784102029270596, accuracy 0.32222222222222224\n"
          ]
        },
        {
          "name": "stderr",
          "output_type": "stream",
          "text": [
            "INFO flower 2023-01-02 13:06:16,120 | server.py:116 | fit progress: (14, 1.594452024102211, {'accuracy': 0.4148}, 255.3235854630002)\n",
            "INFO flower 2023-01-02 13:06:16,121 | server.py:163 | evaluate_round 14: no clients selected, cancel\n",
            "DEBUG flower 2023-01-02 13:06:16,121 | server.py:215 | fit_round 15: strategy sampled 10 clients (out of 100)\n"
          ]
        },
        {
          "name": "stdout",
          "output_type": "stream",
          "text": [
            "Server-side evaluation loss 1.594452024102211 / accuracy 0.4148\n",
            "[Client 38, round 15] fit, config: {'server_round': 15, 'local_epochs': 5, 'learning_rate': 0.21718645319224456}\n",
            "[Client 14, round 15] fit, config: {'server_round': 15, 'local_epochs': 5, 'learning_rate': 0.21718645319224456}\n",
            "[Client 36, round 15] fit, config: {'server_round': 15, 'local_epochs': 5, 'learning_rate': 0.21718645319224456}\n",
            "[Client 85, round 15] fit, config: {'server_round': 15, 'local_epochs': 5, 'learning_rate': 0.21718645319224456}\n",
            "[Client 41, round 15] fit, config: {'server_round': 15, 'local_epochs': 5, 'learning_rate': 0.21718645319224456}\n",
            "[Client 82, round 15] fit, config: {'server_round': 15, 'local_epochs': 5, 'learning_rate': 0.21718645319224456}\n",
            "[Client 27, round 15] fit, config: {'server_round': 15, 'local_epochs': 5, 'learning_rate': 0.21718645319224456}\n",
            "[Client 65, round 15] fit, config: {'server_round': 15, 'local_epochs': 5, 'learning_rate': 0.21718645319224456}\n",
            "[Client 3, round 15] fit, config: {'server_round': 15, 'local_epochs': 5, 'learning_rate': 0.21718645319224456}\n",
            "[Client 95, round 15] fit, config: {'server_round': 15, 'local_epochs': 5, 'learning_rate': 0.21718645319224456}\n",
            "Epoch 1: train loss 1.7331319120195177, accuracy 0.36\n",
            "Epoch 1: train loss 1.6893532938427396, accuracy 0.39555555555555555\n",
            "Epoch 1: train loss 1.7115116251839533, accuracy 0.38222222222222224\n",
            "Epoch 1: train loss 1.7640270392100017, accuracy 0.36\n",
            "Epoch 1: train loss 1.7475759718153212, accuracy 0.3622222222222222\n",
            "Epoch 1: train loss 1.5834888749652438, accuracy 0.4266666666666667\n",
            "Epoch 1: train loss 1.6972080734041002, accuracy 0.37333333333333335\n",
            "Epoch 1: train loss 1.7784810198677912, accuracy 0.35333333333333333\n",
            "Epoch 1: train loss 1.7274654044045343, accuracy 0.37777777777777777\n",
            "Epoch 1: train loss 1.766927891307407, accuracy 0.3888888888888889\n",
            "Epoch 2: train loss 1.7267738050884671, accuracy 0.36\n",
            "Epoch 2: train loss 1.719046605957879, accuracy 0.39555555555555555\n",
            "Epoch 2: train loss 1.6921190023422241, accuracy 0.39111111111111113\n",
            "Epoch 2: train loss 1.8828541305330064, accuracy 0.31555555555555553\n",
            "Epoch 2: train loss 1.6663926839828491, accuracy 0.37777777777777777\n",
            "Epoch 2: train loss 1.7434173027674358, accuracy 0.3466666666666667\n",
            "Epoch 2: train loss 1.7222486072116427, accuracy 0.36444444444444446\n",
            "Epoch 2: train loss 1.6861216359668307, accuracy 0.38222222222222224\n",
            "Epoch 2: train loss 1.604030688603719, accuracy 0.40444444444444444\n",
            "Epoch 2: train loss 1.6604019006093342, accuracy 0.37555555555555553\n",
            "Epoch 3: train loss 1.6689441071616278, accuracy 0.37777777777777777\n",
            "Epoch 3: train loss 1.7636774778366089, accuracy 0.34444444444444444\n",
            "Epoch 3: train loss 1.7091403537326388, accuracy 0.35333333333333333\n",
            "Epoch 3: train loss 1.6883639891942341, accuracy 0.35333333333333333\n",
            "Epoch 3: train loss 1.7780623303519354, accuracy 0.36444444444444446\n",
            "Epoch 3: train loss 1.7100293636322021, accuracy 0.3511111111111111\n",
            "Epoch 3: train loss 1.7471452818976507, accuracy 0.3688888888888889\n",
            "Epoch 3: train loss 1.7113433016671076, accuracy 0.3711111111111111\n",
            "Epoch 3: train loss 1.6993158525890775, accuracy 0.39555555555555555\n",
            "Epoch 3: train loss 1.6642129553688898, accuracy 0.37777777777777777\n",
            "Epoch 4: train loss 1.6504912376403809, accuracy 0.3711111111111111\n",
            "Epoch 4: train loss 1.7021889289220173, accuracy 0.37777777777777777\n",
            "Epoch 4: train loss 1.6130393346150715, accuracy 0.42\n",
            "Epoch 4: train loss 1.6442331340577867, accuracy 0.3977777777777778\n",
            "Epoch 4: train loss 1.6847828494177923, accuracy 0.36444444444444446\n",
            "Epoch 4: train loss 1.7084288332197402, accuracy 0.38666666666666666\n",
            "Epoch 4: train loss 1.6394720209969416, accuracy 0.40444444444444444\n",
            "Epoch 4: train loss 1.7594127787484064, accuracy 0.38\n",
            "Epoch 4: train loss 1.698438737127516, accuracy 0.38222222222222224\n",
            "Epoch 4: train loss 1.5918366379208035, accuracy 0.42444444444444446\n"
          ]
        },
        {
          "name": "stderr",
          "output_type": "stream",
          "text": [
            "DEBUG flower 2023-01-02 13:06:32,439 | server.py:229 | fit_round 15 received 10 results and 0 failures\n"
          ]
        },
        {
          "name": "stdout",
          "output_type": "stream",
          "text": [
            "Epoch 5: train loss 1.6179063717524211, accuracy 0.4066666666666667\n",
            "Epoch 5: train loss 1.6733371946546767, accuracy 0.3844444444444444\n",
            "Epoch 5: train loss 1.665958907869127, accuracy 0.3888888888888889\n",
            "Epoch 5: train loss 1.7041857242584229, accuracy 0.40444444444444444\n",
            "Epoch 5: train loss 1.6842546727922227, accuracy 0.3688888888888889\n",
            "Epoch 5: train loss 1.6976583931181166, accuracy 0.3933333333333333\n",
            "Epoch 5: train loss 1.6321955256991916, accuracy 0.3844444444444444\n",
            "Epoch 5: train loss 1.6318930917316012, accuracy 0.39555555555555555\n",
            "Epoch 5: train loss 1.830537690056695, accuracy 0.33111111111111113\n",
            "Epoch 5: train loss 1.5433382325702243, accuracy 0.4666666666666667\n"
          ]
        },
        {
          "name": "stderr",
          "output_type": "stream",
          "text": [
            "INFO flower 2023-01-02 13:06:35,141 | server.py:116 | fit progress: (15, 1.5789094483852386, {'accuracy': 0.4274}, 274.3444487800007)\n",
            "INFO flower 2023-01-02 13:06:35,142 | server.py:163 | evaluate_round 15: no clients selected, cancel\n",
            "DEBUG flower 2023-01-02 13:06:35,142 | server.py:215 | fit_round 16: strategy sampled 10 clients (out of 100)\n"
          ]
        },
        {
          "name": "stdout",
          "output_type": "stream",
          "text": [
            "Server-side evaluation loss 1.5789094483852386 / accuracy 0.4274\n",
            "[Client 46, round 16] fit, config: {'server_round': 16, 'local_epochs': 5, 'learning_rate': 0.2150145886603221}\n",
            "[Client 19, round 16] fit, config: {'server_round': 16, 'local_epochs': 5, 'learning_rate': 0.2150145886603221}\n",
            "[Client 59, round 16] fit, config: {'server_round': 16, 'local_epochs': 5, 'learning_rate': 0.2150145886603221}\n",
            "[Client 28, round 16] fit, config: {'server_round': 16, 'local_epochs': 5, 'learning_rate': 0.2150145886603221}\n",
            "[Client 65, round 16] fit, config: {'server_round': 16, 'local_epochs': 5, 'learning_rate': 0.2150145886603221}\n",
            "[Client 84, round 16] fit, config: {'server_round': 16, 'local_epochs': 5, 'learning_rate': 0.2150145886603221}\n",
            "[Client 53, round 16] fit, config: {'server_round': 16, 'local_epochs': 5, 'learning_rate': 0.2150145886603221}\n",
            "[Client 55, round 16] fit, config: {'server_round': 16, 'local_epochs': 5, 'learning_rate': 0.2150145886603221}\n",
            "[Client 50, round 16] fit, config: {'server_round': 16, 'local_epochs': 5, 'learning_rate': 0.2150145886603221}\n",
            "[Client 71, round 16] fit, config: {'server_round': 16, 'local_epochs': 5, 'learning_rate': 0.2150145886603221}\n",
            "Epoch 1: train loss 1.6716162893507216, accuracy 0.38222222222222224\n",
            "Epoch 1: train loss 1.7154144446055095, accuracy 0.35555555555555557\n",
            "Epoch 1: train loss 1.7325065268410578, accuracy 0.36\n",
            "Epoch 1: train loss 1.704596824116177, accuracy 0.37777777777777777\n",
            "Epoch 1: train loss 1.677990158398946, accuracy 0.37777777777777777\n",
            "Epoch 1: train loss 1.7688494126001995, accuracy 0.3844444444444444\n",
            "Epoch 1: train loss 1.626880619261, accuracy 0.40444444444444444\n",
            "Epoch 1: train loss 1.6626592212253146, accuracy 0.36444444444444446\n",
            "Epoch 1: train loss 1.6932342052459717, accuracy 0.35555555555555557\n",
            "Epoch 1: train loss 1.7318329016367595, accuracy 0.34444444444444444\n",
            "Epoch 2: train loss 1.6819676293267145, accuracy 0.38666666666666666\n",
            "Epoch 2: train loss 1.6375234127044678, accuracy 0.37777777777777777\n",
            "Epoch 2: train loss 1.6298534472783406, accuracy 0.43555555555555553\n",
            "Epoch 2: train loss 1.6475439336564806, accuracy 0.3977777777777778\n",
            "Epoch 2: train loss 1.7156039873758953, accuracy 0.37333333333333335\n",
            "Epoch 2: train loss 1.6893615457746718, accuracy 0.35777777777777775\n",
            "Epoch 2: train loss 1.6696333090464275, accuracy 0.37555555555555553\n",
            "Epoch 2: train loss 1.7078751458062067, accuracy 0.3377777777777778\n",
            "Epoch 2: train loss 1.650207731458876, accuracy 0.3933333333333333\n",
            "Epoch 2: train loss 1.7598892317877874, accuracy 0.3377777777777778\n",
            "Epoch 3: train loss 1.5536304579840765, accuracy 0.4311111111111111\n",
            "Epoch 3: train loss 1.6253208451800876, accuracy 0.39111111111111113\n",
            "Epoch 3: train loss 1.647366960843404, accuracy 0.38222222222222224\n",
            "Epoch 3: train loss 1.6648413472705417, accuracy 0.3933333333333333\n",
            "Epoch 3: train loss 1.7295395400789049, accuracy 0.36444444444444446\n",
            "Epoch 3: train loss 1.6886674563090007, accuracy 0.36444444444444446\n",
            "Epoch 3: train loss 1.6890238126118977, accuracy 0.33555555555555555\n",
            "Epoch 3: train loss 1.6949617597791884, accuracy 0.38222222222222224\n",
            "Epoch 3: train loss 1.5451340410444472, accuracy 0.41333333333333333\n",
            "Epoch 3: train loss 1.728791144159105, accuracy 0.35555555555555557\n",
            "Epoch 4: train loss 1.6489146947860718, accuracy 0.37777777777777777\n",
            "Epoch 4: train loss 1.6261214415232341, accuracy 0.3844444444444444\n",
            "Epoch 4: train loss 1.75211681260003, accuracy 0.38666666666666666\n",
            "Epoch 4: train loss 1.6405039760801527, accuracy 0.37333333333333335\n",
            "Epoch 4: train loss 1.6621136400434706, accuracy 0.37777777777777777\n",
            "Epoch 4: train loss 1.6027909914652507, accuracy 0.38222222222222224\n",
            "Epoch 4: train loss 1.6394721534517076, accuracy 0.36444444444444446\n",
            "Epoch 4: train loss 1.5532930294672649, accuracy 0.4088888888888889\n",
            "Epoch 4: train loss 1.716054810418023, accuracy 0.36666666666666664\n",
            "Epoch 4: train loss 1.6883570088280573, accuracy 0.3711111111111111\n",
            "Epoch 5: train loss 1.5867119232813518, accuracy 0.4088888888888889\n",
            "Epoch 5: train loss 1.5631645917892456, accuracy 0.41555555555555557\n",
            "Epoch 5: train loss 1.6094554397794936, accuracy 0.42444444444444446\n",
            "Epoch 5: train loss 1.6676477723651462, accuracy 0.39111111111111113\n",
            "Epoch 5: train loss 1.6798770560158625, accuracy 0.35777777777777775\n",
            "Epoch 5: train loss 1.5077865388658311, accuracy 0.4177777777777778\n"
          ]
        },
        {
          "name": "stderr",
          "output_type": "stream",
          "text": [
            "DEBUG flower 2023-01-02 13:06:51,075 | server.py:229 | fit_round 16 received 10 results and 0 failures\n"
          ]
        },
        {
          "name": "stdout",
          "output_type": "stream",
          "text": [
            "Epoch 5: train loss 1.5849765009350247, accuracy 0.37777777777777777\n",
            "Epoch 5: train loss 1.6813403500450983, accuracy 0.3688888888888889\n",
            "Epoch 5: train loss 1.5646418068144057, accuracy 0.38222222222222224\n",
            "Epoch 5: train loss 1.5698759688271418, accuracy 0.41333333333333333\n"
          ]
        },
        {
          "name": "stderr",
          "output_type": "stream",
          "text": [
            "INFO flower 2023-01-02 13:06:53,963 | server.py:116 | fit progress: (16, 1.5227009838819503, {'accuracy': 0.4461}, 293.1660834409995)\n",
            "INFO flower 2023-01-02 13:06:53,963 | server.py:163 | evaluate_round 16: no clients selected, cancel\n",
            "DEBUG flower 2023-01-02 13:06:53,964 | server.py:215 | fit_round 17: strategy sampled 10 clients (out of 100)\n"
          ]
        },
        {
          "name": "stdout",
          "output_type": "stream",
          "text": [
            "Server-side evaluation loss 1.5227009838819503 / accuracy 0.4461\n",
            "[Client 24, round 17] fit, config: {'server_round': 17, 'local_epochs': 5, 'learning_rate': 0.21286444277371888}\n",
            "[Client 49, round 17] fit, config: {'server_round': 17, 'local_epochs': 5, 'learning_rate': 0.21286444277371888}\n",
            "[Client 9, round 17] fit, config: {'server_round': 17, 'local_epochs': 5, 'learning_rate': 0.21286444277371888}\n",
            "[Client 63, round 17] fit, config: {'server_round': 17, 'local_epochs': 5, 'learning_rate': 0.21286444277371888}\n",
            "[Client 5, round 17] fit, config: {'server_round': 17, 'local_epochs': 5, 'learning_rate': 0.21286444277371888}\n",
            "[Client 36, round 17] fit, config: {'server_round': 17, 'local_epochs': 5, 'learning_rate': 0.21286444277371888}\n",
            "[Client 17, round 17] fit, config: {'server_round': 17, 'local_epochs': 5, 'learning_rate': 0.21286444277371888}\n",
            "[Client 60, round 17] fit, config: {'server_round': 17, 'local_epochs': 5, 'learning_rate': 0.21286444277371888}\n",
            "[Client 92, round 17] fit, config: {'server_round': 17, 'local_epochs': 5, 'learning_rate': 0.21286444277371888}\n",
            "[Client 93, round 17] fit, config: {'server_round': 17, 'local_epochs': 5, 'learning_rate': 0.21286444277371888}\n",
            "Epoch 1: train loss 1.7653318246205647, accuracy 0.3288888888888889\n",
            "Epoch 1: train loss 1.6581527127159967, accuracy 0.39555555555555555\n",
            "Epoch 1: train loss 1.7263735797670152, accuracy 0.34444444444444444\n",
            "Epoch 1: train loss 1.6688780652152166, accuracy 0.39555555555555555\n",
            "Epoch 1: train loss 1.720523132218255, accuracy 0.3933333333333333\n",
            "Epoch 1: train loss 1.622719062699212, accuracy 0.4111111111111111\n",
            "Epoch 1: train loss 1.7943223714828491, accuracy 0.36666666666666664\n",
            "Epoch 1: train loss 1.703469157218933, accuracy 0.36666666666666664\n",
            "Epoch 1: train loss 1.6925864219665527, accuracy 0.37777777777777777\n",
            "Epoch 1: train loss 1.6735270420710247, accuracy 0.34\n",
            "Epoch 2: train loss 1.6776673793792725, accuracy 0.38\n",
            "Epoch 2: train loss 1.647466739018758, accuracy 0.4111111111111111\n",
            "Epoch 2: train loss 1.6870259311464098, accuracy 0.38666666666666666\n",
            "Epoch 2: train loss 1.7612331443362765, accuracy 0.38222222222222224\n",
            "Epoch 2: train loss 1.687421441078186, accuracy 0.39111111111111113\n",
            "Epoch 2: train loss 1.706360353363885, accuracy 0.36666666666666664\n",
            "Epoch 2: train loss 1.6434223784340753, accuracy 0.4022222222222222\n",
            "Epoch 2: train loss 1.7652058866288927, accuracy 0.3488888888888889\n",
            "Epoch 2: train loss 1.6072130468156602, accuracy 0.3888888888888889\n",
            "Epoch 2: train loss 1.6903574334250555, accuracy 0.38666666666666666\n",
            "Epoch 3: train loss 1.6665689945220947, accuracy 0.36\n",
            "Epoch 3: train loss 1.710660868220859, accuracy 0.3844444444444444\n",
            "Epoch 3: train loss 1.579838130209181, accuracy 0.4222222222222222\n",
            "Epoch 3: train loss 1.5797199275758531, accuracy 0.3933333333333333\n",
            "Epoch 3: train loss 1.7451041009691026, accuracy 0.38222222222222224\n",
            "Epoch 3: train loss 1.734097162882487, accuracy 0.37333333333333335\n",
            "Epoch 3: train loss 1.6549465258916218, accuracy 0.3711111111111111\n",
            "Epoch 3: train loss 1.741748081313239, accuracy 0.3844444444444444\n",
            "Epoch 3: train loss 1.6175973018010457, accuracy 0.3844444444444444\n",
            "Epoch 3: train loss 1.60901055071089, accuracy 0.3711111111111111\n",
            "Epoch 4: train loss 1.681145429611206, accuracy 0.3977777777777778\n",
            "Epoch 4: train loss 1.734521018134223, accuracy 0.37333333333333335\n",
            "Epoch 4: train loss 1.6200206279754639, accuracy 0.4088888888888889\n",
            "Epoch 4: train loss 1.560296932856242, accuracy 0.4266666666666667\n",
            "Epoch 4: train loss 1.6549811098310683, accuracy 0.35333333333333333\n",
            "Epoch 4: train loss 1.531511492199368, accuracy 0.43777777777777777\n",
            "Epoch 4: train loss 1.5867425335778131, accuracy 0.41555555555555557\n",
            "Epoch 4: train loss 1.5752351681391399, accuracy 0.4022222222222222\n",
            "Epoch 4: train loss 1.6277283827463787, accuracy 0.35777777777777775\n",
            "Epoch 4: train loss 1.6073463890287611, accuracy 0.37555555555555553\n"
          ]
        },
        {
          "name": "stderr",
          "output_type": "stream",
          "text": [
            "DEBUG flower 2023-01-02 13:07:08,539 | server.py:229 | fit_round 17 received 10 results and 0 failures\n"
          ]
        },
        {
          "name": "stdout",
          "output_type": "stream",
          "text": [
            "Epoch 5: train loss 1.7087595992618136, accuracy 0.4022222222222222\n",
            "Epoch 5: train loss 1.615629063712226, accuracy 0.3933333333333333\n",
            "Epoch 5: train loss 1.6466545926200018, accuracy 0.3888888888888889\n",
            "Epoch 5: train loss 1.6628449625439115, accuracy 0.38666666666666666\n",
            "Epoch 5: train loss 1.6399537722269695, accuracy 0.38\n",
            "Epoch 5: train loss 1.577792313363817, accuracy 0.4088888888888889\n",
            "Epoch 5: train loss 1.6167765193515353, accuracy 0.3888888888888889\n",
            "Epoch 5: train loss 1.542430837949117, accuracy 0.40444444444444444\n",
            "Epoch 5: train loss 1.722929384973314, accuracy 0.36666666666666664\n",
            "Epoch 5: train loss 1.652632474899292, accuracy 0.3688888888888889\n"
          ]
        },
        {
          "name": "stderr",
          "output_type": "stream",
          "text": [
            "INFO flower 2023-01-02 13:07:11,274 | server.py:116 | fit progress: (17, 1.5273851621150971, {'accuracy': 0.442}, 310.4774479030002)\n",
            "INFO flower 2023-01-02 13:07:11,275 | server.py:163 | evaluate_round 17: no clients selected, cancel\n",
            "DEBUG flower 2023-01-02 13:07:11,275 | server.py:215 | fit_round 18: strategy sampled 10 clients (out of 100)\n"
          ]
        },
        {
          "name": "stdout",
          "output_type": "stream",
          "text": [
            "Server-side evaluation loss 1.5273851621150971 / accuracy 0.442\n",
            "[Client 13, round 18] fit, config: {'server_round': 18, 'local_epochs': 5, 'learning_rate': 0.2107357983459817}\n",
            "[Client 16, round 18] fit, config: {'server_round': 18, 'local_epochs': 5, 'learning_rate': 0.2107357983459817}\n",
            "[Client 15, round 18] fit, config: {'server_round': 18, 'local_epochs': 5, 'learning_rate': 0.2107357983459817}\n",
            "[Client 58, round 18] fit, config: {'server_round': 18, 'local_epochs': 5, 'learning_rate': 0.2107357983459817}\n",
            "[Client 45, round 18] fit, config: {'server_round': 18, 'local_epochs': 5, 'learning_rate': 0.2107357983459817}\n",
            "[Client 70, round 18] fit, config: {'server_round': 18, 'local_epochs': 5, 'learning_rate': 0.2107357983459817}\n",
            "[Client 78, round 18] fit, config: {'server_round': 18, 'local_epochs': 5, 'learning_rate': 0.2107357983459817}\n",
            "[Client 2, round 18] fit, config: {'server_round': 18, 'local_epochs': 5, 'learning_rate': 0.2107357983459817}\n",
            "[Client 56, round 18] fit, config: {'server_round': 18, 'local_epochs': 5, 'learning_rate': 0.2107357983459817}\n",
            "[Client 66, round 18] fit, config: {'server_round': 18, 'local_epochs': 5, 'learning_rate': 0.2107357983459817}\n",
            "Epoch 1: train loss 1.641431411107381, accuracy 0.4111111111111111\n",
            "Epoch 1: train loss 1.638738989830017, accuracy 0.42444444444444446\n",
            "Epoch 1: train loss 1.6857674519220989, accuracy 0.37333333333333335\n",
            "Epoch 1: train loss 1.6469921668370564, accuracy 0.3711111111111111\n",
            "Epoch 1: train loss 1.6267182297176785, accuracy 0.40444444444444444\n",
            "Epoch 1: train loss 1.6952295038435194, accuracy 0.4022222222222222\n",
            "Epoch 1: train loss 1.6306642029020522, accuracy 0.4066666666666667\n",
            "Epoch 1: train loss 1.6512791977988348, accuracy 0.39111111111111113\n",
            "Epoch 1: train loss 1.6322341230180528, accuracy 0.42444444444444446\n",
            "Epoch 1: train loss 1.674531512790256, accuracy 0.3688888888888889\n",
            "Epoch 2: train loss 1.61273811923133, accuracy 0.38666666666666666\n",
            "Epoch 2: train loss 1.5727918412950304, accuracy 0.41333333333333333\n",
            "Epoch 2: train loss 1.648859633339776, accuracy 0.3933333333333333\n",
            "Epoch 2: train loss 1.6116712225808039, accuracy 0.43333333333333335\n",
            "Epoch 2: train loss 1.642291784286499, accuracy 0.4022222222222222\n",
            "Epoch 2: train loss 1.7060925960540771, accuracy 0.35777777777777775\n",
            "Epoch 2: train loss 1.643192556169298, accuracy 0.38666666666666666\n",
            "Epoch 2: train loss 1.62651793162028, accuracy 0.4022222222222222\n",
            "Epoch 2: train loss 1.7119020620981853, accuracy 0.36666666666666664\n",
            "Epoch 2: train loss 1.632457176844279, accuracy 0.37333333333333335\n",
            "Epoch 3: train loss 1.6424124638239543, accuracy 0.39555555555555555\n",
            "Epoch 3: train loss 1.5547930532031589, accuracy 0.42\n",
            "Epoch 3: train loss 1.5463533931308322, accuracy 0.4533333333333333\n",
            "Epoch 3: train loss 1.650731020503574, accuracy 0.4022222222222222\n",
            "Epoch 3: train loss 1.6278558042314317, accuracy 0.4111111111111111\n",
            "Epoch 3: train loss 1.66040657626258, accuracy 0.3622222222222222\n",
            "Epoch 3: train loss 1.6316807005140517, accuracy 0.44\n",
            "Epoch 3: train loss 1.6033436589770846, accuracy 0.38\n",
            "Epoch 3: train loss 1.5576190551122029, accuracy 0.4311111111111111\n",
            "Epoch 3: train loss 1.612729059325324, accuracy 0.4088888888888889\n",
            "Epoch 4: train loss 1.5958324273427327, accuracy 0.3888888888888889\n",
            "Epoch 4: train loss 1.652792877621121, accuracy 0.3888888888888889\n",
            "Epoch 4: train loss 1.5980358256234064, accuracy 0.42444444444444446\n",
            "Epoch 4: train loss 1.6110461685392592, accuracy 0.4066666666666667\n",
            "Epoch 4: train loss 1.5953007804022894, accuracy 0.41555555555555557\n",
            "Epoch 4: train loss 1.5713142553965251, accuracy 0.42\n",
            "Epoch 4: train loss 1.6322935422261555, accuracy 0.4111111111111111\n",
            "Epoch 4: train loss 1.66933008035024, accuracy 0.37555555555555553\n",
            "Epoch 4: train loss 1.5568459696239896, accuracy 0.43555555555555553\n",
            "Epoch 4: train loss 1.6487022108501859, accuracy 0.3977777777777778\n"
          ]
        },
        {
          "name": "stderr",
          "output_type": "stream",
          "text": [
            "DEBUG flower 2023-01-02 13:07:26,350 | server.py:229 | fit_round 18 received 10 results and 0 failures\n"
          ]
        },
        {
          "name": "stdout",
          "output_type": "stream",
          "text": [
            "Epoch 5: train loss 1.5297268761528864, accuracy 0.41555555555555557\n",
            "Epoch 5: train loss 1.630689223607381, accuracy 0.4066666666666667\n",
            "Epoch 5: train loss 1.5446850193871393, accuracy 0.42444444444444446\n",
            "Epoch 5: train loss 1.6519183582729764, accuracy 0.4022222222222222\n",
            "Epoch 5: train loss 1.5916836791568332, accuracy 0.3977777777777778\n",
            "Epoch 5: train loss 1.5737609068552654, accuracy 0.4111111111111111\n",
            "Epoch 5: train loss 1.592426790131463, accuracy 0.44222222222222224\n",
            "Epoch 5: train loss 1.5842842260996501, accuracy 0.4222222222222222\n",
            "Epoch 5: train loss 1.7022870646582708, accuracy 0.4066666666666667\n",
            "Epoch 5: train loss 1.4800212118360732, accuracy 0.43555555555555553\n"
          ]
        },
        {
          "name": "stderr",
          "output_type": "stream",
          "text": [
            "INFO flower 2023-01-02 13:07:28,995 | server.py:116 | fit progress: (18, 1.4979898434877397, {'accuracy': 0.4534}, 328.19873994800037)\n",
            "INFO flower 2023-01-02 13:07:28,996 | server.py:163 | evaluate_round 18: no clients selected, cancel\n",
            "DEBUG flower 2023-01-02 13:07:28,997 | server.py:215 | fit_round 19: strategy sampled 10 clients (out of 100)\n"
          ]
        },
        {
          "name": "stdout",
          "output_type": "stream",
          "text": [
            "Server-side evaluation loss 1.4979898434877397 / accuracy 0.4534\n",
            "[Client 45, round 19] fit, config: {'server_round': 19, 'local_epochs': 5, 'learning_rate': 0.20862844036252187}\n",
            "[Client 46, round 19] fit, config: {'server_round': 19, 'local_epochs': 5, 'learning_rate': 0.20862844036252187}\n",
            "[Client 36, round 19] fit, config: {'server_round': 19, 'local_epochs': 5, 'learning_rate': 0.20862844036252187}\n",
            "[Client 27, round 19] fit, config: {'server_round': 19, 'local_epochs': 5, 'learning_rate': 0.20862844036252187}\n",
            "[Client 49, round 19] fit, config: {'server_round': 19, 'local_epochs': 5, 'learning_rate': 0.20862844036252187}\n",
            "[Client 6, round 19] fit, config: {'server_round': 19, 'local_epochs': 5, 'learning_rate': 0.20862844036252187}\n",
            "[Client 13, round 19] fit, config: {'server_round': 19, 'local_epochs': 5, 'learning_rate': 0.20862844036252187}\n",
            "[Client 96, round 19] fit, config: {'server_round': 19, 'local_epochs': 5, 'learning_rate': 0.20862844036252187}\n",
            "[Client 65, round 19] fit, config: {'server_round': 19, 'local_epochs': 5, 'learning_rate': 0.20862844036252187}\n",
            "[Client 12, round 19] fit, config: {'server_round': 19, 'local_epochs': 5, 'learning_rate': 0.20862844036252187}\n",
            "Epoch 1: train loss 1.5845313999387953, accuracy 0.4288888888888889\n",
            "Epoch 1: train loss 1.5992730193667941, accuracy 0.4088888888888889\n",
            "Epoch 1: train loss 1.676683823267619, accuracy 0.3711111111111111\n",
            "Epoch 1: train loss 1.6254899104436238, accuracy 0.4088888888888889\n",
            "Epoch 1: train loss 1.6371532413694594, accuracy 0.40444444444444444\n",
            "Epoch 1: train loss 1.569598502582974, accuracy 0.46\n",
            "Epoch 1: train loss 1.6121494505140517, accuracy 0.42\n",
            "Epoch 1: train loss 1.6537712812423706, accuracy 0.38666666666666666\n",
            "Epoch 1: train loss 1.6120020018683539, accuracy 0.37777777777777777\n",
            "Epoch 1: train loss 1.6539056168662176, accuracy 0.3933333333333333\n",
            "Epoch 2: train loss 1.6215216583675809, accuracy 0.3888888888888889\n",
            "Epoch 2: train loss 1.73596371544732, accuracy 0.3466666666666667\n",
            "Epoch 2: train loss 1.6897161271837022, accuracy 0.37333333333333335\n",
            "Epoch 2: train loss 1.6194467279646132, accuracy 0.43333333333333335\n",
            "Epoch 2: train loss 1.6044739087422688, accuracy 0.4111111111111111\n",
            "Epoch 2: train loss 1.6137145360310872, accuracy 0.38666666666666666\n",
            "Epoch 2: train loss 1.5894592338138156, accuracy 0.3977777777777778\n",
            "Epoch 2: train loss 1.590152793460422, accuracy 0.42444444444444446\n",
            "Epoch 2: train loss 1.5907051033443875, accuracy 0.41333333333333333\n",
            "Epoch 2: train loss 1.6228813992606268, accuracy 0.44\n",
            "Epoch 3: train loss 1.6066099537743463, accuracy 0.38222222222222224\n",
            "Epoch 3: train loss 1.7424896160761516, accuracy 0.38\n",
            "Epoch 3: train loss 1.6478019555409749, accuracy 0.37555555555555553\n",
            "Epoch 3: train loss 1.5953555901845295, accuracy 0.41555555555555557\n",
            "Epoch 3: train loss 1.6232195032967462, accuracy 0.4311111111111111\n",
            "Epoch 3: train loss 1.6477738089031644, accuracy 0.38222222222222224\n",
            "Epoch 3: train loss 1.5959740082422893, accuracy 0.4088888888888889\n",
            "Epoch 3: train loss 1.6127003166410658, accuracy 0.3933333333333333\n",
            "Epoch 3: train loss 1.691775295469496, accuracy 0.3711111111111111\n",
            "Epoch 3: train loss 1.690529704093933, accuracy 0.3711111111111111\n",
            "Epoch 4: train loss 1.597775591744317, accuracy 0.41555555555555557\n",
            "Epoch 4: train loss 1.5471010870403714, accuracy 0.42\n",
            "Epoch 4: train loss 1.5953908761342366, accuracy 0.3888888888888889\n",
            "Epoch 4: train loss 1.6157413985994127, accuracy 0.37777777777777777\n",
            "Epoch 4: train loss 1.5984477467007108, accuracy 0.43777777777777777\n",
            "Epoch 4: train loss 1.5884694655736287, accuracy 0.39555555555555555\n",
            "Epoch 4: train loss 1.5800090101030138, accuracy 0.4222222222222222\n",
            "Epoch 4: train loss 1.5682837035920885, accuracy 0.46\n",
            "Epoch 4: train loss 1.624721844991048, accuracy 0.4111111111111111\n",
            "Epoch 4: train loss 1.5689778327941895, accuracy 0.41333333333333333\n"
          ]
        },
        {
          "name": "stderr",
          "output_type": "stream",
          "text": [
            "DEBUG flower 2023-01-02 13:07:43,596 | server.py:229 | fit_round 19 received 10 results and 0 failures\n"
          ]
        },
        {
          "name": "stdout",
          "output_type": "stream",
          "text": [
            "Epoch 5: train loss 1.5960714022318523, accuracy 0.42Epoch 5: train loss 1.6241389248106215, accuracy 0.41333333333333333\n",
            "\n",
            "Epoch 5: train loss 1.5469098885854085, accuracy 0.43777777777777777\n",
            "Epoch 5: train loss 1.5403373771243625, accuracy 0.4311111111111111\n",
            "Epoch 5: train loss 1.5439459085464478, accuracy 0.45111111111111113\n",
            "Epoch 5: train loss 1.531611031956143, accuracy 0.42\n",
            "Epoch 5: train loss 1.6177615059746637, accuracy 0.4\n",
            "Epoch 5: train loss 1.5711089505089655, accuracy 0.42\n",
            "Epoch 5: train loss 1.5361890527937148, accuracy 0.43333333333333335\n",
            "Epoch 5: train loss 1.5814222362306383, accuracy 0.4177777777777778\n"
          ]
        },
        {
          "name": "stderr",
          "output_type": "stream",
          "text": [
            "INFO flower 2023-01-02 13:07:46,347 | server.py:116 | fit progress: (19, 1.4835423177480698, {'accuracy': 0.4596}, 345.5502458310002)\n",
            "INFO flower 2023-01-02 13:07:46,348 | server.py:163 | evaluate_round 19: no clients selected, cancel\n",
            "DEBUG flower 2023-01-02 13:07:46,348 | server.py:215 | fit_round 20: strategy sampled 10 clients (out of 100)\n"
          ]
        },
        {
          "name": "stdout",
          "output_type": "stream",
          "text": [
            "Server-side evaluation loss 1.4835423177480698 / accuracy 0.4596\n",
            "[Client 75, round 20] fit, config: {'server_round': 20, 'local_epochs': 5, 'learning_rate': 0.20654215595889666}\n",
            "[Client 85, round 20] fit, config: {'server_round': 20, 'local_epochs': 5, 'learning_rate': 0.20654215595889666}\n",
            "[Client 94, round 20] fit, config: {'server_round': 20, 'local_epochs': 5, 'learning_rate': 0.20654215595889666}\n",
            "[Client 10, round 20] fit, config: {'server_round': 20, 'local_epochs': 5, 'learning_rate': 0.20654215595889666}\n",
            "[Client 99, round 20] fit, config: {'server_round': 20, 'local_epochs': 5, 'learning_rate': 0.20654215595889666}\n",
            "[Client 41, round 20] fit, config: {'server_round': 20, 'local_epochs': 5, 'learning_rate': 0.20654215595889666}\n",
            "[Client 26, round 20] fit, config: {'server_round': 20, 'local_epochs': 5, 'learning_rate': 0.20654215595889666}\n",
            "[Client 49, round 20] fit, config: {'server_round': 20, 'local_epochs': 5, 'learning_rate': 0.20654215595889666}\n",
            "[Client 23, round 20] fit, config: {'server_round': 20, 'local_epochs': 5, 'learning_rate': 0.20654215595889666}\n",
            "[Client 53, round 20] fit, config: {'server_round': 20, 'local_epochs': 5, 'learning_rate': 0.20654215595889666}\n",
            "Epoch 1: train loss 1.6900298595428467, accuracy 0.4\n",
            "Epoch 1: train loss 1.6280774407916598, accuracy 0.3977777777777778\n",
            "Epoch 1: train loss 1.6408447821935017, accuracy 0.38666666666666666\n",
            "Epoch 1: train loss 1.6448698706097074, accuracy 0.3977777777777778\n",
            "Epoch 1: train loss 1.6371217171351116, accuracy 0.41333333333333333\n",
            "Epoch 1: train loss 1.6376351912816365, accuracy 0.36666666666666664\n",
            "Epoch 1: train loss 1.6830217043558757, accuracy 0.38\n",
            "Epoch 1: train loss 1.620466907819112, accuracy 0.37555555555555553\n",
            "Epoch 1: train loss 1.5807077752219305, accuracy 0.4311111111111111\n",
            "Epoch 1: train loss 1.6889330678515964, accuracy 0.36666666666666664\n",
            "Epoch 2: train loss 1.6643024285634358, accuracy 0.3977777777777778\n",
            "Epoch 2: train loss 1.6240007215076022, accuracy 0.38222222222222224\n",
            "Epoch 2: train loss 1.5389203098085191, accuracy 0.45555555555555555\n",
            "Epoch 2: train loss 1.6658699247572157, accuracy 0.3688888888888889\n",
            "Epoch 2: train loss 1.6452252335018582, accuracy 0.38222222222222224\n",
            "Epoch 2: train loss 1.6380580531226263, accuracy 0.37555555555555553\n",
            "Epoch 2: train loss 1.7397988239924114, accuracy 0.38222222222222224\n",
            "Epoch 2: train loss 1.6358856625027127, accuracy 0.38\n",
            "Epoch 2: train loss 1.5902137756347656, accuracy 0.4177777777777778\n",
            "Epoch 2: train loss 1.5886229409111872, accuracy 0.4177777777777778\n",
            "Epoch 3: train loss 1.642738355530633, accuracy 0.40444444444444444\n",
            "Epoch 3: train loss 1.603992952240838, accuracy 0.4\n",
            "Epoch 3: train loss 1.6648907793892755, accuracy 0.3844444444444444\n",
            "Epoch 3: train loss 1.6555543608135648, accuracy 0.37333333333333335\n",
            "Epoch 3: train loss 1.5906426774130926, accuracy 0.4\n",
            "Epoch 3: train loss 1.5786078373591106, accuracy 0.4311111111111111\n",
            "Epoch 3: train loss 1.5917778147591486, accuracy 0.4111111111111111\n",
            "Epoch 3: train loss 1.5873878796895344, accuracy 0.39111111111111113\n",
            "Epoch 3: train loss 1.5101972818374634, accuracy 0.44666666666666666\n",
            "Epoch 3: train loss 1.6717842287487454, accuracy 0.39555555555555555\n",
            "Epoch 4: train loss 1.6959142949846056, accuracy 0.3488888888888889\n",
            "Epoch 4: train loss 1.6278829177220662, accuracy 0.4111111111111111\n",
            "Epoch 4: train loss 1.5756288369496663, accuracy 0.41333333333333333\n",
            "Epoch 4: train loss 1.630011796951294, accuracy 0.41333333333333333\n",
            "Epoch 4: train loss 1.5795610613293118, accuracy 0.42\n",
            "Epoch 4: train loss 1.5558263725704617, accuracy 0.4288888888888889\n",
            "Epoch 4: train loss 1.583295742670695, accuracy 0.44666666666666666\n",
            "Epoch 4: train loss 1.632664680480957, accuracy 0.3888888888888889\n",
            "Epoch 4: train loss 1.577267713016934, accuracy 0.4088888888888889\n",
            "Epoch 4: train loss 1.5977034038967557, accuracy 0.4222222222222222\n"
          ]
        },
        {
          "name": "stderr",
          "output_type": "stream",
          "text": [
            "DEBUG flower 2023-01-02 13:08:01,187 | server.py:229 | fit_round 20 received 10 results and 0 failures\n"
          ]
        },
        {
          "name": "stdout",
          "output_type": "stream",
          "text": [
            "Epoch 5: train loss 1.5722376373079088, accuracy 0.43333333333333335\n",
            "Epoch 5: train loss 1.4855645497639973, accuracy 0.4488888888888889\n",
            "Epoch 5: train loss 1.602047284444173, accuracy 0.43333333333333335\n",
            "Epoch 5: train loss 1.600733346409268, accuracy 0.39111111111111113\n",
            "Epoch 5: train loss 1.5628117190466986, accuracy 0.4222222222222222\n",
            "Epoch 5: train loss 1.5096042421129015, accuracy 0.45111111111111113\n",
            "Epoch 5: train loss 1.5698905785878499, accuracy 0.41333333333333333\n",
            "Epoch 5: train loss 1.5864929225709703, accuracy 0.42\n",
            "Epoch 5: train loss 1.5769753456115723, accuracy 0.4066666666666667\n",
            "Epoch 5: train loss 1.5720090336269803, accuracy 0.4111111111111111\n"
          ]
        },
        {
          "name": "stderr",
          "output_type": "stream",
          "text": [
            "INFO flower 2023-01-02 13:08:03,804 | server.py:116 | fit progress: (20, 1.4820896822214127, {'accuracy': 0.4585}, 363.0075771110005)\n",
            "INFO flower 2023-01-02 13:08:03,805 | server.py:163 | evaluate_round 20: no clients selected, cancel\n",
            "DEBUG flower 2023-01-02 13:08:03,805 | server.py:215 | fit_round 21: strategy sampled 10 clients (out of 100)\n"
          ]
        },
        {
          "name": "stdout",
          "output_type": "stream",
          "text": [
            "Server-side evaluation loss 1.4820896822214127 / accuracy 0.4585\n",
            "[Client 16, round 21] fit, config: {'server_round': 21, 'local_epochs': 5, 'learning_rate': 0.2044767343993077}\n",
            "[Client 60, round 21] fit, config: {'server_round': 21, 'local_epochs': 5, 'learning_rate': 0.2044767343993077}\n",
            "[Client 17, round 21] fit, config: {'server_round': 21, 'local_epochs': 5, 'learning_rate': 0.2044767343993077}\n",
            "[Client 0, round 21] fit, config: {'server_round': 21, 'local_epochs': 5, 'learning_rate': 0.2044767343993077}\n",
            "[Client 42, round 21] fit, config: {'server_round': 21, 'local_epochs': 5, 'learning_rate': 0.2044767343993077}\n",
            "[Client 11, round 21] fit, config: {'server_round': 21, 'local_epochs': 5, 'learning_rate': 0.2044767343993077}\n",
            "[Client 20, round 21] fit, config: {'server_round': 21, 'local_epochs': 5, 'learning_rate': 0.2044767343993077}\n",
            "[Client 12, round 21] fit, config: {'server_round': 21, 'local_epochs': 5, 'learning_rate': 0.2044767343993077}\n",
            "[Client 18, round 21] fit, config: {'server_round': 21, 'local_epochs': 5, 'learning_rate': 0.2044767343993077}\n",
            "[Client 4, round 21] fit, config: {'server_round': 21, 'local_epochs': 5, 'learning_rate': 0.2044767343993077}\n",
            "Epoch 1: train loss 1.639172328843011, accuracy 0.36666666666666664\n",
            "Epoch 1: train loss 1.7110793855455186, accuracy 0.36666666666666664\n",
            "Epoch 1: train loss 1.6810111469692655, accuracy 0.3977777777777778\n",
            "Epoch 1: train loss 1.6342666149139404, accuracy 0.3977777777777778\n",
            "Epoch 1: train loss 1.6535221205817328, accuracy 0.3844444444444444\n",
            "Epoch 1: train loss 1.66300368309021, accuracy 0.3622222222222222\n",
            "Epoch 1: train loss 1.5320042371749878, accuracy 0.4266666666666667\n",
            "Epoch 1: train loss 1.645389609866672, accuracy 0.3977777777777778\n",
            "Epoch 1: train loss 1.5939812395307753, accuracy 0.38222222222222224\n",
            "Epoch 1: train loss 1.5929791265063815, accuracy 0.4111111111111111\n",
            "Epoch 2: train loss 1.561659296353658, accuracy 0.42\n",
            "Epoch 2: train loss 1.5801072120666504, accuracy 0.39111111111111113\n",
            "Epoch 2: train loss 1.6266540553834703, accuracy 0.4311111111111111\n",
            "Epoch 2: train loss 1.598015586535136, accuracy 0.3688888888888889\n",
            "Epoch 2: train loss 1.545623050795661, accuracy 0.3933333333333333\n",
            "Epoch 2: train loss 1.5994774500528972, accuracy 0.39555555555555555\n",
            "Epoch 2: train loss 1.6170335345798068, accuracy 0.39555555555555555\n",
            "Epoch 2: train loss 1.5889650185902913, accuracy 0.38666666666666666\n",
            "Epoch 2: train loss 1.5686129331588745, accuracy 0.3888888888888889\n",
            "Epoch 2: train loss 1.5366038348939683, accuracy 0.44222222222222224\n",
            "Epoch 3: train loss 1.6088002522786458, accuracy 0.4022222222222222\n",
            "Epoch 3: train loss 1.5989932351642184, accuracy 0.44\n",
            "Epoch 3: train loss 1.5719260374704997, accuracy 0.38666666666666666\n",
            "Epoch 3: train loss 1.5493660900327895, accuracy 0.4533333333333333\n",
            "Epoch 3: train loss 1.5935041507085164, accuracy 0.35555555555555557\n",
            "Epoch 3: train loss 1.5646578073501587, accuracy 0.4488888888888889\n",
            "Epoch 3: train loss 1.6320960256788466, accuracy 0.38666666666666666\n",
            "Epoch 3: train loss 1.56128810511695, accuracy 0.4088888888888889\n",
            "Epoch 3: train loss 1.5959936910205417, accuracy 0.42\n",
            "Epoch 3: train loss 1.5709205600950453, accuracy 0.4266666666666667\n",
            "Epoch 4: train loss 1.491695311334398, accuracy 0.46444444444444444\n",
            "Epoch 4: train loss 1.6129315031899347, accuracy 0.3977777777777778\n",
            "Epoch 4: train loss 1.6089517143037584, accuracy 0.43333333333333335\n",
            "Epoch 4: train loss 1.5185825294918485, accuracy 0.43555555555555553\n",
            "Epoch 4: train loss 1.6440488762325711, accuracy 0.3888888888888889\n",
            "Epoch 4: train loss 1.6217861970265706, accuracy 0.4022222222222222\n",
            "Epoch 4: train loss 1.5528382195366754, accuracy 0.42444444444444446\n",
            "Epoch 4: train loss 1.541333556175232, accuracy 0.4444444444444444\n",
            "Epoch 4: train loss 1.5542147954305012, accuracy 0.4177777777777778\n",
            "Epoch 4: train loss 1.576785100830926, accuracy 0.4111111111111111\n"
          ]
        },
        {
          "name": "stderr",
          "output_type": "stream",
          "text": [
            "DEBUG flower 2023-01-02 13:08:18,239 | server.py:229 | fit_round 21 received 10 results and 0 failures\n"
          ]
        },
        {
          "name": "stdout",
          "output_type": "stream",
          "text": [
            "Epoch 5: train loss 1.4849422772725422, accuracy 0.44222222222222224\n",
            "Epoch 5: train loss 1.4678902758492365, accuracy 0.44222222222222224\n",
            "Epoch 5: train loss 1.5254859394497342, accuracy 0.4311111111111111\n",
            "Epoch 5: train loss 1.5117662482791476, accuracy 0.4444444444444444\n",
            "Epoch 5: train loss 1.5523103475570679, accuracy 0.43555555555555553\n",
            "Epoch 5: train loss 1.7024461693233914, accuracy 0.36444444444444446\n",
            "Epoch 5: train loss 1.4721868303087022, accuracy 0.4622222222222222\n",
            "Epoch 5: train loss 1.5389986435572307, accuracy 0.4066666666666667\n",
            "Epoch 5: train loss 1.5576774544186063, accuracy 0.3888888888888889\n",
            "Epoch 5: train loss 1.5413744449615479, accuracy 0.44\n"
          ]
        },
        {
          "name": "stderr",
          "output_type": "stream",
          "text": [
            "INFO flower 2023-01-02 13:08:21,008 | server.py:116 | fit progress: (21, 1.4764712953567505, {'accuracy': 0.4629}, 380.21170249699935)\n",
            "INFO flower 2023-01-02 13:08:21,009 | server.py:163 | evaluate_round 21: no clients selected, cancel\n",
            "DEBUG flower 2023-01-02 13:08:21,010 | server.py:215 | fit_round 22: strategy sampled 10 clients (out of 100)\n"
          ]
        },
        {
          "name": "stdout",
          "output_type": "stream",
          "text": [
            "Server-side evaluation loss 1.4764712953567505 / accuracy 0.4629\n",
            "[Client 28, round 22] fit, config: {'server_round': 22, 'local_epochs': 5, 'learning_rate': 0.2024319670553146}\n",
            "[Client 55, round 22] fit, config: {'server_round': 22, 'local_epochs': 5, 'learning_rate': 0.2024319670553146}\n",
            "[Client 25, round 22] fit, config: {'server_round': 22, 'local_epochs': 5, 'learning_rate': 0.2024319670553146}\n",
            "[Client 58, round 22] fit, config: {'server_round': 22, 'local_epochs': 5, 'learning_rate': 0.2024319670553146}\n",
            "[Client 84, round 22] fit, config: {'server_round': 22, 'local_epochs': 5, 'learning_rate': 0.2024319670553146}\n",
            "[Client 51, round 22] fit, config: {'server_round': 22, 'local_epochs': 5, 'learning_rate': 0.2024319670553146}\n",
            "[Client 7, round 22] fit, config: {'server_round': 22, 'local_epochs': 5, 'learning_rate': 0.2024319670553146}\n",
            "[Client 19, round 22] fit, config: {'server_round': 22, 'local_epochs': 5, 'learning_rate': 0.2024319670553146}\n",
            "[Client 14, round 22] fit, config: {'server_round': 22, 'local_epochs': 5, 'learning_rate': 0.2024319670553146}\n",
            "[Client 59, round 22] fit, config: {'server_round': 22, 'local_epochs': 5, 'learning_rate': 0.2024319670553146}\n",
            "Epoch 1: train loss 1.5913552973005507, accuracy 0.40444444444444444\n",
            "Epoch 1: train loss 1.5916650030348036, accuracy 0.43777777777777777\n",
            "Epoch 1: train loss 1.5870118141174316, accuracy 0.4022222222222222\n",
            "Epoch 1: train loss 1.592843042479621, accuracy 0.4111111111111111\n",
            "Epoch 1: train loss 1.5239355829026964, accuracy 0.4222222222222222\n",
            "Epoch 1: train loss 1.6483939223819308, accuracy 0.3888888888888889\n",
            "Epoch 1: train loss 1.716010954644945, accuracy 0.4066666666666667\n",
            "Epoch 1: train loss 1.6610349946551852, accuracy 0.39555555555555555\n",
            "Epoch 1: train loss 1.6215435531404283, accuracy 0.4288888888888889\n",
            "Epoch 1: train loss 1.680861512819926, accuracy 0.42\n",
            "Epoch 2: train loss 1.6038113037745159, accuracy 0.41555555555555557\n",
            "Epoch 2: train loss 1.5501022736231487, accuracy 0.41555555555555557\n",
            "Epoch 2: train loss 1.5902639892366197, accuracy 0.44222222222222224\n",
            "Epoch 2: train loss 1.6581732034683228, accuracy 0.4111111111111111\n",
            "Epoch 2: train loss 1.6026965777079265, accuracy 0.3933333333333333\n",
            "Epoch 2: train loss 1.4719439480039809, accuracy 0.44\n",
            "Epoch 2: train loss 1.5915358861287434, accuracy 0.4266666666666667\n",
            "Epoch 2: train loss 1.5793427493837144, accuracy 0.4177777777777778\n",
            "Epoch 2: train loss 1.5500568019019232, accuracy 0.43777777777777777\n",
            "Epoch 2: train loss 1.5768856869803534, accuracy 0.4266666666666667\n",
            "Epoch 3: train loss 1.5548668569988675, accuracy 0.4177777777777778\n",
            "Epoch 3: train loss 1.5354377958509657, accuracy 0.44\n",
            "Epoch 3: train loss 1.5698343912760417, accuracy 0.4177777777777778\n",
            "Epoch 3: train loss 1.509669303894043, accuracy 0.4533333333333333\n",
            "Epoch 3: train loss 1.5403258403142293, accuracy 0.4311111111111111\n",
            "Epoch 3: train loss 1.5721560716629028, accuracy 0.4066666666666667\n",
            "Epoch 3: train loss 1.631894999080234, accuracy 0.41555555555555557\n",
            "Epoch 3: train loss 1.4206981261571248, accuracy 0.47555555555555556\n",
            "Epoch 3: train loss 1.5508659813139174, accuracy 0.43555555555555553\n",
            "Epoch 3: train loss 1.6190681457519531, accuracy 0.43333333333333335\n",
            "Epoch 4: train loss 1.4621885882483587, accuracy 0.4488888888888889\n",
            "Epoch 4: train loss 1.6429015795389812, accuracy 0.40444444444444444\n",
            "Epoch 4: train loss 1.5295845799975925, accuracy 0.4177777777777778\n",
            "Epoch 4: train loss 1.507711238331265, accuracy 0.4311111111111111\n",
            "Epoch 4: train loss 1.4896018770005968, accuracy 0.44222222222222224\n",
            "Epoch 4: train loss 1.5369932783974543, accuracy 0.43555555555555553\n",
            "Epoch 4: train loss 1.5859477122624714, accuracy 0.39555555555555555\n",
            "Epoch 4: train loss 1.5847538577185736, accuracy 0.4688888888888889\n",
            "Epoch 4: train loss 1.513263914320204, accuracy 0.3933333333333333\n",
            "Epoch 4: train loss 1.546691722340054, accuracy 0.4533333333333333\n"
          ]
        },
        {
          "name": "stderr",
          "output_type": "stream",
          "text": [
            "DEBUG flower 2023-01-02 13:08:36,407 | server.py:229 | fit_round 22 received 10 results and 0 failures\n"
          ]
        },
        {
          "name": "stdout",
          "output_type": "stream",
          "text": [
            "Epoch 5: train loss 1.5317277908325195, accuracy 0.43333333333333335\n",
            "Epoch 5: train loss 1.527605454126994, accuracy 0.4111111111111111\n",
            "Epoch 5: train loss 1.5025623109605577, accuracy 0.44222222222222224\n",
            "Epoch 5: train loss 1.413293374909295, accuracy 0.4777777777777778\n",
            "Epoch 5: train loss 1.4800292518403795, accuracy 0.46444444444444444\n",
            "Epoch 5: train loss 1.4355610741509333, accuracy 0.4533333333333333\n",
            "Epoch 5: train loss 1.506337496969435, accuracy 0.43555555555555553\n",
            "Epoch 5: train loss 1.5424193011389837, accuracy 0.41555555555555557\n",
            "Epoch 5: train loss 1.593760119544135, accuracy 0.4\n",
            "Epoch 5: train loss 1.573988185988532, accuracy 0.42444444444444446\n"
          ]
        },
        {
          "name": "stderr",
          "output_type": "stream",
          "text": [
            "INFO flower 2023-01-02 13:08:39,150 | server.py:116 | fit progress: (22, 1.4415018260478973, {'accuracy': 0.4801}, 398.35304839200035)\n",
            "INFO flower 2023-01-02 13:08:39,150 | server.py:163 | evaluate_round 22: no clients selected, cancel\n",
            "DEBUG flower 2023-01-02 13:08:39,151 | server.py:215 | fit_round 23: strategy sampled 10 clients (out of 100)\n"
          ]
        },
        {
          "name": "stdout",
          "output_type": "stream",
          "text": [
            "Server-side evaluation loss 1.4415018260478973 / accuracy 0.4801\n",
            "[Client 11, round 23] fit, config: {'server_round': 23, 'local_epochs': 5, 'learning_rate': 0.20040764738476147}\n",
            "[Client 89, round 23] fit, config: {'server_round': 23, 'local_epochs': 5, 'learning_rate': 0.20040764738476147}\n",
            "[Client 17, round 23] fit, config: {'server_round': 23, 'local_epochs': 5, 'learning_rate': 0.20040764738476147}\n",
            "[Client 85, round 23] fit, config: {'server_round': 23, 'local_epochs': 5, 'learning_rate': 0.20040764738476147}\n",
            "[Client 5, round 23] fit, config: {'server_round': 23, 'local_epochs': 5, 'learning_rate': 0.20040764738476147}\n",
            "[Client 45, round 23] fit, config: {'server_round': 23, 'local_epochs': 5, 'learning_rate': 0.20040764738476147}\n",
            "[Client 56, round 23] fit, config: {'server_round': 23, 'local_epochs': 5, 'learning_rate': 0.20040764738476147}\n",
            "[Client 26, round 23] fit, config: {'server_round': 23, 'local_epochs': 5, 'learning_rate': 0.20040764738476147}\n",
            "[Client 30, round 23] fit, config: {'server_round': 23, 'local_epochs': 5, 'learning_rate': 0.20040764738476147}\n",
            "[Client 55, round 23] fit, config: {'server_round': 23, 'local_epochs': 5, 'learning_rate': 0.20040764738476147}\n",
            "Epoch 1: train loss 1.6732840802934434, accuracy 0.4266666666666667\n",
            "Epoch 1: train loss 1.6801520453559027, accuracy 0.4\n",
            "Epoch 1: train loss 1.5652925305896335, accuracy 0.4222222222222222\n",
            "Epoch 1: train loss 1.7304053836398654, accuracy 0.3933333333333333\n",
            "Epoch 1: train loss 1.5272455877727933, accuracy 0.42444444444444446\n",
            "Epoch 1: train loss 1.5916426579157512, accuracy 0.3844444444444444\n",
            "Epoch 1: train loss 1.5413951608869765, accuracy 0.4111111111111111\n",
            "Epoch 1: train loss 1.6040760543611314, accuracy 0.39111111111111113\n",
            "Epoch 1: train loss 1.6201808585060968, accuracy 0.38666666666666666\n",
            "Epoch 1: train loss 1.5160598357518513, accuracy 0.41333333333333333\n",
            "Epoch 2: train loss 1.571034590403239, accuracy 0.4222222222222222\n",
            "Epoch 2: train loss 1.6258836189905803, accuracy 0.3844444444444444\n",
            "Epoch 2: train loss 1.5607407357957628, accuracy 0.43777777777777777\n",
            "Epoch 2: train loss 1.5745724042256672, accuracy 0.4111111111111111\n",
            "Epoch 2: train loss 1.5744910902447171, accuracy 0.4311111111111111\n",
            "Epoch 2: train loss 1.5392468108071222, accuracy 0.43333333333333335\n",
            "Epoch 2: train loss 1.547831932703654, accuracy 0.4444444444444444\n",
            "Epoch 2: train loss 1.5211733844545152, accuracy 0.4688888888888889\n",
            "Epoch 2: train loss 1.501309461063809, accuracy 0.4222222222222222\n",
            "Epoch 2: train loss 1.6330491569307115, accuracy 0.4288888888888889\n",
            "Epoch 3: train loss 1.53209830654992, accuracy 0.4\n",
            "Epoch 3: train loss 1.5418362352583144, accuracy 0.45555555555555555\n",
            "Epoch 3: train loss 1.5163931449254353, accuracy 0.44\n",
            "Epoch 3: train loss 1.5229928758409288, accuracy 0.4444444444444444\n",
            "Epoch 3: train loss 1.4942493836085002, accuracy 0.46\n",
            "Epoch 3: train loss 1.5671158234278362, accuracy 0.4311111111111111\n",
            "Epoch 3: train loss 1.6867895391252306, accuracy 0.38222222222222224\n",
            "Epoch 3: train loss 1.4793702231513128, accuracy 0.45111111111111113\n",
            "Epoch 3: train loss 1.5528379281361897, accuracy 0.43777777777777777\n",
            "Epoch 3: train loss 1.5296294424268935, accuracy 0.44\n",
            "Epoch 4: train loss 1.5338275962405734, accuracy 0.4222222222222222\n",
            "Epoch 4: train loss 1.5364083846410115, accuracy 0.4577777777777778\n",
            "Epoch 4: train loss 1.6126744482252333, accuracy 0.4488888888888889\n",
            "Epoch 4: train loss 1.5270243088404338, accuracy 0.4488888888888889\n",
            "Epoch 4: train loss 1.5612577199935913, accuracy 0.41333333333333333\n",
            "Epoch 4: train loss 1.508627520667182, accuracy 0.4688888888888889\n",
            "Epoch 4: train loss 1.4903695053524442, accuracy 0.44\n",
            "Epoch 4: train loss 1.4898603624767728, accuracy 0.43777777777777777\n",
            "Epoch 4: train loss 1.5271819432576497, accuracy 0.43333333333333335\n",
            "Epoch 4: train loss 1.5469891097810533, accuracy 0.38222222222222224\n"
          ]
        },
        {
          "name": "stderr",
          "output_type": "stream",
          "text": [
            "DEBUG flower 2023-01-02 13:08:54,546 | server.py:229 | fit_round 23 received 10 results and 0 failures\n"
          ]
        },
        {
          "name": "stdout",
          "output_type": "stream",
          "text": [
            "Epoch 5: train loss 1.4967344734403822, accuracy 0.4111111111111111\n",
            "Epoch 5: train loss 1.5222143861982558, accuracy 0.4222222222222222\n",
            "Epoch 5: train loss 1.5423115491867065, accuracy 0.46\n",
            "Epoch 5: train loss 1.4889628622266982, accuracy 0.47333333333333333\n",
            "Epoch 5: train loss 1.4751092725329928, accuracy 0.4311111111111111\n",
            "Epoch 5: train loss 1.4518377913369074, accuracy 0.4622222222222222\n",
            "Epoch 5: train loss 1.4864787525600858, accuracy 0.43333333333333335\n",
            "Epoch 5: train loss 1.481506175465054, accuracy 0.44222222222222224\n",
            "Epoch 5: train loss 1.4742967287699382, accuracy 0.47333333333333333\n",
            "Epoch 5: train loss 1.4870991971757677, accuracy 0.44222222222222224\n"
          ]
        },
        {
          "name": "stderr",
          "output_type": "stream",
          "text": [
            "INFO flower 2023-01-02 13:08:57,253 | server.py:116 | fit progress: (23, 1.4402703523635865, {'accuracy': 0.4813}, 416.45629492400076)\n",
            "INFO flower 2023-01-02 13:08:57,253 | server.py:163 | evaluate_round 23: no clients selected, cancel\n",
            "DEBUG flower 2023-01-02 13:08:57,254 | server.py:215 | fit_round 24: strategy sampled 10 clients (out of 100)\n"
          ]
        },
        {
          "name": "stdout",
          "output_type": "stream",
          "text": [
            "Server-side evaluation loss 1.4402703523635865 / accuracy 0.4813\n",
            "[Client 43, round 24] fit, config: {'server_round': 24, 'local_epochs': 5, 'learning_rate': 0.19840357091091385}\n",
            "[Client 85, round 24] fit, config: {'server_round': 24, 'local_epochs': 5, 'learning_rate': 0.19840357091091385}\n",
            "[Client 18, round 24] fit, config: {'server_round': 24, 'local_epochs': 5, 'learning_rate': 0.19840357091091385}\n",
            "[Client 11, round 24] fit, config: {'server_round': 24, 'local_epochs': 5, 'learning_rate': 0.19840357091091385}\n",
            "[Client 86, round 24] fit, config: {'server_round': 24, 'local_epochs': 5, 'learning_rate': 0.19840357091091385}\n",
            "[Client 1, round 24] fit, config: {'server_round': 24, 'local_epochs': 5, 'learning_rate': 0.19840357091091385}\n",
            "[Client 41, round 24] fit, config: {'server_round': 24, 'local_epochs': 5, 'learning_rate': 0.19840357091091385}\n",
            "[Client 37, round 24] fit, config: {'server_round': 24, 'local_epochs': 5, 'learning_rate': 0.19840357091091385}\n",
            "[Client 51, round 24] fit, config: {'server_round': 24, 'local_epochs': 5, 'learning_rate': 0.19840357091091385}\n",
            "[Client 44, round 24] fit, config: {'server_round': 24, 'local_epochs': 5, 'learning_rate': 0.19840357091091385}\n",
            "Epoch 1: train loss 1.5541132556067572, accuracy 0.4177777777777778\n",
            "Epoch 1: train loss 1.5613774988386366, accuracy 0.43555555555555553\n",
            "Epoch 1: train loss 1.5287415319018893, accuracy 0.4311111111111111\n",
            "Epoch 1: train loss 1.6052760812971327, accuracy 0.4111111111111111\n",
            "Epoch 1: train loss 1.7165009842978582, accuracy 0.37333333333333335\n",
            "Epoch 1: train loss 1.4965361489189997, accuracy 0.44\n",
            "Epoch 1: train loss 1.6074392795562744, accuracy 0.4311111111111111\n",
            "Epoch 1: train loss 1.5781309207280476, accuracy 0.4022222222222222\n",
            "Epoch 1: train loss 1.6227619383070204, accuracy 0.37555555555555553\n",
            "Epoch 1: train loss 1.6391046047210693, accuracy 0.35333333333333333\n",
            "Epoch 2: train loss 1.608002954059177, accuracy 0.41555555555555557\n",
            "Epoch 2: train loss 1.575428432888455, accuracy 0.4266666666666667\n",
            "Epoch 2: train loss 1.5281118816799588, accuracy 0.42\n",
            "Epoch 2: train loss 1.5579824447631836, accuracy 0.4177777777777778\n",
            "Epoch 2: train loss 1.6433677275975545, accuracy 0.36444444444444446\n",
            "Epoch 2: train loss 1.5318127738104925, accuracy 0.44\n",
            "Epoch 2: train loss 1.5444876750310261, accuracy 0.43555555555555553\n",
            "Epoch 2: train loss 1.5864635705947876, accuracy 0.41555555555555557\n",
            "Epoch 2: train loss 1.6775622367858887, accuracy 0.38222222222222224\n",
            "Epoch 2: train loss 1.5464596350987752, accuracy 0.4533333333333333\n",
            "Epoch 3: train loss 1.5229285425610013, accuracy 0.45111111111111113\n",
            "Epoch 3: train loss 1.4691379070281982, accuracy 0.42\n",
            "Epoch 3: train loss 1.5584542883767023, accuracy 0.4288888888888889\n",
            "Epoch 3: train loss 1.5879136323928833, accuracy 0.4066666666666667\n",
            "Epoch 3: train loss 1.5495285855399237, accuracy 0.43555555555555553\n",
            "Epoch 3: train loss 1.4579892820782132, accuracy 0.46\n",
            "Epoch 3: train loss 1.592137826813592, accuracy 0.4066666666666667\n",
            "Epoch 3: train loss 1.624607218636407, accuracy 0.4111111111111111\n",
            "Epoch 3: train loss 1.5496362580193415, accuracy 0.4266666666666667\n",
            "Epoch 3: train loss 1.5389125479592218, accuracy 0.4533333333333333\n",
            "Epoch 4: train loss 1.534259517987569, accuracy 0.4177777777777778\n",
            "Epoch 4: train loss 1.4354876942104764, accuracy 0.4822222222222222\n",
            "Epoch 4: train loss 1.7360616127649944, accuracy 0.3422222222222222\n",
            "Epoch 4: train loss 1.5673712227079604, accuracy 0.37555555555555553\n",
            "Epoch 4: train loss 1.495204382472568, accuracy 0.4688888888888889\n",
            "Epoch 4: train loss 1.4724953307045832, accuracy 0.4622222222222222\n",
            "Epoch 4: train loss 1.4921905861960516, accuracy 0.47555555555555556\n",
            "Epoch 4: train loss 1.5961110326978896, accuracy 0.42\n",
            "Epoch 4: train loss 1.4841006464428372, accuracy 0.4622222222222222\n",
            "Epoch 4: train loss 1.5564688046773274, accuracy 0.4622222222222222\n"
          ]
        },
        {
          "name": "stderr",
          "output_type": "stream",
          "text": [
            "DEBUG flower 2023-01-02 13:09:12,057 | server.py:229 | fit_round 24 received 10 results and 0 failures\n"
          ]
        },
        {
          "name": "stdout",
          "output_type": "stream",
          "text": [
            "Epoch 5: train loss 1.4192160765329997, accuracy 0.4888888888888889\n",
            "Epoch 5: train loss 1.4882780578401353, accuracy 0.4622222222222222\n",
            "Epoch 5: train loss 1.5055180655585394, accuracy 0.44\n",
            "Epoch 5: train loss 1.4009639422098796, accuracy 0.47333333333333333\n",
            "Epoch 5: train loss 1.6098502079645793, accuracy 0.3933333333333333\n",
            "Epoch 5: train loss 1.5513378779093425, accuracy 0.42\n",
            "Epoch 5: train loss 1.485391550593906, accuracy 0.4488888888888889\n",
            "Epoch 5: train loss 1.558778961499532, accuracy 0.4311111111111111\n",
            "Epoch 5: train loss 1.4057027498881023, accuracy 0.4866666666666667\n",
            "Epoch 5: train loss 1.4871948957443237, accuracy 0.4577777777777778\n"
          ]
        },
        {
          "name": "stderr",
          "output_type": "stream",
          "text": [
            "INFO flower 2023-01-02 13:09:15,002 | server.py:116 | fit progress: (24, 1.4257594925165176, {'accuracy': 0.486}, 434.20542581799964)\n",
            "INFO flower 2023-01-02 13:09:15,003 | server.py:163 | evaluate_round 24: no clients selected, cancel\n",
            "DEBUG flower 2023-01-02 13:09:15,003 | server.py:215 | fit_round 25: strategy sampled 10 clients (out of 100)\n"
          ]
        },
        {
          "name": "stdout",
          "output_type": "stream",
          "text": [
            "Server-side evaluation loss 1.4257594925165176 / accuracy 0.486\n",
            "[Client 29, round 25] fit, config: {'server_round': 25, 'local_epochs': 5, 'learning_rate': 0.1964195352018047}\n",
            "[Client 7, round 25] fit, config: {'server_round': 25, 'local_epochs': 5, 'learning_rate': 0.1964195352018047}\n",
            "[Client 8, round 25] fit, config: {'server_round': 25, 'local_epochs': 5, 'learning_rate': 0.1964195352018047}\n",
            "[Client 70, round 25] fit, config: {'server_round': 25, 'local_epochs': 5, 'learning_rate': 0.1964195352018047}\n",
            "[Client 14, round 25] fit, config: {'server_round': 25, 'local_epochs': 5, 'learning_rate': 0.1964195352018047}\n",
            "[Client 31, round 25] fit, config: {'server_round': 25, 'local_epochs': 5, 'learning_rate': 0.1964195352018047}\n",
            "[Client 36, round 25] fit, config: {'server_round': 25, 'local_epochs': 5, 'learning_rate': 0.1964195352018047}\n",
            "[Client 16, round 25] fit, config: {'server_round': 25, 'local_epochs': 5, 'learning_rate': 0.1964195352018047}\n",
            "[Client 30, round 25] fit, config: {'server_round': 25, 'local_epochs': 5, 'learning_rate': 0.1964195352018047}\n",
            "[Client 71, round 25] fit, config: {'server_round': 25, 'local_epochs': 5, 'learning_rate': 0.1964195352018047}\n",
            "Epoch 1: train loss 1.635840031835768, accuracy 0.37777777777777777\n",
            "Epoch 1: train loss 1.6286820040808783, accuracy 0.4088888888888889\n",
            "Epoch 1: train loss 1.51005838976966, accuracy 0.46\n",
            "Epoch 1: train loss 1.4757255183325872, accuracy 0.4488888888888889\n",
            "Epoch 1: train loss 1.6213587919871013, accuracy 0.41555555555555557\n",
            "Epoch 1: train loss 1.511971354484558, accuracy 0.4311111111111111\n",
            "Epoch 1: train loss 1.5856605503294203, accuracy 0.4222222222222222\n",
            "Epoch 1: train loss 1.6682937145233154, accuracy 0.4111111111111111\n",
            "Epoch 1: train loss 1.6054624451531305, accuracy 0.43333333333333335\n",
            "Epoch 1: train loss 1.6029819912380643, accuracy 0.39111111111111113\n",
            "Epoch 2: train loss 1.613667607307434, accuracy 0.43777777777777777\n",
            "Epoch 2: train loss 1.555950125058492, accuracy 0.4533333333333333\n",
            "Epoch 2: train loss 1.4323468208312988, accuracy 0.4688888888888889\n",
            "Epoch 2: train loss 1.509654786851671, accuracy 0.43333333333333335\n",
            "Epoch 2: train loss 1.524504926469591, accuracy 0.44\n",
            "Epoch 2: train loss 1.474299669265747, accuracy 0.43333333333333335\n",
            "Epoch 2: train loss 1.5127190616395738, accuracy 0.4488888888888889\n",
            "Epoch 2: train loss 1.542744755744934, accuracy 0.44666666666666666\n",
            "Epoch 2: train loss 1.5197415351867676, accuracy 0.4488888888888889\n",
            "Epoch 2: train loss 1.5785625378290813, accuracy 0.3933333333333333\n",
            "Epoch 3: train loss 1.5881513489617243, accuracy 0.40444444444444444\n",
            "Epoch 3: train loss 1.4638970560497708, accuracy 0.4444444444444444\n",
            "Epoch 3: train loss 1.606507831149631, accuracy 0.40444444444444444\n",
            "Epoch 3: train loss 1.4573515388700697, accuracy 0.46444444444444444\n",
            "Epoch 3: train loss 1.5244301557540894, accuracy 0.4222222222222222\n",
            "Epoch 3: train loss 1.5367447667651706, accuracy 0.43777777777777777\n",
            "Epoch 3: train loss 1.4652991029951308, accuracy 0.48\n",
            "Epoch 3: train loss 1.5037416219711304, accuracy 0.46\n",
            "Epoch 3: train loss 1.623396144972907, accuracy 0.37333333333333335\n",
            "Epoch 3: train loss 1.4650873475604587, accuracy 0.4622222222222222\n",
            "Epoch 4: train loss 1.51418670018514, accuracy 0.4622222222222222\n",
            "Epoch 4: train loss 1.5805382066302829, accuracy 0.39555555555555555\n",
            "Epoch 4: train loss 1.566118836402893, accuracy 0.43333333333333335\n",
            "Epoch 4: train loss 1.5240230957667034, accuracy 0.4533333333333333\n",
            "Epoch 4: train loss 1.5546820561091106, accuracy 0.42\n",
            "Epoch 4: train loss 1.5087640020582411, accuracy 0.43777777777777777\n",
            "Epoch 4: train loss 1.5145041677686903, accuracy 0.43777777777777777\n",
            "Epoch 4: train loss 1.5165005922317505, accuracy 0.46\n",
            "Epoch 4: train loss 1.5297351678212483, accuracy 0.46\n",
            "Epoch 4: train loss 1.4769675334294636, accuracy 0.4822222222222222\n"
          ]
        },
        {
          "name": "stderr",
          "output_type": "stream",
          "text": [
            "DEBUG flower 2023-01-02 13:09:29,580 | server.py:229 | fit_round 25 received 10 results and 0 failures\n"
          ]
        },
        {
          "name": "stdout",
          "output_type": "stream",
          "text": [
            "Epoch 5: train loss 1.3990595208273993, accuracy 0.4822222222222222\n",
            "Epoch 5: train loss 1.497490366299947, accuracy 0.48\n",
            "Epoch 5: train loss 1.5329602559407551, accuracy 0.4488888888888889\n",
            "Epoch 5: train loss 1.4337855180104573, accuracy 0.4955555555555556\n",
            "Epoch 5: train loss 1.405192255973816, accuracy 0.44666666666666666\n",
            "Epoch 5: train loss 1.5347076521979437, accuracy 0.4577777777777778\n",
            "Epoch 5: train loss 1.497618211640252, accuracy 0.43777777777777777\n",
            "Epoch 5: train loss 1.4543980360031128, accuracy 0.47333333333333333\n",
            "Epoch 5: train loss 1.5734143786960177, accuracy 0.42444444444444446\n",
            "Epoch 5: train loss 1.3929453558391995, accuracy 0.47555555555555556\n"
          ]
        },
        {
          "name": "stderr",
          "output_type": "stream",
          "text": [
            "INFO flower 2023-01-02 13:09:32,218 | server.py:116 | fit progress: (25, 1.4134849882125855, {'accuracy': 0.4913}, 451.42158075000043)\n",
            "INFO flower 2023-01-02 13:09:32,219 | server.py:163 | evaluate_round 25: no clients selected, cancel\n",
            "DEBUG flower 2023-01-02 13:09:32,219 | server.py:215 | fit_round 26: strategy sampled 10 clients (out of 100)\n"
          ]
        },
        {
          "name": "stdout",
          "output_type": "stream",
          "text": [
            "Server-side evaluation loss 1.4134849882125855 / accuracy 0.4913\n",
            "[Client 0, round 26] fit, config: {'server_round': 26, 'local_epochs': 5, 'learning_rate': 0.19445533984978666}\n",
            "[Client 77, round 26] fit, config: {'server_round': 26, 'local_epochs': 5, 'learning_rate': 0.19445533984978666}\n",
            "[Client 98, round 26] fit, config: {'server_round': 26, 'local_epochs': 5, 'learning_rate': 0.19445533984978666}\n",
            "[Client 33, round 26] fit, config: {'server_round': 26, 'local_epochs': 5, 'learning_rate': 0.19445533984978666}\n",
            "[Client 69, round 26] fit, config: {'server_round': 26, 'local_epochs': 5, 'learning_rate': 0.19445533984978666}\n",
            "[Client 82, round 26] fit, config: {'server_round': 26, 'local_epochs': 5, 'learning_rate': 0.19445533984978666}\n",
            "[Client 53, round 26] fit, config: {'server_round': 26, 'local_epochs': 5, 'learning_rate': 0.19445533984978666}\n",
            "[Client 71, round 26] fit, config: {'server_round': 26, 'local_epochs': 5, 'learning_rate': 0.19445533984978666}\n",
            "[Client 80, round 26] fit, config: {'server_round': 26, 'local_epochs': 5, 'learning_rate': 0.19445533984978666}\n",
            "[Client 47, round 26] fit, config: {'server_round': 26, 'local_epochs': 5, 'learning_rate': 0.19445533984978666}\n",
            "Epoch 1: train loss 1.5592462221781414, accuracy 0.42444444444444446\n",
            "Epoch 1: train loss 1.5028239091237385, accuracy 0.4311111111111111\n",
            "Epoch 1: train loss 1.5297584533691406, accuracy 0.4288888888888889\n",
            "Epoch 1: train loss 1.5400621228747897, accuracy 0.4266666666666667\n",
            "Epoch 1: train loss 1.64273915025923, accuracy 0.3933333333333333\n",
            "Epoch 1: train loss 1.6318773825963337, accuracy 0.40444444444444444\n",
            "Epoch 1: train loss 1.6656534141964383, accuracy 0.4066666666666667\n",
            "Epoch 1: train loss 1.6329591936535306, accuracy 0.36666666666666664\n",
            "Epoch 1: train loss 1.6159679889678955, accuracy 0.4222222222222222\n",
            "Epoch 1: train loss 1.5127822558085124, accuracy 0.45111111111111113\n",
            "Epoch 2: train loss 1.5075577100118, accuracy 0.44666666666666666\n",
            "Epoch 2: train loss 1.6245839728249445, accuracy 0.3933333333333333\n",
            "Epoch 2: train loss 1.5329034063551161, accuracy 0.43555555555555553\n",
            "Epoch 2: train loss 1.4815761778089735, accuracy 0.47333333333333333\n",
            "Epoch 2: train loss 1.569539917839898, accuracy 0.4111111111111111\n",
            "Epoch 2: train loss 1.4631401432885065, accuracy 0.4688888888888889\n",
            "Epoch 2: train loss 1.6553392940097384, accuracy 0.3977777777777778\n",
            "Epoch 2: train loss 1.5523388385772705, accuracy 0.39555555555555555\n",
            "Epoch 2: train loss 1.6377492215898302, accuracy 0.4111111111111111\n",
            "Epoch 2: train loss 1.5289485587014093, accuracy 0.42444444444444446\n",
            "Epoch 3: train loss 1.497829066382514, accuracy 0.44\n",
            "Epoch 3: train loss 1.5618245601654053, accuracy 0.40444444444444444\n",
            "Epoch 3: train loss 1.43907802634769, accuracy 0.4688888888888889\n",
            "Epoch 3: train loss 1.4587131871117487, accuracy 0.46\n",
            "Epoch 3: train loss 1.404458483060201, accuracy 0.49333333333333335\n",
            "Epoch 3: train loss 1.5763540135489569, accuracy 0.4266666666666667\n",
            "Epoch 3: train loss 1.627135780122545, accuracy 0.4111111111111111\n",
            "Epoch 3: train loss 1.5153318643569946, accuracy 0.4777777777777778\n",
            "Epoch 3: train loss 1.5147522158092923, accuracy 0.4288888888888889\n",
            "Epoch 3: train loss 1.524174729983012, accuracy 0.4222222222222222\n",
            "Epoch 4: train loss 1.4421837859683566, accuracy 0.47555555555555556\n",
            "Epoch 4: train loss 1.4889064762327406, accuracy 0.4222222222222222\n",
            "Epoch 4: train loss 1.3476206594043307, accuracy 0.49777777777777776\n",
            "Epoch 4: train loss 1.4602637026045058, accuracy 0.4266666666666667\n",
            "Epoch 4: train loss 1.4644842280281916, accuracy 0.47555555555555556\n",
            "Epoch 4: train loss 1.6273139317830403, accuracy 0.38\n",
            "Epoch 4: train loss 1.5063383314344618, accuracy 0.4444444444444444\n",
            "Epoch 4: train loss 1.6274712483088176, accuracy 0.3888888888888889\n",
            "Epoch 4: train loss 1.5388051403893366, accuracy 0.41333333333333333\n",
            "Epoch 4: train loss 1.437375585238139, accuracy 0.44222222222222224\n"
          ]
        },
        {
          "name": "stderr",
          "output_type": "stream",
          "text": [
            "DEBUG flower 2023-01-02 13:09:46,515 | server.py:229 | fit_round 26 received 10 results and 0 failures\n"
          ]
        },
        {
          "name": "stdout",
          "output_type": "stream",
          "text": [
            "Epoch 5: train loss 1.528459495968289, accuracy 0.44222222222222224\n",
            "Epoch 5: train loss 1.549384872118632, accuracy 0.43555555555555553\n",
            "Epoch 5: train loss 1.4023930099275377, accuracy 0.4777777777777778\n",
            "Epoch 5: train loss 1.4999072684182062, accuracy 0.46444444444444444\n",
            "Epoch 5: train loss 1.4506035380893283, accuracy 0.44\n",
            "Epoch 5: train loss 1.498450689845615, accuracy 0.43555555555555553\n",
            "Epoch 5: train loss 1.4338156249788072, accuracy 0.4688888888888889\n",
            "Epoch 5: train loss 1.4265318579143949, accuracy 0.4622222222222222\n",
            "Epoch 5: train loss 1.504269414477878, accuracy 0.43333333333333335\n",
            "Epoch 5: train loss 1.5574414200252957, accuracy 0.42\n"
          ]
        },
        {
          "name": "stderr",
          "output_type": "stream",
          "text": [
            "INFO flower 2023-01-02 13:09:49,137 | server.py:116 | fit progress: (26, 1.40368508040905, {'accuracy': 0.4968}, 468.33995079600027)\n",
            "INFO flower 2023-01-02 13:09:49,137 | server.py:163 | evaluate_round 26: no clients selected, cancel\n",
            "DEBUG flower 2023-01-02 13:09:49,138 | server.py:215 | fit_round 27: strategy sampled 10 clients (out of 100)\n"
          ]
        },
        {
          "name": "stdout",
          "output_type": "stream",
          "text": [
            "Server-side evaluation loss 1.40368508040905 / accuracy 0.4968\n",
            "[Client 16, round 27] fit, config: {'server_round': 27, 'local_epochs': 5, 'learning_rate': 0.19251078645128877}\n",
            "[Client 53, round 27] fit, config: {'server_round': 27, 'local_epochs': 5, 'learning_rate': 0.19251078645128877}\n",
            "[Client 4, round 27] fit, config: {'server_round': 27, 'local_epochs': 5, 'learning_rate': 0.19251078645128877}\n",
            "[Client 77, round 27] fit, config: {'server_round': 27, 'local_epochs': 5, 'learning_rate': 0.19251078645128877}\n",
            "[Client 44, round 27] fit, config: {'server_round': 27, 'local_epochs': 5, 'learning_rate': 0.19251078645128877}\n",
            "[Client 37, round 27] fit, config: {'server_round': 27, 'local_epochs': 5, 'learning_rate': 0.19251078645128877}\n",
            "[Client 88, round 27] fit, config: {'server_round': 27, 'local_epochs': 5, 'learning_rate': 0.19251078645128877}\n",
            "[Client 64, round 27] fit, config: {'server_round': 27, 'local_epochs': 5, 'learning_rate': 0.19251078645128877}\n",
            "[Client 0, round 27] fit, config: {'server_round': 27, 'local_epochs': 5, 'learning_rate': 0.19251078645128877}\n",
            "[Client 40, round 27] fit, config: {'server_round': 27, 'local_epochs': 5, 'learning_rate': 0.19251078645128877}\n",
            "Epoch 1: train loss 1.5453273322847154, accuracy 0.45111111111111113\n",
            "Epoch 1: train loss 1.4953390492333307, accuracy 0.4177777777777778\n",
            "Epoch 1: train loss 1.513329850302802, accuracy 0.44666666666666666\n",
            "Epoch 1: train loss 1.5864219400617812, accuracy 0.4022222222222222\n",
            "Epoch 1: train loss 1.5088743766148884, accuracy 0.41555555555555557\n",
            "Epoch 1: train loss 1.5600941843456693, accuracy 0.45555555555555555\n",
            "Epoch 1: train loss 1.5073021915223863, accuracy 0.4622222222222222\n",
            "Epoch 1: train loss 1.499272280269199, accuracy 0.4444444444444444\n",
            "Epoch 1: train loss 1.654196302096049, accuracy 0.37555555555555553\n",
            "Epoch 1: train loss 1.5181639989217122, accuracy 0.44222222222222224\n",
            "Epoch 2: train loss 1.5201525290807087, accuracy 0.4711111111111111\n",
            "Epoch 2: train loss 1.5271357430352106, accuracy 0.4688888888888889\n",
            "Epoch 2: train loss 1.4787495930989583, accuracy 0.44222222222222224\n",
            "Epoch 2: train loss 1.6235183477401733, accuracy 0.41333333333333333\n",
            "Epoch 2: train loss 1.489818228615655, accuracy 0.43777777777777777\n",
            "Epoch 2: train loss 1.4255242082807753, accuracy 0.45555555555555555\n",
            "Epoch 2: train loss 1.4712248510784574, accuracy 0.43555555555555553\n",
            "Epoch 2: train loss 1.4786260657840304, accuracy 0.44666666666666666\n",
            "Epoch 2: train loss 1.5140739811791315, accuracy 0.44222222222222224\n",
            "Epoch 2: train loss 1.4162554608450995, accuracy 0.48444444444444446\n",
            "Epoch 3: train loss 1.486600677172343, accuracy 0.4488888888888889\n",
            "Epoch 3: train loss 1.5151268508699205, accuracy 0.43555555555555553\n",
            "Epoch 3: train loss 1.5060725874371, accuracy 0.4533333333333333\n",
            "Epoch 3: train loss 1.583636654747857, accuracy 0.39555555555555555\n",
            "Epoch 3: train loss 1.5588786337110732, accuracy 0.42\n",
            "Epoch 3: train loss 1.4294492668575711, accuracy 0.4666666666666667\n",
            "Epoch 3: train loss 1.4596503973007202, accuracy 0.47333333333333333\n",
            "Epoch 3: train loss 1.5913944244384766, accuracy 0.44222222222222224\n",
            "Epoch 3: train loss 1.5045613050460815, accuracy 0.4488888888888889\n",
            "Epoch 3: train loss 1.4480513201819525, accuracy 0.4577777777777778\n",
            "Epoch 4: train loss 1.5139975945154827, accuracy 0.44666666666666666\n",
            "Epoch 4: train loss 1.4361373451020982, accuracy 0.4866666666666667\n",
            "Epoch 4: train loss 1.549546824561225, accuracy 0.4488888888888889\n",
            "Epoch 4: train loss 1.5124828550550673, accuracy 0.43777777777777777\n",
            "Epoch 4: train loss 1.5600395335091486, accuracy 0.4\n",
            "Epoch 4: train loss 1.4005451732211642, accuracy 0.43555555555555553\n",
            "Epoch 4: train loss 1.444529374440511, accuracy 0.45111111111111113\n",
            "Epoch 4: train loss 1.5025731060240004, accuracy 0.46444444444444444\n",
            "Epoch 4: train loss 1.41565121544732, accuracy 0.47555555555555556\n",
            "Epoch 4: train loss 1.4531198607550726, accuracy 0.45111111111111113\n"
          ]
        },
        {
          "name": "stderr",
          "output_type": "stream",
          "text": [
            "DEBUG flower 2023-01-02 13:10:03,752 | server.py:229 | fit_round 27 received 10 results and 0 failures\n"
          ]
        },
        {
          "name": "stdout",
          "output_type": "stream",
          "text": [
            "Epoch 5: train loss 1.4655913511912029, accuracy 0.45555555555555555\n",
            "Epoch 5: train loss 1.4395540820227728, accuracy 0.4777777777777778\n",
            "Epoch 5: train loss 1.3335306776894464, accuracy 0.4888888888888889\n",
            "Epoch 5: train loss 1.5378938515981038, accuracy 0.4177777777777778\n",
            "Epoch 5: train loss 1.614902138710022, accuracy 0.4177777777777778\n",
            "Epoch 5: train loss 1.4388269583384197, accuracy 0.46\n",
            "Epoch 5: train loss 1.410971588558621, accuracy 0.45555555555555555\n",
            "Epoch 5: train loss 1.466906295882331, accuracy 0.4577777777777778\n",
            "Epoch 5: train loss 1.397080871793959, accuracy 0.49333333333333335\n",
            "Epoch 5: train loss 1.4182633293999567, accuracy 0.4822222222222222\n"
          ]
        },
        {
          "name": "stderr",
          "output_type": "stream",
          "text": [
            "INFO flower 2023-01-02 13:10:06,446 | server.py:116 | fit progress: (27, 1.4024064886569976, {'accuracy': 0.4951}, 485.6492057710002)\n",
            "INFO flower 2023-01-02 13:10:06,446 | server.py:163 | evaluate_round 27: no clients selected, cancel\n",
            "DEBUG flower 2023-01-02 13:10:06,447 | server.py:215 | fit_round 28: strategy sampled 10 clients (out of 100)\n"
          ]
        },
        {
          "name": "stdout",
          "output_type": "stream",
          "text": [
            "Server-side evaluation loss 1.4024064886569976 / accuracy 0.4951\n",
            "[Client 97, round 28] fit, config: {'server_round': 28, 'local_epochs': 5, 'learning_rate': 0.1905856785867759}\n",
            "[Client 0, round 28] fit, config: {'server_round': 28, 'local_epochs': 5, 'learning_rate': 0.1905856785867759}\n",
            "[Client 82, round 28] fit, config: {'server_round': 28, 'local_epochs': 5, 'learning_rate': 0.1905856785867759}\n",
            "[Client 37, round 28] fit, config: {'server_round': 28, 'local_epochs': 5, 'learning_rate': 0.1905856785867759}\n",
            "[Client 10, round 28] fit, config: {'server_round': 28, 'local_epochs': 5, 'learning_rate': 0.1905856785867759}\n",
            "[Client 92, round 28] fit, config: {'server_round': 28, 'local_epochs': 5, 'learning_rate': 0.1905856785867759}\n",
            "[Client 48, round 28] fit, config: {'server_round': 28, 'local_epochs': 5, 'learning_rate': 0.1905856785867759}\n",
            "[Client 23, round 28] fit, config: {'server_round': 28, 'local_epochs': 5, 'learning_rate': 0.1905856785867759}\n",
            "[Client 41, round 28] fit, config: {'server_round': 28, 'local_epochs': 5, 'learning_rate': 0.1905856785867759}\n",
            "[Client 78, round 28] fit, config: {'server_round': 28, 'local_epochs': 5, 'learning_rate': 0.1905856785867759}\n",
            "Epoch 1: train loss 1.4712389310201008, accuracy 0.45555555555555555\n",
            "Epoch 1: train loss 1.5433648692237005, accuracy 0.4288888888888889\n",
            "Epoch 1: train loss 1.6077818075815837, accuracy 0.4\n",
            "Epoch 1: train loss 1.4465730455186632, accuracy 0.47333333333333333\n",
            "Epoch 1: train loss 1.5801449484295316, accuracy 0.4311111111111111\n",
            "Epoch 1: train loss 1.5805000596576266, accuracy 0.4288888888888889\n",
            "Epoch 1: train loss 1.541408273908827, accuracy 0.4311111111111111\n",
            "Epoch 1: train loss 1.5837431616253324, accuracy 0.39555555555555555\n",
            "Epoch 1: train loss 1.5197980801264446, accuracy 0.44666666666666666\n",
            "Epoch 1: train loss 1.508751802974277, accuracy 0.43333333333333335\n",
            "Epoch 2: train loss 1.492949578497145, accuracy 0.42444444444444446\n",
            "Epoch 2: train loss 1.48103842470381, accuracy 0.44666666666666666\n",
            "Epoch 2: train loss 1.5535857280095418, accuracy 0.4222222222222222\n",
            "Epoch 2: train loss 1.4917541080050998, accuracy 0.4177777777777778\n",
            "Epoch 2: train loss 1.581175512737698, accuracy 0.4222222222222222\n",
            "Epoch 2: train loss 1.5472667084799872, accuracy 0.45111111111111113\n",
            "Epoch 2: train loss 1.5634317795435588, accuracy 0.4222222222222222\n",
            "Epoch 2: train loss 1.4934081236521404, accuracy 0.4288888888888889\n",
            "Epoch 2: train loss 1.4933017359839544, accuracy 0.4533333333333333\n",
            "Epoch 2: train loss 1.4779629839791193, accuracy 0.4444444444444444\n",
            "Epoch 3: train loss 1.4094507826699152, accuracy 0.5\n",
            "Epoch 3: train loss 1.3828152550591364, accuracy 0.4888888888888889\n",
            "Epoch 3: train loss 1.481000198258294, accuracy 0.4622222222222222\n",
            "Epoch 3: train loss 1.5581239859263103, accuracy 0.43333333333333335\n",
            "Epoch 3: train loss 1.5225396421220567, accuracy 0.44222222222222224\n",
            "Epoch 3: train loss 1.4832883675893147, accuracy 0.4666666666666667\n",
            "Epoch 3: train loss 1.4523481925328572, accuracy 0.4822222222222222\n",
            "Epoch 3: train loss 1.4056249724494085, accuracy 0.4955555555555556\n",
            "Epoch 3: train loss 1.4907850821812947, accuracy 0.41555555555555557\n",
            "Epoch 3: train loss 1.4504317707485623, accuracy 0.4444444444444444\n",
            "Epoch 4: train loss 1.4464210934109158, accuracy 0.4688888888888889\n",
            "Epoch 4: train loss 1.381659746170044, accuracy 0.4911111111111111\n",
            "Epoch 4: train loss 1.5249617099761963, accuracy 0.4444444444444444\n",
            "Epoch 4: train loss 1.5117504596710205, accuracy 0.4711111111111111\n",
            "Epoch 4: train loss 1.4459280570348103, accuracy 0.4711111111111111\n",
            "Epoch 4: train loss 1.4310616784625583, accuracy 0.5044444444444445\n",
            "Epoch 4: train loss 1.4692674742804632, accuracy 0.46444444444444444\n",
            "Epoch 4: train loss 1.434686369366116, accuracy 0.4666666666666667\n",
            "Epoch 4: train loss 1.4449713627497356, accuracy 0.4577777777777778\n",
            "Epoch 4: train loss 1.3880373239517212, accuracy 0.4911111111111111\n"
          ]
        },
        {
          "name": "stderr",
          "output_type": "stream",
          "text": [
            "DEBUG flower 2023-01-02 13:10:21,135 | server.py:229 | fit_round 28 received 10 results and 0 failures\n"
          ]
        },
        {
          "name": "stdout",
          "output_type": "stream",
          "text": [
            "Epoch 5: train loss 1.4065014388826158, accuracy 0.46444444444444444\n",
            "Epoch 5: train loss 1.4032207197613187, accuracy 0.4711111111111111\n",
            "Epoch 5: train loss 1.5170626772774591, accuracy 0.44222222222222224\n",
            "Epoch 5: train loss 1.3998114267985027, accuracy 0.5\n",
            "Epoch 5: train loss 1.403125352329678, accuracy 0.4688888888888889\n",
            "Epoch 5: train loss 1.4650195704566107, accuracy 0.45111111111111113\n",
            "Epoch 5: train loss 1.4789629247453477, accuracy 0.46\n",
            "Epoch 5: train loss 1.4791232744852703, accuracy 0.4622222222222222\n",
            "Epoch 5: train loss 1.4077794816758897, accuracy 0.48\n",
            "Epoch 5: train loss 1.3727800183826022, accuracy 0.47333333333333333\n"
          ]
        },
        {
          "name": "stderr",
          "output_type": "stream",
          "text": [
            "INFO flower 2023-01-02 13:10:23,932 | server.py:116 | fit progress: (28, 1.3945075535774232, {'accuracy': 0.4975}, 503.1350990669998)\n",
            "INFO flower 2023-01-02 13:10:23,932 | server.py:163 | evaluate_round 28: no clients selected, cancel\n",
            "DEBUG flower 2023-01-02 13:10:23,933 | server.py:215 | fit_round 29: strategy sampled 10 clients (out of 100)\n"
          ]
        },
        {
          "name": "stdout",
          "output_type": "stream",
          "text": [
            "Server-side evaluation loss 1.3945075535774232 / accuracy 0.4975\n",
            "[Client 56, round 29] fit, config: {'server_round': 29, 'local_epochs': 5, 'learning_rate': 0.18867982180090814}\n",
            "[Client 13, round 29] fit, config: {'server_round': 29, 'local_epochs': 5, 'learning_rate': 0.18867982180090814}\n",
            "[Client 76, round 29] fit, config: {'server_round': 29, 'local_epochs': 5, 'learning_rate': 0.18867982180090814}\n",
            "[Client 93, round 29] fit, config: {'server_round': 29, 'local_epochs': 5, 'learning_rate': 0.18867982180090814}\n",
            "[Client 95, round 29] fit, config: {'server_round': 29, 'local_epochs': 5, 'learning_rate': 0.18867982180090814}\n",
            "[Client 68, round 29] fit, config: {'server_round': 29, 'local_epochs': 5, 'learning_rate': 0.18867982180090814}\n",
            "[Client 51, round 29] fit, config: {'server_round': 29, 'local_epochs': 5, 'learning_rate': 0.18867982180090814}\n",
            "[Client 25, round 29] fit, config: {'server_round': 29, 'local_epochs': 5, 'learning_rate': 0.18867982180090814}\n",
            "[Client 81, round 29] fit, config: {'server_round': 29, 'local_epochs': 5, 'learning_rate': 0.18867982180090814}\n",
            "[Client 86, round 29] fit, config: {'server_round': 29, 'local_epochs': 5, 'learning_rate': 0.18867982180090814}\n",
            "Epoch 1: train loss 1.6000093221664429, accuracy 0.4488888888888889\n",
            "Epoch 1: train loss 1.52855118115743, accuracy 0.44666666666666666\n",
            "Epoch 1: train loss 1.5729778872595892, accuracy 0.4666666666666667\n",
            "Epoch 1: train loss 1.4197501341501872, accuracy 0.4533333333333333\n",
            "Epoch 1: train loss 1.4365369876225789, accuracy 0.45111111111111113\n",
            "Epoch 1: train loss 1.546626051266988, accuracy 0.4177777777777778\n",
            "Epoch 1: train loss 1.6382642984390259, accuracy 0.4622222222222222\n",
            "Epoch 1: train loss 1.6004243426852756, accuracy 0.44\n",
            "Epoch 1: train loss 1.557155794567532, accuracy 0.42444444444444446\n",
            "Epoch 1: train loss 1.5275724199083116, accuracy 0.4777777777777778\n",
            "Epoch 2: train loss 1.52467061413659, accuracy 0.4444444444444444Epoch 2: train loss 1.4591170416937933, accuracy 0.47333333333333333\n",
            "\n",
            "Epoch 2: train loss 1.502503792444865, accuracy 0.4777777777777778\n",
            "Epoch 2: train loss 1.4763632482952542, accuracy 0.43777777777777777\n",
            "Epoch 2: train loss 1.4591832160949707, accuracy 0.4777777777777778\n",
            "Epoch 2: train loss 1.5360214180416532, accuracy 0.42444444444444446\n",
            "Epoch 2: train loss 1.5728095637427435, accuracy 0.46444444444444444\n",
            "Epoch 2: train loss 1.5778670443428888, accuracy 0.43333333333333335\n",
            "Epoch 2: train loss 1.473501271671719, accuracy 0.43333333333333335\n",
            "Epoch 2: train loss 1.5143882698482938, accuracy 0.4666666666666667\n",
            "Epoch 3: train loss 1.436376028590732, accuracy 0.46444444444444444\n",
            "Epoch 3: train loss 1.4714929130342271, accuracy 0.47333333333333333\n",
            "Epoch 3: train loss 1.4542381366093953, accuracy 0.47555555555555556\n",
            "Epoch 3: train loss 1.4032787217034235, accuracy 0.48\n",
            "Epoch 3: train loss 1.4779505199856229, accuracy 0.47555555555555556\n",
            "Epoch 3: train loss 1.564081867535909, accuracy 0.41333333333333333\n",
            "Epoch 3: train loss 1.5353557401233249, accuracy 0.4311111111111111\n",
            "Epoch 3: train loss 1.368677510155572, accuracy 0.4666666666666667\n",
            "Epoch 3: train loss 1.4729735056559246, accuracy 0.45111111111111113\n",
            "Epoch 3: train loss 1.4899849494298298, accuracy 0.4866666666666667\n",
            "Epoch 4: train loss 1.418845123714871, accuracy 0.45111111111111113\n",
            "Epoch 4: train loss 1.3951442771487765, accuracy 0.5133333333333333\n",
            "Epoch 4: train loss 1.4428083499272664, accuracy 0.43555555555555553\n",
            "Epoch 4: train loss 1.5004526774088542, accuracy 0.4488888888888889\n",
            "Epoch 4: train loss 1.466840730773078, accuracy 0.48\n",
            "Epoch 4: train loss 1.501224398612976, accuracy 0.4444444444444444\n",
            "Epoch 4: train loss 1.445522599750095, accuracy 0.4533333333333333\n",
            "Epoch 4: train loss 1.5046108298831515, accuracy 0.42\n",
            "Epoch 4: train loss 1.4603738254970975, accuracy 0.4488888888888889\n",
            "Epoch 4: train loss 1.4654174248377483, accuracy 0.4822222222222222\n"
          ]
        },
        {
          "name": "stderr",
          "output_type": "stream",
          "text": [
            "DEBUG flower 2023-01-02 13:10:39,624 | server.py:229 | fit_round 29 received 10 results and 0 failures\n"
          ]
        },
        {
          "name": "stdout",
          "output_type": "stream",
          "text": [
            "Epoch 5: train loss 1.6141634517245822, accuracy 0.42\n",
            "Epoch 5: train loss 1.4117594030168321, accuracy 0.4888888888888889\n",
            "Epoch 5: train loss 1.342003795835707, accuracy 0.48444444444444446\n",
            "Epoch 5: train loss 1.4768896102905273, accuracy 0.44\n",
            "Epoch 5: train loss 1.3976498312420316, accuracy 0.4866666666666667\n",
            "Epoch 5: train loss 1.3326694700453017, accuracy 0.5066666666666667\n",
            "Epoch 5: train loss 1.4675788746939764, accuracy 0.4777777777777778\n",
            "Epoch 5: train loss 1.54441233476003, accuracy 0.4311111111111111\n",
            "Epoch 5: train loss 1.4824403259489272, accuracy 0.4222222222222222\n",
            "Epoch 5: train loss 1.3856807284884982, accuracy 0.48\n"
          ]
        },
        {
          "name": "stderr",
          "output_type": "stream",
          "text": [
            "INFO flower 2023-01-02 13:10:42,257 | server.py:116 | fit progress: (29, 1.384690603017807, {'accuracy': 0.5065}, 521.4600773799993)\n",
            "INFO flower 2023-01-02 13:10:42,257 | server.py:163 | evaluate_round 29: no clients selected, cancel\n",
            "DEBUG flower 2023-01-02 13:10:42,258 | server.py:215 | fit_round 30: strategy sampled 10 clients (out of 100)\n"
          ]
        },
        {
          "name": "stdout",
          "output_type": "stream",
          "text": [
            "Server-side evaluation loss 1.384690603017807 / accuracy 0.5065\n",
            "[Client 9, round 30] fit, config: {'server_round': 30, 'local_epochs': 5, 'learning_rate': 0.18679302358289904}\n",
            "[Client 24, round 30] fit, config: {'server_round': 30, 'local_epochs': 5, 'learning_rate': 0.18679302358289904}\n",
            "[Client 26, round 30] fit, config: {'server_round': 30, 'local_epochs': 5, 'learning_rate': 0.18679302358289904}\n",
            "[Client 92, round 30] fit, config: {'server_round': 30, 'local_epochs': 5, 'learning_rate': 0.18679302358289904}\n",
            "[Client 45, round 30] fit, config: {'server_round': 30, 'local_epochs': 5, 'learning_rate': 0.18679302358289904}\n",
            "[Client 54, round 30] fit, config: {'server_round': 30, 'local_epochs': 5, 'learning_rate': 0.18679302358289904}\n",
            "[Client 99, round 30] fit, config: {'server_round': 30, 'local_epochs': 5, 'learning_rate': 0.18679302358289904}\n",
            "[Client 61, round 30] fit, config: {'server_round': 30, 'local_epochs': 5, 'learning_rate': 0.18679302358289904}\n",
            "[Client 36, round 30] fit, config: {'server_round': 30, 'local_epochs': 5, 'learning_rate': 0.18679302358289904}\n",
            "[Client 83, round 30] fit, config: {'server_round': 30, 'local_epochs': 5, 'learning_rate': 0.18679302358289904}\n",
            "Epoch 1: train loss 1.5280056397120159, accuracy 0.46\n",
            "Epoch 1: train loss 1.5596435334947374, accuracy 0.43777777777777777\n",
            "Epoch 1: train loss 1.549019906255934, accuracy 0.4088888888888889\n",
            "Epoch 1: train loss 1.6292895078659058, accuracy 0.3888888888888889\n",
            "Epoch 1: train loss 1.5119237105051677, accuracy 0.47555555555555556\n",
            "Epoch 1: train loss 1.5077046023474798, accuracy 0.44666666666666666\n",
            "Epoch 1: train loss 1.4742665820651584, accuracy 0.4666666666666667\n",
            "Epoch 1: train loss 1.5600954824023776, accuracy 0.41333333333333333\n",
            "Epoch 1: train loss 1.4987019565370348, accuracy 0.4444444444444444\n",
            "Epoch 1: train loss 1.6260354386435614, accuracy 0.3977777777777778\n",
            "Epoch 2: train loss 1.58931475215488, accuracy 0.4088888888888889\n",
            "Epoch 2: train loss 1.580432693163554, accuracy 0.3977777777777778\n",
            "Epoch 2: train loss 1.4662575324376423, accuracy 0.45111111111111113\n",
            "Epoch 2: train loss 1.4641923242145114, accuracy 0.4666666666666667\n",
            "Epoch 2: train loss 1.4967755873998005, accuracy 0.4666666666666667\n",
            "Epoch 2: train loss 1.446948183907403, accuracy 0.45555555555555555\n",
            "Epoch 2: train loss 1.5028446780310736, accuracy 0.4022222222222222\n",
            "Epoch 2: train loss 1.4201269547144573, accuracy 0.48444444444444446\n",
            "Epoch 2: train loss 1.4626955191294353, accuracy 0.48444444444444446\n",
            "Epoch 2: train loss 1.5020533402760823, accuracy 0.4288888888888889\n",
            "Epoch 3: train loss 1.4235318104426067, accuracy 0.4911111111111111\n",
            "Epoch 3: train loss 1.4566551049550374, accuracy 0.4577777777777778\n",
            "Epoch 3: train loss 1.5614980591668024, accuracy 0.40444444444444444\n",
            "Epoch 3: train loss 1.517713361316257, accuracy 0.4711111111111111\n",
            "Epoch 3: train loss 1.4711702002419367, accuracy 0.47333333333333333\n",
            "Epoch 3: train loss 1.5253545575671725, accuracy 0.41333333333333333\n",
            "Epoch 3: train loss 1.3840267260869343, accuracy 0.5177777777777778\n",
            "Epoch 3: train loss 1.4445453882217407, accuracy 0.4488888888888889\n",
            "Epoch 3: train loss 1.466184311442905, accuracy 0.46444444444444444\n",
            "Epoch 3: train loss 1.600761718220181, accuracy 0.43777777777777777\n",
            "Epoch 4: train loss 1.3603809807035658, accuracy 0.49777777777777776\n",
            "Epoch 4: train loss 1.5058757596545749, accuracy 0.4488888888888889\n",
            "Epoch 4: train loss 1.5326384703318279, accuracy 0.42\n",
            "Epoch 4: train loss 1.415664792060852, accuracy 0.48\n",
            "Epoch 4: train loss 1.4359996716181438, accuracy 0.4622222222222222\n",
            "Epoch 4: train loss 1.36559972498152, accuracy 0.5\n",
            "Epoch 4: train loss 1.4257357385423448, accuracy 0.4666666666666667\n",
            "Epoch 4: train loss 1.4452389346228705, accuracy 0.45555555555555555\n",
            "Epoch 4: train loss 1.507441308763292, accuracy 0.45555555555555555\n",
            "Epoch 4: train loss 1.4392445882161458, accuracy 0.46444444444444444\n"
          ]
        },
        {
          "name": "stderr",
          "output_type": "stream",
          "text": [
            "DEBUG flower 2023-01-02 13:10:56,963 | server.py:229 | fit_round 30 received 10 results and 0 failures\n"
          ]
        },
        {
          "name": "stdout",
          "output_type": "stream",
          "text": [
            "Epoch 5: train loss 1.4444191985660129, accuracy 0.4533333333333333\n",
            "Epoch 5: train loss 1.3792986869812012, accuracy 0.4955555555555556\n",
            "Epoch 5: train loss 1.4568883975346882, accuracy 0.45555555555555555\n",
            "Epoch 5: train loss 1.384166677792867, accuracy 0.5022222222222222\n",
            "Epoch 5: train loss 1.553785628742642, accuracy 0.4111111111111111\n",
            "Epoch 5: train loss 1.4523183107376099, accuracy 0.4822222222222222\n",
            "Epoch 5: train loss 1.4010872178607516, accuracy 0.4711111111111111\n",
            "Epoch 5: train loss 1.4717725780275133, accuracy 0.43555555555555553\n",
            "Epoch 5: train loss 1.3967507017983332, accuracy 0.4533333333333333\n",
            "Epoch 5: train loss 1.3530786964628432, accuracy 0.5044444444444445\n"
          ]
        },
        {
          "name": "stderr",
          "output_type": "stream",
          "text": [
            "INFO flower 2023-01-02 13:10:59,533 | server.py:116 | fit progress: (30, 1.3758857941627503, {'accuracy': 0.5074}, 538.7369124489996)\n",
            "INFO flower 2023-01-02 13:10:59,534 | server.py:163 | evaluate_round 30: no clients selected, cancel\n",
            "INFO flower 2023-01-02 13:10:59,535 | server.py:144 | FL finished in 538.7381432809998\n",
            "INFO flower 2023-01-02 13:10:59,536 | app.py:180 | app_fit: losses_distributed []\n",
            "INFO flower 2023-01-02 13:10:59,536 | app.py:181 | app_fit: metrics_distributed {}\n",
            "INFO flower 2023-01-02 13:10:59,537 | app.py:182 | app_fit: losses_centralized [(0, 2.30655566573143), (1, 2.1898021697998047), (2, 2.0629611456394197), (3, 2.0181534522771836), (4, 1.9932282614707946), (5, 1.9428342407941819), (6, 1.9086399233341218), (7, 1.937952494621277), (8, 1.7613398510217666), (9, 1.7244032686948776), (10, 1.7422066110372543), (11, 1.696931614279747), (12, 1.6355706119537354), (13, 1.604927464723587), (14, 1.594452024102211), (15, 1.5789094483852386), (16, 1.5227009838819503), (17, 1.5273851621150971), (18, 1.4979898434877397), (19, 1.4835423177480698), (20, 1.4820896822214127), (21, 1.4764712953567505), (22, 1.4415018260478973), (23, 1.4402703523635865), (24, 1.4257594925165176), (25, 1.4134849882125855), (26, 1.40368508040905), (27, 1.4024064886569976), (28, 1.3945075535774232), (29, 1.384690603017807), (30, 1.3758857941627503)]\n",
            "INFO flower 2023-01-02 13:10:59,537 | app.py:183 | app_fit: metrics_centralized {'accuracy': [(0, 0.1), (1, 0.1751), (2, 0.2207), (3, 0.2438), (4, 0.2604), (5, 0.2868), (6, 0.3141), (7, 0.2845), (8, 0.3668), (9, 0.3858), (10, 0.3839), (11, 0.3896), (12, 0.4121), (13, 0.4217), (14, 0.4148), (15, 0.4274), (16, 0.4461), (17, 0.442), (18, 0.4534), (19, 0.4596), (20, 0.4585), (21, 0.4629), (22, 0.4801), (23, 0.4813), (24, 0.486), (25, 0.4913), (26, 0.4968), (27, 0.4951), (28, 0.4975), (29, 0.5065), (30, 0.5074)]}\n"
          ]
        },
        {
          "name": "stdout",
          "output_type": "stream",
          "text": [
            "Server-side evaluation loss 1.3758857941627503 / accuracy 0.5074\n"
          ]
        }
      ],
      "source": [
        "strategy = fl.server.strategy.FedAvg(\n",
        "    fraction_fit=FRACTION_FIT,              # Train on 10 clients (each round)\n",
        "    fraction_evaluate=FRACTION_EVAL,        # Evaluate on 50 clients (each round)\n",
        "    min_fit_clients=int(NUM_CLIENTS * FRACTION_FIT),\n",
        "    min_evaluate_clients=int(NUM_CLIENTS * FRACTION_EVAL),\n",
        "    min_available_clients=NUM_CLIENTS,\n",
        "    initial_parameters=initial_parameters,  # Pass the initial parameters\n",
        "    on_fit_config_fn=fit_config,            # Pass the fit_config function\n",
        "    evaluate_fn=evaluate,                   # Pass the evaluation function\n",
        ")\n",
        "\n",
        "history = start_simulation(\n",
        "    strategy=strategy,\n",
        "    client_fn=client_fn,\n",
        "    num_clients=NUM_CLIENTS,\n",
        "    config=fl.server.ServerConfig(num_rounds=NUM_ROUNDS),\n",
        ")"
      ]
    },
    {
      "cell_type": "code",
      "execution_count": 21,
      "metadata": {
        "colab": {
          "base_uri": "https://localhost:8080/",
          "height": 282
        },
        "id": "iZLAeVlRk_gv",
        "outputId": "51c46718-07bf-4bf0-9444-97b66f6e8630"
      },
      "outputs": [
        {
          "data": {
            "text/plain": [
              "[<matplotlib.lines.Line2D at 0x7f7b5cf49cc0>]"
            ]
          },
          "execution_count": 21,
          "metadata": {},
          "output_type": "execute_result"
        },
        {
          "data": {
            "image/png": "[encoded data removed]",
            "text/plain": [
              "<Figure size 640x480 with 1 Axes>"
            ]
          },
          "metadata": {},
          "output_type": "display_data"
        }
      ],
      "source": [
        "plt.plot([v for _, v in history.losses_centralized])"
      ]
    },
    {
      "cell_type": "code",
      "execution_count": 22,
      "metadata": {
        "colab": {
          "base_uri": "https://localhost:8080/",
          "height": 282
        },
        "id": "uwmF_IKBQLg6",
        "outputId": "d7984e96-eaad-4113-cba5-f730519e5c5c"
      },
      "outputs": [
        {
          "data": {
            "text/plain": [
              "[<matplotlib.lines.Line2D at 0x7f7b5d6d1330>]"
            ]
          },
          "execution_count": 22,
          "metadata": {},
          "output_type": "execute_result"
        },
        {
          "data": {
            "image/png": "[encoded data removed]",
            "text/plain": [
              "<Figure size 640x480 with 1 Axes>"
            ]
          },
          "metadata": {},
          "output_type": "display_data"
        }
      ],
      "source": [
        "plt.plot([v for _, v in history.metrics_centralized[\"accuracy\"]])"
      ]
    }
  ],
  "metadata": {
    "colab": {
      "provenance": [],
      "toc_visible": true
    },
    "gpuClass": "standard",
    "kernelspec": {
      "display_name": "venv",
      "language": "python",
      "name": "python3"
    },
    "language_info": {
      "codemirror_mode": {
        "name": "ipython",
        "version": 3
      },
      "file_extension": ".py",
      "mimetype": "text/x-python",
      "name": "python",
      "nbconvert_exporter": "python",
      "pygments_lexer": "ipython3",
      "version": "3.10.6"
    },
    "vscode": {
      "interpreter": {
        "hash": "f4e66fa4acf8f75cb7e5bf746b87cb26119baafbc935380f682e62cbdd8df510"
      }
    }
  },
  "nbformat": 4,
  "nbformat_minor": 0
}
