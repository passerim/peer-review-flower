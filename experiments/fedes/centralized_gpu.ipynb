{
  "nbformat": 4,
  "nbformat_minor": 0,
  "metadata": {
    "colab": {
      "name": "centralized_gpu.ipynb",
      "provenance": [],
      "collapsed_sections": []
    },
    "kernelspec": {
      "name": "python3",
      "display_name": "Python 3"
    },
    "language_info": {
      "name": "python"
    },
    "accelerator": "GPU",
    "gpuClass": "standard"
  },
  "cells": [
    {
      "cell_type": "code",
      "source": [
        "!pip install flwr[\"simulation\"]==0.19"
      ],
      "metadata": {
        "id": "E6yKebjODOWn"
      },
      "execution_count": null,
      "outputs": []
    },
    {
      "cell_type": "code",
      "execution_count": null,
      "metadata": {
        "id": "Y8337QRoCPeT"
      },
      "outputs": [],
      "source": [
        "from collections import OrderedDict\n",
        "from typing import Dict, List, Optional, Tuple\n",
        "\n",
        "import flwr as fl\n",
        "import matplotlib.pyplot as plt\n",
        "import numpy as np\n",
        "import torch\n",
        "import torch.nn as nn\n",
        "import torch.nn.functional as F\n",
        "import torchvision.transforms as transforms\n",
        "from torch import optim\n",
        "from torch.utils.data import DataLoader, random_split, Subset\n",
        "from torchvision import datasets\n",
        "from torchvision.utils import make_grid\n",
        "\n",
        "import os\n",
        "import random\n",
        "import importlib\n",
        "importlib.import_module(\".common\", \"flwr.dataset.utils\")"
      ]
    },
    {
      "cell_type": "code",
      "source": [
        "def set_seed(seed: int):\n",
        "    random.seed(seed)\n",
        "    np.random.seed(seed)\n",
        "    torch.manual_seed(seed)\n",
        "    torch.cuda.manual_seed_all(seed)\n"
      ],
      "metadata": {
        "id": "7s5rLJIGDRYc"
      },
      "execution_count": null,
      "outputs": []
    },
    {
      "cell_type": "code",
      "source": [
        "# Setting random seed for reproducibility\n",
        "SEED = 123\n",
        "set_seed(SEED)\n",
        "\n",
        "# Experimental settings\n",
        "DATASET = \"CIFAR10\"  # possible values: \"CIFAR10\" or \"CIFAR100\"\n",
        "NUM_EPOCHS = 50\n",
        "BATCH_SIZE = 128\n",
        "LEARNING_RATE = 0.1\n",
        "LR_GAMMA = 0.1\n",
        "\n",
        "# Device to use for training and evaluation\n",
        "DEVICE = torch.device(\"cuda:0\" if torch.cuda.is_available() else \"cpu\")\n",
        "print(f\"Training on {DEVICE}\")"
      ],
      "metadata": {
        "id": "CWmnLML1DT1w"
      },
      "execution_count": null,
      "outputs": []
    },
    {
      "cell_type": "code",
      "source": [
        "def load_datasets(\n",
        "    num_clients: int, \n",
        "    dataset: str = \"CIFAR10\",\n",
        "    src: str = \".\",\n",
        "    iid: bool = True,\n",
        "    concentration: float = 1,\n",
        "    use_augmentation: bool = False\n",
        ") -> Tuple[List[DataLoader], List[DataLoader], DataLoader]:\n",
        "    if dataset not in [\"CIFAR10\", \"CIFAR100\"]:\n",
        "        raise ValueError(\n",
        "            \"Unknown dataset! Admissible values are: 'CIFAR10' or 'CIFAR100'.\"\n",
        "        )\n",
        "\n",
        "    # Download and transform CIFAR dataset (train and test)\n",
        "    augmentation = [\n",
        "        transforms.Pad(4),\n",
        "        transforms.RandomHorizontalFlip(),\n",
        "        transforms.RandomCrop(32),\n",
        "    ] if use_augmentation else []\n",
        "    transform = [\n",
        "        transforms.ToTensor(),\n",
        "        transforms.Normalize((0.5, 0.5, 0.5), (0.5, 0.5, 0.5)),\n",
        "    ]\n",
        "    trainset = getattr(datasets, dataset)(\n",
        "        os.path.join(src, \"./data\"),\n",
        "        train=True,\n",
        "        download=True,\n",
        "        transform=transforms.Compose([*augmentation, *transform]),\n",
        "    )\n",
        "    testset = getattr(datasets, dataset)(\n",
        "        os.path.join(src, \"./data\"),\n",
        "        train=False,\n",
        "        download=True,\n",
        "        transform=transforms.Compose([*transform]),\n",
        "    )\n",
        "\n",
        "    # Split training set into `num_clients` partitions to simulate different local datasets\n",
        "    if not iid:\n",
        "        targets = np.array(trainset.targets)\n",
        "        idxs = np.array(range(len(targets)))\n",
        "        dataset = [idxs, targets]\n",
        "        train_partitions, _ = fl.dataset.utils.common.create_lda_partitions(\n",
        "            dataset,\n",
        "            num_partitions=num_clients,\n",
        "            concentration=concentration,\n",
        "            accept_imbalanced=False,\n",
        "        )\n",
        "        subsets = list(map(lambda p: Subset(trainset, p[0]), train_partitions))\n",
        "    else:\n",
        "        partition_size = len(trainset) // num_clients\n",
        "        lengths = [partition_size] * num_clients\n",
        "        subsets = random_split(trainset, lengths, torch.Generator().manual_seed(42))\n",
        "\n",
        "    # Split each partition into train/val and create DataLoader\n",
        "    trainloaders = []\n",
        "    valloaders = []\n",
        "    for ds in subsets:\n",
        "        len_val = len(ds) // 10  # 10 % validation set\n",
        "        len_train = len(ds) - len_val\n",
        "        lengths = [len_train, len_val]\n",
        "        ds_train, ds_val = random_split(ds, lengths, torch.Generator().manual_seed(42))\n",
        "        trainloaders.append(DataLoader(ds_train, batch_size=BATCH_SIZE, shuffle=True))\n",
        "        valloaders.append(DataLoader(ds_val, batch_size=BATCH_SIZE))\n",
        "    testloader = DataLoader(testset, batch_size=BATCH_SIZE)\n",
        "    return trainloaders, valloaders, testloader\n"
      ],
      "metadata": {
        "id": "hdAy10PUDg3K"
      },
      "execution_count": null,
      "outputs": []
    },
    {
      "cell_type": "code",
      "source": [
        "class Net(nn.Module):\n",
        "    def __init__(self, num_classes: int) -> None:\n",
        "        super(Net, self).__init__()\n",
        "        self.conv1 = nn.Conv2d(3, 32, kernel_size=3, padding=1)\n",
        "        self.conv2 = nn.Conv2d(32, 32, kernel_size=3, padding=1)\n",
        "        self.conv3 = nn.Conv2d(32, 32, kernel_size=3, padding=1)\n",
        "        self.pool = nn.MaxPool2d(2, 2)\n",
        "        self.fc1 = nn.Linear(512, 64)\n",
        "        self.fc2 = nn.Linear(64, num_classes)\n",
        "\n",
        "    def forward(self, x: torch.Tensor) -> torch.Tensor:\n",
        "        x = self.pool(F.relu(self.conv1(x)))\n",
        "        x = self.pool(F.relu(self.conv2(x)))\n",
        "        x = self.pool(F.relu(self.conv3(x)))\n",
        "        x = x.view(-1, 512)\n",
        "        x = F.relu(self.fc1(x))\n",
        "        x = self.fc2(x)\n",
        "        return x\n",
        "\n",
        "\n",
        "def get_parameters(net) -> List[np.ndarray]:\n",
        "    return [val.cpu().numpy() for _, val in net.state_dict().items()]\n",
        "\n",
        "\n",
        "def set_parameters(net, parameters: List[np.ndarray]):\n",
        "    params_dict = zip(net.state_dict().keys(), parameters)\n",
        "    state_dict = OrderedDict({k: torch.Tensor(v) for k, v in params_dict})\n",
        "    net.load_state_dict(state_dict, strict=True)\n",
        "\n",
        "\n",
        "def train(net, trainloader, epochs: int, optimizer: optim.Optimizer = None):\n",
        "    \"\"\"Train the network on the training set.\"\"\"\n",
        "    criterion = torch.nn.CrossEntropyLoss()\n",
        "    if optimizer is None:\n",
        "        optimizer = torch.optim.Adam(net.parameters())\n",
        "    net.train()\n",
        "    for epoch in range(epochs):\n",
        "        correct, total, epoch_loss = 0, 0, 0.0\n",
        "        for images, labels in trainloader:\n",
        "            images, labels = images.to(DEVICE), labels.to(DEVICE)\n",
        "            optimizer.zero_grad()\n",
        "            outputs = net(images)\n",
        "            loss = criterion(net(images), labels)\n",
        "            loss.backward()\n",
        "            optimizer.step()\n",
        "            # Metrics\n",
        "            epoch_loss += loss.item() * labels.size(0)\n",
        "            total += labels.size(0)\n",
        "            correct += (torch.max(outputs.data, 1)[1] == labels).sum().item()\n",
        "        epoch_loss /= total\n",
        "        epoch_acc = correct / total\n",
        "\n",
        "\n",
        "def test(net: nn.Module, testloader: DataLoader):\n",
        "    \"\"\"Evaluate the network on the entire test set.\"\"\"\n",
        "    criterion = torch.nn.CrossEntropyLoss()\n",
        "    correct, total, loss = 0, 0, 0.0\n",
        "    net.eval()\n",
        "    with torch.no_grad():\n",
        "        for images, labels in testloader:\n",
        "            images, labels = images.to(DEVICE), labels.to(DEVICE)\n",
        "            outputs = net(images)\n",
        "            loss += criterion(outputs, labels).item() * labels.size(0)\n",
        "            _, predicted = torch.max(outputs.data, 1)\n",
        "            total += labels.size(0)\n",
        "            correct += (predicted == labels).sum().item()\n",
        "    loss /= total\n",
        "    accuracy = correct / total\n",
        "    return loss, accuracy\n"
      ],
      "metadata": {
        "id": "IZu3Ckn5Dh7i"
      },
      "execution_count": null,
      "outputs": []
    },
    {
      "cell_type": "code",
      "source": [
        "# Load data\n",
        "trainloaders, valloaders, testloader = load_datasets(1, DATASET)\n",
        "NUM_CLASSES = len(np.unique(testloader.dataset.targets))\n",
        "\n",
        "# Create an instance of the model\n",
        "net = Net(NUM_CLASSES).to(DEVICE)\n",
        "with torch.no_grad():\n",
        "    assert net(torch.randn((3, 32, 32), device=DEVICE)).shape == torch.Size([1, NUM_CLASSES])\n",
        "\n",
        "# Create optimizer\n",
        "optimizer = optim.SGD(net.parameters(), lr=LEARNING_RATE, momentum=0.9)\n",
        "scheduler = optim.lr_scheduler.ReduceLROnPlateau(optimizer, patience=5, factor=LR_GAMMA)\n",
        "\n",
        "# Print some stats about the model and the data\n",
        "print(\"Model parameters:\", sum(p.numel() for p in net.parameters() if p.requires_grad))\n",
        "print(\"Client's trainset size:\", len(trainloaders[0].dataset))\n",
        "print(\"Client's validation set size:\", len(valloaders[0].dataset))\n",
        "print(\"Server's testset size:\", len(testloader.dataset))"
      ],
      "metadata": {
        "id": "2txniIytDh3P"
      },
      "execution_count": null,
      "outputs": []
    },
    {
      "cell_type": "code",
      "source": [
        "def imshow(img):\n",
        "    img = img / 2 + 0.5  # unnormalize\n",
        "    plt.imshow(np.transpose(img.numpy(), (1, 2, 0)))\n",
        "    plt.show()\n",
        "\n",
        "\n",
        "CLASSES = ('plane', 'car', 'bird', 'cat', 'deer', 'dog', 'frog', 'horse', 'ship', 'truck')\n",
        "images, labels = iter(trainloaders[0]).next()\n",
        "imshow(make_grid(images[:32]))\n",
        "print(' '.join('%5s' % CLASSES[labels[j]] + (\"\\n\" if (j + 1) % 8 == 0 else \"\") for j in range(32)))"
      ],
      "metadata": {
        "id": "ze2kyxLRDt9_"
      },
      "execution_count": null,
      "outputs": []
    },
    {
      "cell_type": "code",
      "source": [
        "trainloader = trainloaders[0]\n",
        "valloader = valloaders[0]\n",
        "\n",
        "for epoch in range(NUM_EPOCHS):\n",
        "    train(net, trainloader, 1, optimizer)\n",
        "    loss, accuracy = test(net, valloader)\n",
        "    lr = optimizer.param_groups[0]['lr']\n",
        "    print(f\"Epoch {epoch+1}: validation loss {loss}, accuracy {accuracy}, lr {lr}\")\n",
        "    scheduler.step(loss)\n",
        "    if optimizer.param_groups[0]['lr'] < 1e-05:\n",
        "        break\n",
        "\n",
        "loss, accuracy = test(net, testloader)\n",
        "print(f\"Final test set performance:\\n\\tloss {loss}\\n\\taccuracy {accuracy}\")"
      ],
      "metadata": {
        "id": "0D42oz_VD7pn"
      },
      "execution_count": null,
      "outputs": []
    }
  ]
}