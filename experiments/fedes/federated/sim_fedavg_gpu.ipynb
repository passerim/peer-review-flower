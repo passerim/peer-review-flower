{
  "cells": [
    {
      "cell_type": "code",
      "execution_count": null,
      "metadata": {
        "id": "UY9WC9uK116F"
      },
      "outputs": [],
      "source": [
        "!pip install flwr[\"simulation\"]==0.19"
      ]
    },
    {
      "cell_type": "code",
      "execution_count": 2,
      "metadata": {
        "id": "eTrCL2FmC5U5",
        "colab": {
          "base_uri": "https://localhost:8080/"
        },
        "outputId": "939ed4cb-4c86-49d3-8e0b-fb45e55f756b"
      },
      "outputs": [
        {
          "output_type": "execute_result",
          "data": {
            "text/plain": [
              "<module 'flwr.dataset.utils.common' from '/usr/local/lib/python3.7/dist-packages/flwr/dataset/utils/common.py'>"
            ]
          },
          "metadata": {},
          "execution_count": 2
        }
      ],
      "source": [
        "from collections import OrderedDict\n",
        "import importlib\n",
        "import random\n",
        "from typing import Dict, List, Optional, Tuple\n",
        "\n",
        "import flwr as fl\n",
        "import numpy as np\n",
        "import torch\n",
        "import torch.nn as nn\n",
        "import torchvision\n",
        "import torch.nn.functional as F\n",
        "import torchvision.transforms as transforms\n",
        "from torch.utils.data import DataLoader, random_split, Subset\n",
        "from torchvision import datasets\n",
        "\n",
        "importlib.import_module(\".common\", \"flwr.dataset.utils\")"
      ]
    },
    {
      "cell_type": "code",
      "source": [
        "DATASET = \"CIFAR10\"  # possible values: \"CIFAR10\" or \"CIFAR100\"\n",
        "NUM_CLIENTS = 50\n",
        "NUM_ROUNDS = 10\n",
        "LOCAL_EPOCHS = 2\n",
        "BATCH_SIZE = 128\n",
        "LR = 0.1\n",
        "MILESTONES = [60, 120, 160]\n",
        "LR_DECAY = 0.2\n",
        "W_DECAY = 5e-04\n",
        "FRACTION_FIT = 1/3\n",
        "FRACTION_EVAL = 0\n",
        "SEED = 0\n",
        "# Set the start method for multiprocessing in case Python version is under 3.8.1\n",
        "DEVICE = \"cuda\" if torch.cuda.is_available() else \"cpu\"\n",
        "print(f\"Training on {DEVICE}\")"
      ],
      "metadata": {
        "colab": {
          "base_uri": "https://localhost:8080/"
        },
        "id": "i4bKI8oK2Ubx",
        "outputId": "839690a3-d10d-40ca-8908-aebd973448a4"
      },
      "execution_count": 3,
      "outputs": [
        {
          "output_type": "stream",
          "name": "stdout",
          "text": [
            "Training on cuda\n"
          ]
        }
      ]
    },
    {
      "cell_type": "code",
      "source": [
        "def set_seed(seed: int):\n",
        "    random.seed(seed)\n",
        "    np.random.seed(seed)\n",
        "    torch.manual_seed(seed)\n",
        "    torch.cuda.manual_seed_all(seed)"
      ],
      "metadata": {
        "id": "BpLBow6s-CNy"
      },
      "execution_count": 4,
      "outputs": []
    },
    {
      "cell_type": "code",
      "execution_count": 5,
      "metadata": {
        "id": "J4Em7BPNTXeX"
      },
      "outputs": [],
      "source": [
        "def load_datasets(num_clients: int, dataset: str = \"CIFAR10\"):\n",
        "    if dataset not in [\"CIFAR10\", \"CIFAR100\"]:\n",
        "        raise ValueError(\"Unknown dataset! Admissible values are: 'CIFAR10' or 'CIFAR100'.\")\n",
        "    # Download and transform CIFAR dataset (train and test)\n",
        "    augmentation = [transforms.Pad(4), transforms.RandomHorizontalFlip(), transforms.RandomCrop(32)]\n",
        "    transform = [transforms.ToTensor(), transforms.Normalize((0.5, 0.5, 0.5), (0.5, 0.5, 0.5))]\n",
        "    trainset = getattr(datasets, dataset)(\"./dataset\", train=True, download=True, transform=transforms.Compose([*augmentation, *transform]))\n",
        "    testset = getattr(datasets, dataset)(\"./dataset\", train=False, download=True, transform=transforms.Compose(transform))\n",
        "\n",
        "    # Split training set into `num_clients` partitions to simulate different local datasets\n",
        "    targets = np.array(trainset.targets)\n",
        "    idxs = np.array(range(len(targets)))\n",
        "    dataset = [idxs, targets]\n",
        "    train_partitions, _ = fl.dataset.utils.common.create_lda_partitions(\n",
        "        dataset, num_partitions=NUM_CLIENTS, concentration=1/3, accept_imbalanced=False\n",
        "    )\n",
        "\n",
        "    # Split each partition into train/val and create DataLoader\n",
        "    trainloaders = []\n",
        "    valloaders = []\n",
        "    for ds in map(lambda p: Subset(trainset, p[0]), train_partitions):\n",
        "        len_val = len(ds) // 10  # 10 % validation set\n",
        "        len_train = len(ds) - len_val\n",
        "        lengths = [len_train, len_val]\n",
        "        ds_train, ds_val = random_split(ds, lengths, torch.Generator())\n",
        "        trainloaders.append(DataLoader(ds_train, batch_size=BATCH_SIZE, shuffle=True))\n",
        "        valloaders.append(DataLoader(ds_val, batch_size=BATCH_SIZE))\n",
        "    testloader = DataLoader(testset, batch_size=BATCH_SIZE)\n",
        "    return trainloaders, valloaders, testloader "
      ]
    },
    {
      "cell_type": "code",
      "execution_count": 6,
      "metadata": {
        "id": "2X3cVBXMpP6w"
      },
      "outputs": [],
      "source": [
        "class Net(nn.Module):\n",
        "    def __init__(self, num_classes: int) -> None:\n",
        "        super(Net, self).__init__()\n",
        "        self.conv1 = nn.Conv2d(3, 6, 5)\n",
        "        self.pool = nn.MaxPool2d(2, 2)\n",
        "        self.conv2 = nn.Conv2d(6, 16, 5)\n",
        "        self.fc1 = nn.Linear(16 * 5 * 5, 120)\n",
        "        self.fc2 = nn.Linear(120, 84)\n",
        "        self.fc3 = nn.Linear(84, num_classes)\n",
        "\n",
        "    def forward(self, x: torch.Tensor) -> torch.Tensor:\n",
        "        x = self.pool(F.relu(self.conv1(x)))\n",
        "        x = self.pool(F.relu(self.conv2(x)))\n",
        "        x = x.view(-1, 16 * 5 * 5)\n",
        "        x = F.relu(self.fc1(x))\n",
        "        x = F.relu(self.fc2(x))\n",
        "        x = self.fc3(x)\n",
        "        return x\n",
        "\n",
        "\n",
        "def get_parameters(net) -> List[np.ndarray]:\n",
        "    return [val.cpu().numpy() for _, val in net.state_dict().items()]\n",
        "\n",
        "\n",
        "def set_parameters(net, parameters: List[np.ndarray]):\n",
        "    params_dict = zip(net.state_dict().keys(), parameters)\n",
        "    state_dict = OrderedDict({k: torch.Tensor(v) for k, v in params_dict})\n",
        "    net.load_state_dict(state_dict, strict=True)\n",
        "\n",
        "\n",
        "def train(net, trainloader, epochs: int, lr: float = 0.1):\n",
        "    \"\"\"Train the network on the training set.\"\"\"\n",
        "    criterion = torch.nn.CrossEntropyLoss().to(DEVICE)\n",
        "    optimizer = torch.optim.SGD(net.parameters(), lr=lr, momentum=0.9, weight_decay=5e-4)\n",
        "    net.train()\n",
        "    for epoch in range(epochs):\n",
        "        correct, total, epoch_loss = 0, 0, 0.0\n",
        "        for images, labels in trainloader:\n",
        "            images, labels = images.to(DEVICE), labels.to(DEVICE)\n",
        "            optimizer.zero_grad()\n",
        "            outputs = net(images)\n",
        "            loss = criterion(net(images), labels)\n",
        "            loss.backward()\n",
        "            optimizer.step()\n",
        "            # Metrics\n",
        "            epoch_loss += loss.item() * labels.size(0)\n",
        "            total += labels.size(0)\n",
        "            correct += (torch.max(outputs.data, 1)[1] == labels).sum().item()\n",
        "        epoch_loss /= len(trainloader.dataset)\n",
        "        epoch_acc = correct / total\n",
        "        print(f\"Epoch {epoch+1}: train loss {epoch_loss}, accuracy {epoch_acc}\")\n",
        "\n",
        "\n",
        "def test(net: nn.Module, testloader: DataLoader, return_dict = None):\n",
        "    \"\"\"Evaluate the network on the entire test set.\"\"\"\n",
        "    criterion = torch.nn.CrossEntropyLoss().to(DEVICE)\n",
        "    correct, total, loss = 0, 0, 0.0\n",
        "    net.eval()\n",
        "    with torch.no_grad():\n",
        "        for images, labels in testloader:\n",
        "            images, labels = images.to(DEVICE), labels.to(DEVICE)\n",
        "            outputs = net(images)\n",
        "            loss += criterion(outputs, labels).item() * labels.size(0)\n",
        "            _, predicted = torch.max(outputs.data, 1)\n",
        "            total += labels.size(0)\n",
        "            correct += (predicted == labels).sum().item()\n",
        "    loss /= len(testloader.dataset)\n",
        "    accuracy = correct / total\n",
        "    return loss, accuracy"
      ]
    },
    {
      "cell_type": "code",
      "execution_count": 7,
      "metadata": {
        "id": "ZH3f2rt7h-Ih"
      },
      "outputs": [],
      "source": [
        "class FlowerClient(fl.client.NumPyClient):\n",
        "    def __init__(self, cid, net, trainloader, valloader):\n",
        "        self.cid = cid\n",
        "        self.net = net.to(DEVICE)\n",
        "        self.trainloader = trainloader\n",
        "        self.valloader = valloader\n",
        "\n",
        "    def get_parameters(self):\n",
        "        print(f\"[Client {self.cid}] get_parameters\")\n",
        "        return get_parameters(self.net)\n",
        "\n",
        "    def fit(self, parameters, config):\n",
        "        # Read values from config\n",
        "        current_round = config[\"current_round\"]\n",
        "        local_epochs = config[\"local_epochs\"]\n",
        "        lr = config[\"lr\"]\n",
        "        # Use values provided by the config\n",
        "        print(f\"[Client {self.cid}, round {current_round}] fit, config: {config}\")\n",
        "        set_parameters(self.net, parameters)\n",
        "        train(self.net, self.trainloader, local_epochs)\n",
        "        return get_parameters(self.net), len(self.trainloader), {}\n",
        "\n",
        "    def evaluate(self, parameters, config):\n",
        "        print(f\"[Client {self.cid}] evaluate, config: {config}\")\n",
        "        set_parameters(self.net, parameters)\n",
        "        loss, accuracy = test(self.net, self.valloader)\n",
        "        return float(loss), len(self.valloader), {\"accuracy\": float(accuracy)}"
      ]
    },
    {
      "cell_type": "code",
      "execution_count": 8,
      "metadata": {
        "id": "GPeFWwyFrY9f",
        "colab": {
          "base_uri": "https://localhost:8080/"
        },
        "outputId": "70fec6d8-5ea9-4722-b57c-1491b9a8889a"
      },
      "outputs": [
        {
          "output_type": "stream",
          "name": "stdout",
          "text": [
            "Files already downloaded and verified\n",
            "Files already downloaded and verified\n",
            "62006\n"
          ]
        }
      ],
      "source": [
        "set_seed(SEED)\n",
        "\n",
        "# Load data\n",
        "trainloaders, valloaders, testloader = load_datasets(NUM_CLIENTS, DATASET)\n",
        "NUM_CLASSES = len(np.unique(testloader.dataset.targets))\n",
        "\n",
        "# Create an instance of the model and get the parameters\n",
        "net = Net(NUM_CLASSES).to(DEVICE)\n",
        "params = get_parameters(net)\n",
        "print(sum(p.numel() for p in net.parameters() if p.requires_grad))"
      ]
    },
    {
      "cell_type": "code",
      "execution_count": 9,
      "metadata": {
        "id": "zVTrw7OsttE7",
        "colab": {
          "base_uri": "https://localhost:8080/"
        },
        "outputId": "4a91290f-177e-4b9d-82a1-dee0e58df6c8"
      },
      "outputs": [
        {
          "output_type": "stream",
          "name": "stderr",
          "text": [
            "INFO flower 2022-06-01 14:17:03,529 | app.py:158 | Ray initialized with resources: {'accelerator_type:T4': 1.0, 'node:172.28.0.2': 1.0, 'memory': 5701926912.0, 'GPU': 1.0, 'CPU': 2.0, 'object_store_memory': 2850963456.0}\n",
            "INFO flower 2022-06-01 14:17:03,535 | app.py:174 | Starting Flower simulation running: Config(num_rounds=10, round_timeout=None)\n",
            "INFO flower 2022-06-01 14:17:03,539 | server.py:84 | Initializing global parameters\n",
            "INFO flower 2022-06-01 14:17:03,543 | server.py:252 | Using initial parameters provided by strategy\n",
            "INFO flower 2022-06-01 14:17:03,547 | server.py:86 | Evaluating initial parameters\n",
            "INFO flower 2022-06-01 14:17:06,235 | server.py:93 | initial parameters (loss, other metrics): 2.3050458755493164, {'accuracy': 0.1011}\n",
            "INFO flower 2022-06-01 14:17:06,237 | server.py:99 | FL starting\n",
            "DEBUG flower 2022-06-01 14:17:06,241 | server.py:207 | fit_round: strategy sampled 16 clients (out of 50)\n",
            "2022-06-01 14:17:13,484\tWARNING worker.py:528 -- `ray.get_gpu_ids()` will always return the empty list when called from the driver. This is because Ray does not manage GPU allocations to the driver process.\n",
            ":task_name:launch_and_fit\n"
          ]
        },
        {
          "output_type": "stream",
          "name": "stdout",
          "text": [
            ":task_name:launch_and_fit\n"
          ]
        },
        {
          "output_type": "stream",
          "name": "stderr",
          "text": [
            ":task_name:launch_and_fit\n",
            ":task_name:launch_and_fit\n",
            ":task_name:launch_and_fit\n",
            ":task_name:launch_and_fit\n",
            ":task_name:launch_and_fit\n",
            ":task_name:launch_and_fit\n",
            ":task_name:launch_and_fit\n",
            ":task_name:launch_and_fit\n",
            ":task_name:launch_and_fit\n"
          ]
        },
        {
          "output_type": "stream",
          "name": "stdout",
          "text": [
            ":task_name:launch_and_fit\n",
            ":task_name:launch_and_fit\n",
            ":task_name:launch_and_fit\n",
            ":task_name:launch_and_fit\n",
            ":task_name:launch_and_fit\n",
            ":task_name:launch_and_fit\n",
            ":task_name:launch_and_fit\n",
            ":task_name:launch_and_fit\n",
            "[Client 34, round 1] fit, config: {'current_round': 1, 'local_epochs': 1, 'lr': 0.1}\n",
            "[Client 36, round 1] fit, config: {'current_round': 1, 'local_epochs': 1, 'lr': 0.1}:task_name:launch_and_fit\n",
            "\n",
            "[Client 20, round 1] fit, config: {'current_round': 1, 'local_epochs': 1, 'lr': 0.1}\n",
            "[Client 15, round 1] fit, config: {'current_round': 1, 'local_epochs': 1, 'lr': 0.1}\n",
            "[Client 43, round 1] fit, config: {'current_round': 1, 'local_epochs': 1, 'lr': 0.1}\n",
            "[Client 5, round 1] fit, config: {'current_round': 1, 'local_epochs': 1, 'lr': 0.1}\n",
            "[Client 28, round 1] fit, config: {'current_round': 1, 'local_epochs': 1, 'lr': 0.1}\n",
            "[Client 32, round 1] fit, config: {'current_round': 1, 'local_epochs': 1, 'lr': 0.1}\n",
            "[Client 9, round 1] fit, config: {'current_round': 1, 'local_epochs': 1, 'lr': 0.1}\n",
            "[Client 14, round 1] fit, config: {'current_round': 1, 'local_epochs': 1, 'lr': 0.1}\n",
            "Epoch 1: train loss 1.9251053524017334, accuracy 0.5677777777777778\n",
            "Epoch 1: train loss 2.0473754496044583, accuracy 0.4122222222222222\n",
            "Epoch 1: train loss 2.1236968919965955, accuracy 0.2722222222222222\n",
            ":task_name:launch_and_fit\n",
            ":task_name:launch_and_fit\n"
          ]
        },
        {
          "output_type": "stream",
          "name": "stderr",
          "text": [
            ":task_name:launch_and_fit\n",
            ":task_name:launch_and_fit\n"
          ]
        },
        {
          "output_type": "stream",
          "name": "stdout",
          "text": [
            "Epoch 1: train loss 2.1405544726053876, accuracy 0.22777777777777777\n",
            "Epoch 1: train loss 1.989748984442817, accuracy 0.5433333333333333\n",
            "Epoch 1: train loss 2.1526405758327907, accuracy 0.3277777777777778\n",
            ":task_name:launch_and_fit\n"
          ]
        },
        {
          "output_type": "stream",
          "name": "stderr",
          "text": [
            ":task_name:launch_and_fit\n"
          ]
        },
        {
          "output_type": "stream",
          "name": "stdout",
          "text": [
            "Epoch 1: train loss 2.2186270586649575, accuracy 0.21Epoch 1: train loss 1.9615927183628081, accuracy 0.43333333333333335\n",
            "\n",
            "[Client 6, round 1] fit, config: {'current_round': 1, 'local_epochs': 1, 'lr': 0.1}[Client 31, round 1] fit, config: {'current_round': 1, 'local_epochs': 1, 'lr': 0.1}\n",
            "\n",
            ":task_name:launch_and_fit\n",
            ":task_name:launch_and_fit\n",
            "[Client 19, round 1] fit, config: {'current_round': 1, 'local_epochs': 1, 'lr': 0.1}"
          ]
        },
        {
          "output_type": "stream",
          "name": "stderr",
          "text": [
            ":task_name:launch_and_fit\n",
            ":task_name:launch_and_fit\n"
          ]
        },
        {
          "output_type": "stream",
          "name": "stdout",
          "text": [
            "\n",
            ":task_name:launch_and_fit\n",
            "[Client 7, round 1] fit, config: {'current_round': 1, 'local_epochs': 1, 'lr': 0.1}\n",
            "[Client 18, round 1] fit, config: {'current_round': 1, 'local_epochs': 1, 'lr': 0.1}\n",
            "[Client 35, round 1] fit, config: {'current_round': 1, 'local_epochs': 1, 'lr': 0.1}\n",
            "Epoch 1: train loss 1.973051856358846, accuracy 0.47888888888888886\n",
            "Epoch 1: train loss 1.8934302444424893, accuracy 0.5188888888888888\n"
          ]
        },
        {
          "output_type": "stream",
          "name": "stderr",
          "text": [
            ":task_name:launch_and_fit\n",
            "DEBUG flower 2022-06-01 14:17:37,623 | server.py:220 | fit_round received 16 results and 0 failures\n"
          ]
        },
        {
          "output_type": "stream",
          "name": "stdout",
          "text": [
            "Epoch 1: train loss 1.9070585166083442, accuracy 0.3844444444444444\n",
            "Epoch 1: train loss 2.1614586967892118, accuracy 0.33111111111111113\n",
            "Epoch 1: train loss 2.1870889377593996, accuracy 0.21222222222222223\n",
            "Epoch 1: train loss 1.715479146639506, accuracy 0.7811111111111111\n",
            "Epoch 1: train loss 1.9943697431352403, accuracy 0.41444444444444445\n",
            "Epoch 1: train loss 2.210459106233385, accuracy 0.3022222222222222\n"
          ]
        },
        {
          "output_type": "stream",
          "name": "stderr",
          "text": [
            "WARNING flower 2022-06-01 14:17:37,684 | fedavg.py:237 | No fit_metrics_aggregation_fn provided\n",
            "INFO flower 2022-06-01 14:17:39,904 | server.py:120 | fit progress: (1, 2.331439879989624, {'accuracy': 0.0931}, 33.66271446799999)\n",
            "INFO flower 2022-06-01 14:17:39,905 | server.py:155 | evaluate_round: no clients selected, cancel\n",
            "DEBUG flower 2022-06-01 14:17:39,910 | server.py:207 | fit_round: strategy sampled 16 clients (out of 50)\n"
          ]
        },
        {
          "output_type": "stream",
          "name": "stdout",
          "text": [
            ":task_name:launch_and_fit\n",
            ":task_name:launch_and_fit\n"
          ]
        },
        {
          "output_type": "stream",
          "name": "stderr",
          "text": [
            ":task_name:launch_and_fit\n"
          ]
        },
        {
          "output_type": "stream",
          "name": "stdout",
          "text": [
            ":task_name:launch_and_fit\n"
          ]
        },
        {
          "output_type": "stream",
          "name": "stderr",
          "text": [
            ":task_name:launch_and_fit\n",
            ":task_name:launch_and_fit\n"
          ]
        },
        {
          "output_type": "stream",
          "name": "stdout",
          "text": [
            "[Client 35, round 2] fit, config: {'current_round': 2, 'local_epochs': 2, 'lr': 0.1}\n",
            "[Client 34, round 2] fit, config: {'current_round': 2, 'local_epochs': 2, 'lr': 0.1}\n",
            "[Client 21, round 2] fit, config: {'current_round': 2, 'local_epochs': 2, 'lr': 0.1}\n",
            ":task_name:launch_and_fit\n",
            ":task_name:launch_and_fit\n",
            ":task_name:launch_and_fit\n"
          ]
        },
        {
          "output_type": "stream",
          "name": "stderr",
          "text": [
            ":task_name:launch_and_fit\n",
            ":task_name:launch_and_fit\n"
          ]
        },
        {
          "output_type": "stream",
          "name": "stdout",
          "text": [
            "[Client 13, round 2] fit, config: {'current_round': 2, 'local_epochs': 2, 'lr': 0.1}\n",
            "[Client 38, round 2] fit, config: {'current_round': 2, 'local_epochs': 2, 'lr': 0.1}\n",
            "[Client 49, round 2] fit, config: {'current_round': 2, 'local_epochs': 2, 'lr': 0.1}\n",
            ":task_name:launch_and_fit\n",
            ":task_name:launch_and_fit\n",
            ":task_name:launch_and_fit\n",
            ":task_name:launch_and_fit\n"
          ]
        },
        {
          "output_type": "stream",
          "name": "stderr",
          "text": [
            ":task_name:launch_and_fit\n",
            ":task_name:launch_and_fit\n",
            ":task_name:launch_and_fit\n",
            ":task_name:launch_and_fit\n",
            ":task_name:launch_and_fit\n"
          ]
        },
        {
          "output_type": "stream",
          "name": "stdout",
          "text": [
            "[Client 18, round 2] fit, config: {'current_round': 2, 'local_epochs': 2, 'lr': 0.1}\n",
            "[Client 28, round 2] fit, config: {'current_round': 2, 'local_epochs': 2, 'lr': 0.1}\n",
            "[Client 37, round 2] fit, config: {'current_round': 2, 'local_epochs': 2, 'lr': 0.1}\n",
            "[Client 5, round 2] fit, config: {'current_round': 2, 'local_epochs': 2, 'lr': 0.1}\n",
            "Epoch 1: train loss 1.5960051918029785, accuracy 0.5811111111111111\n",
            "Epoch 1: train loss 2.0587141937679716, accuracy 0.21444444444444444\n",
            "Epoch 1: train loss 1.6158786010742188, accuracy 0.44\n",
            "Epoch 1: train loss 1.9875515747070311, accuracy 0.25\n",
            "Epoch 1: train loss 2.1467356310950385, accuracy 0.47888888888888886\n",
            "Epoch 1: train loss 2.135023601849874, accuracy 0.1988888888888889\n",
            "Epoch 1: train loss 1.6163230556911892, accuracy 0.5977777777777777\n",
            "Epoch 1: train loss 2.182882082197401, accuracy 0.14444444444444443\n",
            "Epoch 1: train loss 1.6788056087493897, accuracy 0.5244444444444445\n",
            "Epoch 1: train loss 2.081772119734022, accuracy 0.28555555555555556\n",
            "Epoch 2: train loss 1.5180800591574775, accuracy 0.5966666666666667\n",
            "Epoch 2: train loss 1.7165473625395034, accuracy 0.3233333333333333\n",
            "Epoch 2: train loss 1.2596713839636908, accuracy 0.5755555555555556\n",
            ":task_name:launch_and_fit\n",
            ":task_name:launch_and_fit\n",
            ":task_name:launch_and_fit\n",
            "[Client 20, round 2] fit, config: {'current_round': 2, 'local_epochs': 2, 'lr': 0.1}\n",
            "[Client 45, round 2] fit, config: {'current_round': 2, 'local_epochs': 2, 'lr': 0.1}\n",
            "[Client 24, round 2] fit, config: {'current_round': 2, 'local_epochs': 2, 'lr': 0.1}\n"
          ]
        },
        {
          "output_type": "stream",
          "name": "stderr",
          "text": [
            ":task_name:launch_and_fit\n",
            ":task_name:launch_and_fit\n",
            ":task_name:launch_and_fit\n"
          ]
        },
        {
          "output_type": "stream",
          "name": "stdout",
          "text": [
            "Epoch 2: train loss 1.893992805480957, accuracy 0.23222222222222222\n",
            "Epoch 2: train loss 1.1582315837012398, accuracy 0.65\n",
            "Epoch 2: train loss 1.929398684501648, accuracy 0.29555555555555557\n",
            ":task_name:launch_and_fit\n",
            ":task_name:launch_and_fit\n",
            "[Client 36, round 2] fit, config: {'current_round': 2, 'local_epochs': 2, 'lr': 0.1}\n",
            "[Client 15, round 2] fit, config: {'current_round': 2, 'local_epochs': 2, 'lr': 0.1}\n"
          ]
        },
        {
          "output_type": "stream",
          "name": "stderr",
          "text": [
            ":task_name:launch_and_fit\n",
            ":task_name:launch_and_fit\n"
          ]
        },
        {
          "output_type": "stream",
          "name": "stdout",
          "text": [
            "Epoch 2: train loss 1.881393886142307, accuracy 0.20444444444444446\n",
            "Epoch 2: train loss 1.1219396013683742, accuracy 0.6911111111111111\n",
            "Epoch 2: train loss 2.1190085177951388, accuracy 0.22444444444444445\n",
            "Epoch 2: train loss 1.477198337978787, accuracy 0.5277777777777778\n",
            ":task_name:launch_and_fit\n",
            "[Client 42, round 2] fit, config: {'current_round': 2, 'local_epochs': 2, 'lr': 0.1}\n"
          ]
        },
        {
          "output_type": "stream",
          "name": "stderr",
          "text": [
            ":task_name:launch_and_fit\n"
          ]
        },
        {
          "output_type": "stream",
          "name": "stdout",
          "text": [
            "Epoch 1: train loss 2.0094080935584175, accuracy 0.2688888888888889\n",
            "Epoch 1: train loss 1.948574751747979, accuracy 0.31444444444444447\n",
            "Epoch 1: train loss 2.090746751361423, accuracy 0.20777777777777778\n",
            "Epoch 1: train loss 1.7587197695838082, accuracy 0.4766666666666667\n",
            "Epoch 1: train loss 1.6617796421051025, accuracy 0.4411111111111111\n",
            "Epoch 1: train loss 2.0761629178788925, accuracy 0.2866666666666667\n",
            "Epoch 2: train loss 1.6886094612545437, accuracy 0.36777777777777776\n",
            "Epoch 2: train loss 1.7217370986938476, accuracy 0.4022222222222222\n",
            "Epoch 2: train loss 1.8385371896955702, accuracy 0.2811111111111111\n",
            "Epoch 2: train loss 1.4772018898857964, accuracy 0.5433333333333333\n",
            "Epoch 2: train loss 1.2187016126844619, accuracy 0.5688888888888889\n",
            "Epoch 2: train loss 1.7612317339579264, accuracy 0.39555555555555555\n"
          ]
        },
        {
          "output_type": "stream",
          "name": "stderr",
          "text": [
            "DEBUG flower 2022-06-01 14:18:25,197 | server.py:220 | fit_round received 16 results and 0 failures\n",
            "INFO flower 2022-06-01 14:18:27,357 | server.py:120 | fit progress: (2, 2.323782335662842, {'accuracy': 0.1}, 81.11594898800001)\n",
            "INFO flower 2022-06-01 14:18:27,359 | server.py:155 | evaluate_round: no clients selected, cancel\n",
            "DEBUG flower 2022-06-01 14:18:27,364 | server.py:207 | fit_round: strategy sampled 16 clients (out of 50)\n"
          ]
        },
        {
          "output_type": "stream",
          "name": "stdout",
          "text": [
            ":task_name:launch_and_fit\n",
            ":task_name:launch_and_fit\n",
            ":task_name:launch_and_fit\n",
            ":task_name:launch_and_fit\n",
            ":task_name:launch_and_fit\n"
          ]
        },
        {
          "output_type": "stream",
          "name": "stderr",
          "text": [
            ":task_name:launch_and_fit\n",
            ":task_name:launch_and_fit\n",
            ":task_name:launch_and_fit\n",
            ":task_name:launch_and_fit\n",
            ":task_name:launch_and_fit\n"
          ]
        },
        {
          "output_type": "stream",
          "name": "stdout",
          "text": [
            ":task_name:launch_and_fit\n",
            "[Client 39, round 3] fit, config: {'current_round': 3, 'local_epochs': 2, 'lr': 0.1}\n",
            ":task_name:launch_and_fit\n",
            "[Client 12, round 3] fit, config: {'current_round': 3, 'local_epochs': 2, 'lr': 0.1}\n",
            ":task_name:launch_and_fit\n"
          ]
        },
        {
          "output_type": "stream",
          "name": "stderr",
          "text": [
            ":task_name:launch_and_fit\n",
            ":task_name:launch_and_fit\n",
            ":task_name:launch_and_fit\n"
          ]
        },
        {
          "output_type": "stream",
          "name": "stdout",
          "text": [
            "[Client 42, round 3] fit, config: {'current_round': 3, 'local_epochs': 2, 'lr': 0.1}\n",
            "[Client 2, round 3] fit, config: {'current_round': 3, 'local_epochs': 2, 'lr': 0.1}\n",
            "[Client 11, round 3] fit, config: {'current_round': 3, 'local_epochs': 2, 'lr': 0.1}\n",
            "[Client 49, round 3] fit, config: {'current_round': 3, 'local_epochs': 2, 'lr': 0.1}\n",
            "[Client 4, round 3] fit, config: {'current_round': 3, 'local_epochs': 2, 'lr': 0.1}\n",
            "[Client 16, round 3] fit, config: {'current_round': 3, 'local_epochs': 2, 'lr': 0.1}\n",
            ":task_name:launch_and_fit\n",
            ":task_name:launch_and_fit\n"
          ]
        },
        {
          "output_type": "stream",
          "name": "stderr",
          "text": [
            ":task_name:launch_and_fit\n",
            ":task_name:launch_and_fit\n"
          ]
        },
        {
          "output_type": "stream",
          "name": "stdout",
          "text": [
            "[Client 30, round 3] fit, config: {'current_round': 3, 'local_epochs': 2, 'lr': 0.1}\n",
            "[Client 5, round 3] fit, config: {'current_round': 3, 'local_epochs': 2, 'lr': 0.1}\n",
            "Epoch 1: train loss 2.019939702351888, accuracy 0.32555555555555554\n",
            "Epoch 1: train loss 2.278988256454468, accuracy 0.15333333333333332\n",
            "Epoch 1: train loss 2.2007801310221353, accuracy 0.22333333333333333\n",
            "Epoch 1: train loss 1.7346761735280354, accuracy 0.6411111111111111\n",
            "Epoch 1: train loss 2.1136745601230196, accuracy 0.18777777777777777\n",
            "Epoch 1: train loss 2.11790101369222, accuracy 0.31777777777777777\n",
            "Epoch 1: train loss 2.235363957087199, accuracy 0.17777777777777778\n",
            "Epoch 1: train loss 2.0372131782107883, accuracy 0.36444444444444446\n",
            "Epoch 1: train loss 2.1553220219082303, accuracy 0.2866666666666667\n",
            "Epoch 1: train loss 2.09492442978753, accuracy 0.25666666666666665\n",
            "Epoch 2: train loss 1.5568416129218208, accuracy 0.46444444444444444\n",
            "Epoch 2: train loss 1.6389378129111396, accuracy 0.44333333333333336\n",
            "Epoch 2: train loss 0.7998948717117309, accuracy 0.49333333333333335\n",
            ":task_name:launch_and_fit\n",
            "Epoch 2: train loss 1.910431358019511, accuracy 0.2866666666666667\n"
          ]
        },
        {
          "output_type": "stream",
          "name": "stderr",
          "text": [
            ":task_name:launch_and_fit\n"
          ]
        },
        {
          "output_type": "stream",
          "name": "stdout",
          "text": [
            "[Client 9, round 3] fit, config: {'current_round': 3, 'local_epochs': 2, 'lr': 0.1}\n",
            "Epoch 2: train loss 1.313342515097724, accuracy 0.6288888888888889\n",
            "Epoch 2: train loss 1.9578690857357448, accuracy 0.3111111111111111\n"
          ]
        },
        {
          "output_type": "stream",
          "name": "stderr",
          "text": [
            ":task_name:launch_and_fit\n"
          ]
        },
        {
          "output_type": "stream",
          "name": "stdout",
          "text": [
            ":task_name:launch_and_fit\n",
            "[Client 8, round 3] fit, config: {'current_round': 3, 'local_epochs': 2, 'lr': 0.1}\n",
            "Epoch 2: train loss 1.6523095496495566, accuracy 0.4266666666666667\n",
            "Epoch 2: train loss 1.6097316222720677, accuracy 0.4077777777777778\n",
            ":task_name:launch_and_fit\n",
            ":task_name:launch_and_fit\n",
            ":task_name:launch_and_fit\n",
            ":task_name:launch_and_fit\n",
            "[Client 46, round 3] fit, config: {'current_round': 3, 'local_epochs': 2, 'lr': 0.1}\n"
          ]
        },
        {
          "output_type": "stream",
          "name": "stderr",
          "text": [
            ":task_name:launch_and_fit\n",
            ":task_name:launch_and_fit\n",
            ":task_name:launch_and_fit\n",
            ":task_name:launch_and_fit\n"
          ]
        },
        {
          "output_type": "stream",
          "name": "stdout",
          "text": [
            "[Client 25, round 3] fit, config: {'current_round': 3, 'local_epochs': 2, 'lr': 0.1}[Client 40, round 3] fit, config: {'current_round': 3, 'local_epochs': 2, 'lr': 0.1}\n",
            "\n",
            "[Client 34, round 3] fit, config: {'current_round': 3, 'local_epochs': 2, 'lr': 0.1}\n",
            "Epoch 2: train loss 1.5904505825042725, accuracy 0.5355555555555556\n",
            "Epoch 2: train loss 1.5118922445509169, accuracy 0.3422222222222222\n",
            "Epoch 1: train loss 2.080375256008572, accuracy 0.3377777777777778\n",
            "Epoch 1: train loss 2.1999680529700387, accuracy 0.24333333333333335\n",
            "Epoch 1: train loss 2.0624089410569932, accuracy 0.3288888888888889\n",
            "Epoch 1: train loss 2.2043159707387288, accuracy 0.15\n",
            "Epoch 1: train loss 2.1054730961057877, accuracy 0.25666666666666665\n",
            "Epoch 1: train loss 2.2342079914940727, accuracy 0.15777777777777777\n",
            "Epoch 2: train loss 1.3684017589357165, accuracy 0.6066666666666667\n",
            "Epoch 2: train loss 1.7055364735921223, accuracy 0.42777777777777776\n",
            "Epoch 2: train loss 1.7694399727715386, accuracy 0.36444444444444446\n",
            "Epoch 2: train loss 1.0025165451897515, accuracy 0.5611111111111111\n",
            "Epoch 2: train loss 1.7690364095899793, accuracy 0.3322222222222222\n",
            "Epoch 2: train loss 1.3021143611272177, accuracy 0.5511111111111111\n"
          ]
        },
        {
          "output_type": "stream",
          "name": "stderr",
          "text": [
            "DEBUG flower 2022-06-01 14:19:13,795 | server.py:220 | fit_round received 16 results and 0 failures\n",
            "INFO flower 2022-06-01 14:19:16,035 | server.py:120 | fit progress: (3, 2.3351965183258057, {'accuracy': 0.1435}, 129.794345776)\n",
            "INFO flower 2022-06-01 14:19:16,037 | server.py:155 | evaluate_round: no clients selected, cancel\n",
            "DEBUG flower 2022-06-01 14:19:16,042 | server.py:207 | fit_round: strategy sampled 16 clients (out of 50)\n"
          ]
        },
        {
          "output_type": "stream",
          "name": "stdout",
          "text": [
            ":task_name:launch_and_fit\n",
            ":task_name:launch_and_fit\n"
          ]
        },
        {
          "output_type": "stream",
          "name": "stderr",
          "text": [
            ":task_name:launch_and_fit\n",
            ":task_name:launch_and_fit\n",
            ":task_name:launch_and_fit\n"
          ]
        },
        {
          "output_type": "stream",
          "name": "stdout",
          "text": [
            ":task_name:launch_and_fit\n",
            ":task_name:launch_and_fit\n"
          ]
        },
        {
          "output_type": "stream",
          "name": "stderr",
          "text": [
            ":task_name:launch_and_fit\n"
          ]
        },
        {
          "output_type": "stream",
          "name": "stdout",
          "text": [
            ":task_name:launch_and_fit\n",
            "[Client 45, round 4] fit, config: {'current_round': 4, 'local_epochs': 2, 'lr': 0.1}\n",
            "[Client 17, round 4] fit, config: {'current_round': 4, 'local_epochs': 2, 'lr': 0.1}\n",
            "[Client 33, round 4] fit, config: {'current_round': 4, 'local_epochs': 2, 'lr': 0.1}\n",
            "[Client 48, round 4] fit, config: {'current_round': 4, 'local_epochs': 2, 'lr': 0.1}\n",
            "[Client 15, round 4] fit, config: {'current_round': 4, 'local_epochs': 2, 'lr': 0.1}\n"
          ]
        },
        {
          "output_type": "stream",
          "name": "stderr",
          "text": [
            ":task_name:launch_and_fit\n"
          ]
        },
        {
          "output_type": "stream",
          "name": "stdout",
          "text": [
            ":task_name:launch_and_fit\n",
            ":task_name:launch_and_fit\n",
            "[Client 37, round 4] fit, config: {'current_round': 4, 'local_epochs': 2, 'lr': 0.1}\n",
            "[Client 13, round 4] fit, config: {'current_round': 4, 'local_epochs': 2, 'lr': 0.1}\n"
          ]
        },
        {
          "output_type": "stream",
          "name": "stderr",
          "text": [
            ":task_name:launch_and_fit\n",
            ":task_name:launch_and_fit\n"
          ]
        },
        {
          "output_type": "stream",
          "name": "stdout",
          "text": [
            ":task_name:launch_and_fit\n",
            ":task_name:launch_and_fit\n",
            ":task_name:launch_and_fit\n",
            "[Client 26, round 4] fit, config: {'current_round': 4, 'local_epochs': 2, 'lr': 0.1}\n"
          ]
        },
        {
          "output_type": "stream",
          "name": "stderr",
          "text": [
            ":task_name:launch_and_fit\n",
            ":task_name:launch_and_fit\n",
            ":task_name:launch_and_fit\n"
          ]
        },
        {
          "output_type": "stream",
          "name": "stdout",
          "text": [
            "[Client 42, round 4] fit, config: {'current_round': 4, 'local_epochs': 2, 'lr': 0.1}\n",
            "[Client 43, round 4] fit, config: {'current_round': 4, 'local_epochs': 2, 'lr': 0.1}\n",
            "Epoch 1: train loss 1.4087638897365995, accuracy 0.5655555555555556\n",
            "Epoch 1: train loss 2.1015875954098173, accuracy 0.2544444444444444\n",
            "Epoch 1: train loss 2.1006558254030017, accuracy 0.3333333333333333\n",
            "Epoch 1: train loss 2.2943077829149034, accuracy 0.18444444444444444\n",
            "Epoch 1: train loss 2.2499171214633518, accuracy 0.15444444444444444\n",
            "Epoch 1: train loss 2.0842975086636013, accuracy 0.27111111111111114\n",
            "Epoch 1: train loss 2.2116545470555624, accuracy 0.19111111111111112\n",
            "Epoch 1: train loss 2.053964001602597, accuracy 0.28\n",
            "Epoch 1: train loss 1.889632920689053, accuracy 0.3388888888888889\n",
            "Epoch 1: train loss 1.8577329455481635, accuracy 0.42\n",
            "Epoch 2: train loss 1.5034029081132676, accuracy 0.5433333333333333\n",
            "Epoch 2: train loss 1.7693068737453885, accuracy 0.28555555555555556\n",
            "Epoch 2: train loss 0.42081933551364475, accuracy 0.9788888888888889\n",
            ":task_name:launch_and_fit\n",
            ":task_name:launch_and_fit\n",
            "[Client 28, round 4] fit, config: {'current_round': 4, 'local_epochs': 2, 'lr': 0.1}[Client 47, round 4] fit, config: {'current_round': 4, 'local_epochs': 2, 'lr': 0.1}\n",
            "\n",
            "Epoch 2: train loss 1.554750574959649, accuracy 0.3611111111111111\n"
          ]
        },
        {
          "output_type": "stream",
          "name": "stderr",
          "text": [
            ":task_name:launch_and_fit\n",
            ":task_name:launch_and_fit\n"
          ]
        },
        {
          "output_type": "stream",
          "name": "stdout",
          "text": [
            "Epoch 2: train loss 1.85797065893809, accuracy 0.32555555555555554\n",
            ":task_name:launch_and_fit\n",
            ":task_name:launch_and_fit\n",
            "[Client 31, round 4] fit, config: {'current_round': 4, 'local_epochs': 2, 'lr': 0.1}\n",
            "[Client 22, round 4] fit, config: {'current_round': 4, 'local_epochs': 2, 'lr': 0.1}\n"
          ]
        },
        {
          "output_type": "stream",
          "name": "stderr",
          "text": [
            ":task_name:launch_and_fit\n",
            ":task_name:launch_and_fit\n"
          ]
        },
        {
          "output_type": "stream",
          "name": "stdout",
          "text": [
            "Epoch 2: train loss 1.8437333424886069, accuracy 0.2811111111111111\n",
            ":task_name:launch_and_fit\n",
            "[Client 5, round 4] fit, config: {'current_round': 4, 'local_epochs': 2, 'lr': 0.1}\n",
            "Epoch 2: train loss 1.9331410079532199, accuracy 0.30444444444444446\n"
          ]
        },
        {
          "output_type": "stream",
          "name": "stderr",
          "text": [
            ":task_name:launch_and_fit\n"
          ]
        },
        {
          "output_type": "stream",
          "name": "stdout",
          "text": [
            "Epoch 2: train loss 1.6471407000223797, accuracy 0.33\n",
            "Epoch 2: train loss 1.3335888661278619, accuracy 0.55\n",
            "Epoch 2: train loss 1.6395217312706842, accuracy 0.41333333333333333\n",
            ":task_name:launch_and_fit\n",
            "[Client 20, round 4] fit, config: {'current_round': 4, 'local_epochs': 2, 'lr': 0.1}\n"
          ]
        },
        {
          "output_type": "stream",
          "name": "stderr",
          "text": [
            ":task_name:launch_and_fit\n"
          ]
        },
        {
          "output_type": "stream",
          "name": "stdout",
          "text": [
            "Epoch 1: train loss 2.031379531754388, accuracy 0.2611111111111111\n",
            "Epoch 1: train loss 1.8225406530168322, accuracy 0.41888888888888887\n",
            "Epoch 1: train loss 2.1159515052371556, accuracy 0.24888888888888888Epoch 1: train loss 1.8234344132741291, accuracy 0.46555555555555556\n",
            "\n",
            "Epoch 1: train loss 1.9760265827178956, accuracy 0.38555555555555554\n",
            "Epoch 1: train loss 2.1092922613355847, accuracy 0.2833333333333333\n",
            "Epoch 2: train loss 1.4582911570866903, accuracy 0.3977777777777778\n",
            "Epoch 2: train loss 0.949343334833781, accuracy 0.7844444444444445\n",
            "Epoch 2: train loss 1.2026024757491218, accuracy 0.6911111111111111\n",
            "Epoch 2: train loss 1.77750983926985, accuracy 0.41444444444444445\n"
          ]
        },
        {
          "output_type": "stream",
          "name": "stderr",
          "text": [
            "DEBUG flower 2022-06-01 14:20:01,844 | server.py:220 | fit_round received 16 results and 0 failures\n"
          ]
        },
        {
          "output_type": "stream",
          "name": "stdout",
          "text": [
            "Epoch 2: train loss 1.5842539744906956, accuracy 0.5355555555555556\n",
            "Epoch 2: train loss 1.731723575592041, accuracy 0.3877777777777778\n"
          ]
        },
        {
          "output_type": "stream",
          "name": "stderr",
          "text": [
            "INFO flower 2022-06-01 14:20:04,050 | server.py:120 | fit progress: (4, 2.356150206756592, {'accuracy': 0.1}, 177.809419349)\n",
            "INFO flower 2022-06-01 14:20:04,052 | server.py:155 | evaluate_round: no clients selected, cancel\n",
            "DEBUG flower 2022-06-01 14:20:04,057 | server.py:207 | fit_round: strategy sampled 16 clients (out of 50)\n"
          ]
        },
        {
          "output_type": "stream",
          "name": "stdout",
          "text": [
            ":task_name:launch_and_fit\n"
          ]
        },
        {
          "output_type": "stream",
          "name": "stderr",
          "text": [
            ":task_name:launch_and_fit\n"
          ]
        },
        {
          "output_type": "stream",
          "name": "stdout",
          "text": [
            ":task_name:launch_and_fit\n",
            ":task_name:launch_and_fit\n",
            ":task_name:launch_and_fit\n"
          ]
        },
        {
          "output_type": "stream",
          "name": "stderr",
          "text": [
            ":task_name:launch_and_fit\n",
            ":task_name:launch_and_fit\n",
            ":task_name:launch_and_fit\n"
          ]
        },
        {
          "output_type": "stream",
          "name": "stdout",
          "text": [
            ":task_name:launch_and_fit\n",
            ":task_name:launch_and_fit\n",
            ":task_name:launch_and_fit\n",
            "[Client 39, round 5] fit, config: {'current_round': 5, 'local_epochs': 2, 'lr': 0.1}\n",
            "[Client 7, round 5] fit, config: {'current_round': 5, 'local_epochs': 2, 'lr': 0.1}[Client 21, round 5] fit, config: {'current_round': 5, 'local_epochs': 2, 'lr': 0.1}\n",
            "\n",
            "[Client 40, round 5] fit, config: {'current_round': 5, 'local_epochs': 2, 'lr': 0.1}\n",
            "[Client 31, round 5] fit, config: {'current_round': 5, 'local_epochs': 2, 'lr': 0.1}\n",
            "[Client 37, round 5] fit, config: {'current_round': 5, 'local_epochs': 2, 'lr': 0.1}\n",
            "[Client 12, round 5] fit, config: {'current_round': 5, 'local_epochs': 2, 'lr': 0.1}\n"
          ]
        },
        {
          "output_type": "stream",
          "name": "stderr",
          "text": [
            ":task_name:launch_and_fit\n",
            ":task_name:launch_and_fit\n",
            ":task_name:launch_and_fit\n"
          ]
        },
        {
          "output_type": "stream",
          "name": "stdout",
          "text": [
            ":task_name:launch_and_fit\n",
            ":task_name:launch_and_fit\n",
            ":task_name:launch_and_fit\n"
          ]
        },
        {
          "output_type": "stream",
          "name": "stderr",
          "text": [
            ":task_name:launch_and_fit\n",
            ":task_name:launch_and_fit\n",
            ":task_name:launch_and_fit\n"
          ]
        },
        {
          "output_type": "stream",
          "name": "stdout",
          "text": [
            "[Client 1, round 5] fit, config: {'current_round': 5, 'local_epochs': 2, 'lr': 0.1}\n",
            "[Client 17, round 5] fit, config: {'current_round': 5, 'local_epochs': 2, 'lr': 0.1}\n",
            "[Client 15, round 5] fit, config: {'current_round': 5, 'local_epochs': 2, 'lr': 0.1}\n",
            "Epoch 1: train loss 2.1026893923017713, accuracy 0.24444444444444444\n",
            "Epoch 1: train loss 2.038435080846151, accuracy 0.3\n",
            "Epoch 1: train loss 1.9487074560589261, accuracy 0.3488888888888889\n",
            "Epoch 1: train loss 1.4720984040366278, accuracy 0.5988888888888889\n",
            "Epoch 1: train loss 2.238984520700243, accuracy 0.14666666666666667\n",
            "Epoch 1: train loss 2.0838527250289918, accuracy 0.2688888888888889\n",
            "Epoch 1: train loss 1.9966335688696968, accuracy 0.22\n",
            "Epoch 1: train loss 2.1397653267118666, accuracy 0.12444444444444444\n",
            "Epoch 1: train loss 2.120867365201314, accuracy 0.23777777777777778\n",
            "Epoch 1: train loss 1.7674728702174292, accuracy 0.37555555555555553\n",
            "Epoch 2: train loss 1.607659244802263, accuracy 0.45555555555555555\n",
            "Epoch 2: train loss 1.3945243893729315, accuracy 0.6288888888888889\n",
            "Epoch 2: train loss 1.9138235494825575, accuracy 0.2688888888888889\n",
            ":task_name:launch_and_fit\n",
            "Epoch 2: train loss 1.4367396068572997, accuracy 0.5966666666666667\n",
            "[Client 14, round 5] fit, config: {'current_round': 5, 'local_epochs': 2, 'lr': 0.1}Epoch 2: train loss 1.7374197769165038, accuracy 0.4077777777777778\n",
            "\n"
          ]
        },
        {
          "output_type": "stream",
          "name": "stderr",
          "text": [
            ":task_name:launch_and_fit\n"
          ]
        },
        {
          "output_type": "stream",
          "name": "stdout",
          "text": [
            ":task_name:launch_and_fit\n",
            "Epoch 2: train loss 1.2456182262632582, accuracy 0.40444444444444444\n",
            "[Client 48, round 5] fit, config: {'current_round': 5, 'local_epochs': 2, 'lr': 0.1}\n"
          ]
        },
        {
          "output_type": "stream",
          "name": "stderr",
          "text": [
            ":task_name:launch_and_fit\n"
          ]
        },
        {
          "output_type": "stream",
          "name": "stdout",
          "text": [
            ":task_name:launch_and_fit\n",
            "Epoch 2: train loss 0.9153312185075548, accuracy 0.7866666666666666\n",
            "[Client 23, round 5] fit, config: {'current_round': 5, 'local_epochs': 2, 'lr': 0.1}\n",
            "Epoch 2: train loss 1.785433989100986, accuracy 0.29555555555555557\n",
            "Epoch 2: train loss 1.5752448887295194, accuracy 0.5044444444444445\n",
            "Epoch 2: train loss 1.526605626212226, accuracy 0.5433333333333333\n",
            ":task_name:launch_and_fit\n",
            ":task_name:launch_and_fit\n",
            ":task_name:launch_and_fit\n",
            "[Client 10, round 5] fit, config: {'current_round': 5, 'local_epochs': 2, 'lr': 0.1}\n"
          ]
        },
        {
          "output_type": "stream",
          "name": "stderr",
          "text": [
            ":task_name:launch_and_fit\n",
            ":task_name:launch_and_fit\n",
            ":task_name:launch_and_fit\n",
            ":task_name:launch_and_fit\n"
          ]
        },
        {
          "output_type": "stream",
          "name": "stdout",
          "text": [
            "[Client 44, round 5] fit, config: {'current_round': 5, 'local_epochs': 2, 'lr': 0.1}\n",
            "[Client 27, round 5] fit, config: {'current_round': 5, 'local_epochs': 2, 'lr': 0.1}\n",
            "Epoch 1: train loss 0.7740963226101465, accuracy 0.9788888888888889\n",
            "Epoch 1: train loss 2.1878476492563883, accuracy 0.20333333333333334\n",
            "Epoch 1: train loss 2.164065154393514, accuracy 0.14888888888888888\n",
            "Epoch 1: train loss 1.9932271067301432, accuracy 0.29555555555555557\n",
            "Epoch 1: train loss 1.6507612724602223, accuracy 0.5111111111111111\n",
            "Epoch 1: train loss 2.0851967334747314, accuracy 0.23555555555555555\n",
            "Epoch 2: train loss 1.5005290667215982, accuracy 0.4677777777777778\n",
            "Epoch 2: train loss 0.2494112292924183, accuracy 0.9788888888888889\n",
            "Epoch 2: train loss 1.441521769364675, accuracy 0.48\n"
          ]
        },
        {
          "output_type": "stream",
          "name": "stderr",
          "text": [
            "DEBUG flower 2022-06-01 14:20:48,876 | server.py:220 | fit_round received 16 results and 0 failures\n"
          ]
        },
        {
          "output_type": "stream",
          "name": "stdout",
          "text": [
            "Epoch 2: train loss 1.3396667501661512, accuracy 0.6433333333333333\n",
            "Epoch 2: train loss 1.0374057250552706, accuracy 0.8622222222222222\n",
            "Epoch 2: train loss 1.5649978425767688, accuracy 0.3333333333333333\n"
          ]
        },
        {
          "output_type": "stream",
          "name": "stderr",
          "text": [
            "INFO flower 2022-06-01 14:20:51,143 | server.py:120 | fit progress: (5, 2.3107319602966307, {'accuracy': 0.1586}, 224.90227248899998)\n",
            "INFO flower 2022-06-01 14:20:51,145 | server.py:155 | evaluate_round: no clients selected, cancel\n",
            "DEBUG flower 2022-06-01 14:20:51,150 | server.py:207 | fit_round: strategy sampled 16 clients (out of 50)\n"
          ]
        },
        {
          "output_type": "stream",
          "name": "stdout",
          "text": [
            ":task_name:launch_and_fit\n"
          ]
        },
        {
          "output_type": "stream",
          "name": "stderr",
          "text": [
            ":task_name:launch_and_fit\n"
          ]
        },
        {
          "output_type": "stream",
          "name": "stdout",
          "text": [
            ":task_name:launch_and_fit\n",
            ":task_name:launch_and_fit\n",
            ":task_name:launch_and_fit\n",
            ":task_name:launch_and_fit\n",
            ":task_name:launch_and_fit\n"
          ]
        },
        {
          "output_type": "stream",
          "name": "stderr",
          "text": [
            ":task_name:launch_and_fit\n",
            ":task_name:launch_and_fit\n",
            ":task_name:launch_and_fit\n",
            ":task_name:launch_and_fit\n",
            ":task_name:launch_and_fit\n"
          ]
        },
        {
          "output_type": "stream",
          "name": "stdout",
          "text": [
            "[Client 6, round 6] fit, config: {'current_round': 6, 'local_epochs': 2, 'lr': 0.1}[Client 14, round 6] fit, config: {'current_round': 6, 'local_epochs': 2, 'lr': 0.1}\n",
            "\n",
            "[Client 2, round 6] fit, config: {'current_round': 6, 'local_epochs': 2, 'lr': 0.1}\n",
            "[Client 9, round 6] fit, config: {'current_round': 6, 'local_epochs': 2, 'lr': 0.1}\n",
            "[Client 40, round 6] fit, config: {'current_round': 6, 'local_epochs': 2, 'lr': 0.1}\n",
            "[Client 44, round 6] fit, config: {'current_round': 6, 'local_epochs': 2, 'lr': 0.1}\n",
            ":task_name:launch_and_fit\n"
          ]
        },
        {
          "output_type": "stream",
          "name": "stderr",
          "text": [
            ":task_name:launch_and_fit\n"
          ]
        },
        {
          "output_type": "stream",
          "name": "stdout",
          "text": [
            ":task_name:launch_and_fit\n",
            "[Client 3, round 6] fit, config: {'current_round': 6, 'local_epochs': 2, 'lr': 0.1}\n",
            "[Client 34, round 6] fit, config: {'current_round': 6, 'local_epochs': 2, 'lr': 0.1}\n",
            ":task_name:launch_and_fit\n"
          ]
        },
        {
          "output_type": "stream",
          "name": "stderr",
          "text": [
            ":task_name:launch_and_fit\n",
            ":task_name:launch_and_fit\n"
          ]
        },
        {
          "output_type": "stream",
          "name": "stdout",
          "text": [
            ":task_name:launch_and_fit\n",
            "[Client 38, round 6] fit, config: {'current_round': 6, 'local_epochs': 2, 'lr': 0.1}\n",
            "[Client 36, round 6] fit, config: {'current_round': 6, 'local_epochs': 2, 'lr': 0.1}\n"
          ]
        },
        {
          "output_type": "stream",
          "name": "stderr",
          "text": [
            ":task_name:launch_and_fit\n"
          ]
        },
        {
          "output_type": "stream",
          "name": "stdout",
          "text": [
            "Epoch 1: train loss 2.0173394950230916, accuracy 0.4\n",
            "Epoch 1: train loss 2.0066497707366944, accuracy 0.37222222222222223\n",
            "Epoch 1: train loss 1.815592541164822, accuracy 0.4855555555555556\n",
            "Epoch 1: train loss 1.8988117270999485, accuracy 0.42\n",
            "Epoch 1: train loss 1.264685476091173, accuracy 0.8444444444444444\n",
            "Epoch 1: train loss 1.950119228363037, accuracy 0.3377777777777778\n",
            "Epoch 1: train loss 2.02339243888855, accuracy 0.25555555555555554\n",
            "Epoch 1: train loss 2.0629402595096162, accuracy 0.28444444444444444\n",
            "Epoch 1: train loss 2.1172046438852945, accuracy 0.25333333333333335\n",
            "Epoch 1: train loss 1.911101811726888, accuracy 0.4211111111111111\n",
            "Epoch 2: train loss 0.6167504342397054, accuracy 0.8622222222222222\n",
            "Epoch 2: train loss 1.3805120211177402, accuracy 0.6066666666666667\n",
            "Epoch 2: train loss 1.523848746087816, accuracy 0.5088888888888888\n",
            ":task_name:launch_and_fit\n",
            ":task_name:launch_and_fit\n",
            ":task_name:launch_and_fit\n",
            "Epoch 2: train loss 1.575687353346083, accuracy 0.4266666666666667\n",
            "Epoch 2: train loss 1.6716242202123006, accuracy 0.33666666666666667\n"
          ]
        },
        {
          "output_type": "stream",
          "name": "stderr",
          "text": [
            ":task_name:launch_and_fit\n",
            ":task_name:launch_and_fit\n",
            ":task_name:launch_and_fit\n"
          ]
        },
        {
          "output_type": "stream",
          "name": "stdout",
          "text": [
            "[Client 1, round 6] fit, config: {'current_round': 6, 'local_epochs': 2, 'lr': 0.1}\n",
            "Epoch 2: train loss 1.6629102595647176, accuracy 0.4622222222222222\n",
            "[Client 7, round 6] fit, config: {'current_round': 6, 'local_epochs': 2, 'lr': 0.1}\n",
            "[Client 4, round 6] fit, config: {'current_round': 6, 'local_epochs': 2, 'lr': 0.1}\n",
            ":task_name:launch_and_fit\n",
            ":task_name:launch_and_fit\n",
            "[Client 37, round 6] fit, config: {'current_round': 6, 'local_epochs': 2, 'lr': 0.1}\n",
            "[Client 12, round 6] fit, config: {'current_round': 6, 'local_epochs': 2, 'lr': 0.1}\n"
          ]
        },
        {
          "output_type": "stream",
          "name": "stderr",
          "text": [
            ":task_name:launch_and_fit\n",
            ":task_name:launch_and_fit\n"
          ]
        },
        {
          "output_type": "stream",
          "name": "stdout",
          "text": [
            "Epoch 2: train loss 1.5739464579688178, accuracy 0.4111111111111111\n",
            "Epoch 2: train loss 1.6685261058807372, accuracy 0.36333333333333334\n",
            ":task_name:launch_and_fit\n",
            "[Client 25, round 6] fit, config: {'current_round': 6, 'local_epochs': 2, 'lr': 0.1}\n"
          ]
        },
        {
          "output_type": "stream",
          "name": "stderr",
          "text": [
            ":task_name:launch_and_fit\n"
          ]
        },
        {
          "output_type": "stream",
          "name": "stdout",
          "text": [
            "Epoch 2: train loss 1.7306353722678292, accuracy 0.3477777777777778\n",
            "Epoch 2: train loss 1.2479982381396824, accuracy 0.5688888888888889\n",
            "Epoch 1: train loss 1.9328586122724745, accuracy 0.3522222222222222\n",
            "Epoch 1: train loss 2.0383022128211126, accuracy 0.34\n",
            "Epoch 1: train loss 2.0657476064893934, accuracy 0.23555555555555555\n",
            "Epoch 1: train loss 1.9189601781633165, accuracy 0.3811111111111111\n",
            "Epoch 1: train loss 2.0241419272952608, accuracy 0.3233333333333333\n",
            "Epoch 1: train loss 1.8852740663952297, accuracy 0.3933333333333333\n",
            "Epoch 2: train loss 1.5083267042371962, accuracy 0.4922222222222222\n",
            "Epoch 2: train loss 1.2097635218832228, accuracy 0.5688888888888889\n",
            "Epoch 2: train loss 1.5717241509755453, accuracy 0.5122222222222222\n",
            "Epoch 2: train loss 1.7718409321043227, accuracy 0.27\n"
          ]
        },
        {
          "output_type": "stream",
          "name": "stderr",
          "text": [
            "DEBUG flower 2022-06-01 14:21:37,330 | server.py:220 | fit_round received 16 results and 0 failures\n"
          ]
        },
        {
          "output_type": "stream",
          "name": "stdout",
          "text": [
            "Epoch 2: train loss 1.7515011135737102, accuracy 0.4222222222222222\n",
            "Epoch 2: train loss 1.086917537053426, accuracy 0.6444444444444445\n"
          ]
        },
        {
          "output_type": "stream",
          "name": "stderr",
          "text": [
            "INFO flower 2022-06-01 14:21:39,647 | server.py:120 | fit progress: (6, 2.3805796180725096, {'accuracy': 0.1}, 273.40609164)\n",
            "INFO flower 2022-06-01 14:21:39,649 | server.py:155 | evaluate_round: no clients selected, cancel\n",
            "DEBUG flower 2022-06-01 14:21:39,654 | server.py:207 | fit_round: strategy sampled 16 clients (out of 50)\n"
          ]
        },
        {
          "output_type": "stream",
          "name": "stdout",
          "text": [
            ":task_name:launch_and_fit\n",
            ":task_name:launch_and_fit\n",
            ":task_name:launch_and_fit\n"
          ]
        },
        {
          "output_type": "stream",
          "name": "stderr",
          "text": [
            ":task_name:launch_and_fit\n",
            ":task_name:launch_and_fit\n",
            ":task_name:launch_and_fit\n",
            ":task_name:launch_and_fit\n"
          ]
        },
        {
          "output_type": "stream",
          "name": "stdout",
          "text": [
            ":task_name:launch_and_fit\n",
            "[Client 5, round 7] fit, config: {'current_round': 7, 'local_epochs': 2, 'lr': 0.1}\n",
            "[Client 23, round 7] fit, config: {'current_round': 7, 'local_epochs': 2, 'lr': 0.1}\n",
            "[Client 7, round 7] fit, config: {'current_round': 7, 'local_epochs': 2, 'lr': 0.1}\n",
            "[Client 2, round 7] fit, config: {'current_round': 7, 'local_epochs': 2, 'lr': 0.1}\n",
            ":task_name:launch_and_fit\n",
            "[Client 1, round 7] fit, config: {'current_round': 7, 'local_epochs': 2, 'lr': 0.1}\n"
          ]
        },
        {
          "output_type": "stream",
          "name": "stderr",
          "text": [
            ":task_name:launch_and_fit\n"
          ]
        },
        {
          "output_type": "stream",
          "name": "stdout",
          "text": [
            ":task_name:launch_and_fit\n",
            "[Client 12, round 7] fit, config: {'current_round': 7, 'local_epochs': 2, 'lr': 0.1}\n"
          ]
        },
        {
          "output_type": "stream",
          "name": "stderr",
          "text": [
            ":task_name:launch_and_fit\n"
          ]
        },
        {
          "output_type": "stream",
          "name": "stdout",
          "text": [
            ":task_name:launch_and_fit\n",
            ":task_name:launch_and_fit\n",
            ":task_name:launch_and_fit\n",
            ":task_name:launch_and_fit\n"
          ]
        },
        {
          "output_type": "stream",
          "name": "stderr",
          "text": [
            ":task_name:launch_and_fit\n",
            ":task_name:launch_and_fit\n",
            ":task_name:launch_and_fit\n",
            ":task_name:launch_and_fit\n"
          ]
        },
        {
          "output_type": "stream",
          "name": "stdout",
          "text": [
            "[Client 30, round 7] fit, config: {'current_round': 7, 'local_epochs': 2, 'lr': 0.1}\n",
            "[Client 38, round 7] fit, config: {'current_round': 7, 'local_epochs': 2, 'lr': 0.1}\n",
            "[Client 11, round 7] fit, config: {'current_round': 7, 'local_epochs': 2, 'lr': 0.1}\n",
            "[Client 47, round 7] fit, config: {'current_round': 7, 'local_epochs': 2, 'lr': 0.1}\n",
            "Epoch 1: train loss 1.9767372804217869, accuracy 0.27666666666666667\n",
            "Epoch 1: train loss 1.8036884546279908, accuracy 0.34\n",
            "Epoch 1: train loss 2.0265789431995818, accuracy 0.2911111111111111\n",
            "Epoch 1: train loss 1.9247738133536445, accuracy 0.24333333333333335\n",
            "Epoch 1: train loss 2.098710349400838, accuracy 0.2611111111111111\n",
            "Epoch 1: train loss 2.0403445021311444, accuracy 0.25333333333333335\n",
            "Epoch 1: train loss 2.16367066277398, accuracy 0.21777777777777776\n",
            "Epoch 1: train loss 2.1599677488538953, accuracy 0.1411111111111111\n",
            "Epoch 1: train loss 1.8592621019151476, accuracy 0.3477777777777778\n",
            "Epoch 1: train loss 1.9600252866744996, accuracy 0.35333333333333333\n",
            "Epoch 2: train loss 1.4407128614849514, accuracy 0.46111111111111114\n",
            "Epoch 2: train loss 1.5447752030690511, accuracy 0.43555555555555553\n",
            "Epoch 2: train loss 1.189746141963535, accuracy 0.5255555555555556\n",
            ":task_name:launch_and_fit\n",
            "Epoch 2: train loss 1.6594913948906793, accuracy 0.5355555555555556\n",
            "[Client 13, round 7] fit, config: {'current_round': 7, 'local_epochs': 2, 'lr': 0.1}\n"
          ]
        },
        {
          "output_type": "stream",
          "name": "stderr",
          "text": [
            ":task_name:launch_and_fit\n"
          ]
        },
        {
          "output_type": "stream",
          "name": "stdout",
          "text": [
            ":task_name:launch_and_fit\n"
          ]
        },
        {
          "output_type": "stream",
          "name": "stderr",
          "text": [
            ":task_name:launch_and_fit\n"
          ]
        },
        {
          "output_type": "stream",
          "name": "stdout",
          "text": [
            "[Client 3, round 7] fit, config: {'current_round': 7, 'local_epochs': 2, 'lr': 0.1}\n",
            "Epoch 2: train loss 1.512005337609185, accuracy 0.48777777777777775\n",
            ":task_name:launch_and_fit\n",
            "[Client 44, round 7] fit, config: {'current_round': 7, 'local_epochs': 2, 'lr': 0.1}\n"
          ]
        },
        {
          "output_type": "stream",
          "name": "stderr",
          "text": [
            ":task_name:launch_and_fit\n"
          ]
        },
        {
          "output_type": "stream",
          "name": "stdout",
          "text": [
            "Epoch 2: train loss 1.6853849506378173, accuracy 0.45111111111111113\n",
            ":task_name:launch_and_fit\n",
            ":task_name:launch_and_fit\n",
            "[Client 34, round 7] fit, config: {'current_round': 7, 'local_epochs': 2, 'lr': 0.1}\n",
            "[Client 27, round 7] fit, config: {'current_round': 7, 'local_epochs': 2, 'lr': 0.1}\n"
          ]
        },
        {
          "output_type": "stream",
          "name": "stderr",
          "text": [
            ":task_name:launch_and_fit\n",
            ":task_name:launch_and_fit\n"
          ]
        },
        {
          "output_type": "stream",
          "name": "stdout",
          "text": [
            ":task_name:launch_and_fit\n",
            "[Client 6, round 7] fit, config: {'current_round': 7, 'local_epochs': 2, 'lr': 0.1}\n"
          ]
        },
        {
          "output_type": "stream",
          "name": "stderr",
          "text": [
            ":task_name:launch_and_fit\n"
          ]
        },
        {
          "output_type": "stream",
          "name": "stdout",
          "text": [
            "Epoch 2: train loss 1.3286890655093724, accuracy 0.4444444444444444\n",
            "Epoch 2: train loss 1.675163425869412, accuracy 0.31\n",
            "Epoch 2: train loss 1.7871541309356689, accuracy 0.3377777777777778\n",
            "Epoch 2: train loss 1.0645445466041565, accuracy 0.47555555555555556\n",
            "Epoch 1: train loss 2.1654329691992866, accuracy 0.16555555555555557\n",
            "Epoch 1: train loss 1.9841205384996203, accuracy 0.2388888888888889\n",
            "Epoch 1: train loss 1.249429784880744, accuracy 0.5655555555555556\n",
            "Epoch 1: train loss 2.0297272035810683, accuracy 0.2111111111111111\n",
            "Epoch 1: train loss 2.0506040244632295, accuracy 0.2477777777777778\n",
            "Epoch 1: train loss 2.0756293614705403, accuracy 0.17333333333333334\n",
            "Epoch 2: train loss 1.8145199457804362, accuracy 0.3288888888888889\n",
            "Epoch 2: train loss 1.6695102914174398, accuracy 0.43444444444444447\n",
            "Epoch 2: train loss 0.7385869561301337, accuracy 0.8622222222222222\n"
          ]
        },
        {
          "output_type": "stream",
          "name": "stderr",
          "text": [
            "DEBUG flower 2022-06-01 14:22:24,557 | server.py:220 | fit_round received 16 results and 0 failures\n"
          ]
        },
        {
          "output_type": "stream",
          "name": "stdout",
          "text": [
            "Epoch 2: train loss 1.7230750385920206, accuracy 0.3333333333333333\n",
            "Epoch 2: train loss 1.7245223665237426, accuracy 0.3288888888888889\n",
            "Epoch 2: train loss 1.4999618021647136, accuracy 0.41333333333333333\n"
          ]
        },
        {
          "output_type": "stream",
          "name": "stderr",
          "text": [
            "INFO flower 2022-06-01 14:22:26,680 | server.py:120 | fit progress: (7, 2.20575557975769, {'accuracy': 0.1382}, 320.4390561849999)\n",
            "INFO flower 2022-06-01 14:22:26,682 | server.py:155 | evaluate_round: no clients selected, cancel\n",
            "DEBUG flower 2022-06-01 14:22:26,687 | server.py:207 | fit_round: strategy sampled 16 clients (out of 50)\n"
          ]
        },
        {
          "output_type": "stream",
          "name": "stdout",
          "text": [
            ":task_name:launch_and_fit\n",
            ":task_name:launch_and_fit\n"
          ]
        },
        {
          "output_type": "stream",
          "name": "stderr",
          "text": [
            ":task_name:launch_and_fit\n",
            ":task_name:launch_and_fit\n"
          ]
        },
        {
          "output_type": "stream",
          "name": "stdout",
          "text": [
            ":task_name:launch_and_fit\n",
            ":task_name:launch_and_fit\n"
          ]
        },
        {
          "output_type": "stream",
          "name": "stderr",
          "text": [
            ":task_name:launch_and_fit\n",
            ":task_name:launch_and_fit\n"
          ]
        },
        {
          "output_type": "stream",
          "name": "stdout",
          "text": [
            ":task_name:launch_and_fit\n",
            "[Client 48, round 8] fit, config: {'current_round': 8, 'local_epochs': 2, 'lr': 0.1}\n",
            "[Client 4, round 8] fit, config: {'current_round': 8, 'local_epochs': 2, 'lr': 0.1}\n",
            "[Client 14, round 8] fit, config: {'current_round': 8, 'local_epochs': 2, 'lr': 0.1}\n",
            "[Client 16, round 8] fit, config: {'current_round': 8, 'local_epochs': 2, 'lr': 0.1}\n",
            "[Client 41, round 8] fit, config: {'current_round': 8, 'local_epochs': 2, 'lr': 0.1}\n"
          ]
        },
        {
          "output_type": "stream",
          "name": "stderr",
          "text": [
            ":task_name:launch_and_fit\n"
          ]
        },
        {
          "output_type": "stream",
          "name": "stdout",
          "text": [
            ":task_name:launch_and_fit\n",
            "[Client 27, round 8] fit, config: {'current_round': 8, 'local_epochs': 2, 'lr': 0.1}\n"
          ]
        },
        {
          "output_type": "stream",
          "name": "stderr",
          "text": [
            ":task_name:launch_and_fit\n"
          ]
        },
        {
          "output_type": "stream",
          "name": "stdout",
          "text": [
            ":task_name:launch_and_fit\n",
            ":task_name:launch_and_fit\n",
            ":task_name:launch_and_fit\n",
            ":task_name:launch_and_fit\n"
          ]
        },
        {
          "output_type": "stream",
          "name": "stderr",
          "text": [
            ":task_name:launch_and_fit\n",
            ":task_name:launch_and_fit\n",
            ":task_name:launch_and_fit\n",
            ":task_name:launch_and_fit\n"
          ]
        },
        {
          "output_type": "stream",
          "name": "stdout",
          "text": [
            "[Client 3, round 8] fit, config: {'current_round': 8, 'local_epochs': 2, 'lr': 0.1}\n",
            "[Client 22, round 8] fit, config: {'current_round': 8, 'local_epochs': 2, 'lr': 0.1}\n",
            "[Client 19, round 8] fit, config: {'current_round': 8, 'local_epochs': 2, 'lr': 0.1}\n",
            "[Client 11, round 8] fit, config: {'current_round': 8, 'local_epochs': 2, 'lr': 0.1}\n",
            "Epoch 1: train loss 2.0145176076889038, accuracy 0.30444444444444446\n",
            "Epoch 1: train loss 1.7902694108751085, accuracy 0.4533333333333333\n",
            "Epoch 1: train loss 1.1794027025145786, accuracy 0.6988888888888889\n",
            "Epoch 1: train loss 1.9230088986290825, accuracy 0.3322222222222222\n",
            "Epoch 1: train loss 1.8826888047324286, accuracy 0.3566666666666667\n",
            "Epoch 1: train loss 1.7759068065219454, accuracy 0.3055555555555556\n",
            "Epoch 1: train loss 1.9538476838005914, accuracy 0.3411111111111111\n",
            "Epoch 1: train loss 2.0525060325198705, accuracy 0.21555555555555556\n",
            "Epoch 1: train loss 1.7179836103651258, accuracy 0.37444444444444447\n",
            "Epoch 1: train loss 2.0377275398042465, accuracy 0.27666666666666667\n",
            "Epoch 2: train loss 1.6086972273720634, accuracy 0.37\n",
            "Epoch 2: train loss 0.3193681505995725, accuracy 0.9788888888888889\n",
            "Epoch 2: train loss 1.7426972760094537, accuracy 0.3322222222222222\n",
            ":task_name:launch_and_fit\n",
            ":task_name:launch_and_fit\n",
            "Epoch 2: train loss 1.5910814433627658, accuracy 0.4922222222222222\n",
            "[Client 32, round 8] fit, config: {'current_round': 8, 'local_epochs': 2, 'lr': 0.1}\n",
            "[Client 29, round 8] fit, config: {'current_round': 8, 'local_epochs': 2, 'lr': 0.1}\n"
          ]
        },
        {
          "output_type": "stream",
          "name": "stderr",
          "text": [
            ":task_name:launch_and_fit\n",
            ":task_name:launch_and_fit\n"
          ]
        },
        {
          "output_type": "stream",
          "name": "stdout",
          "text": [
            "Epoch 2: train loss 1.3647986062367756, accuracy 0.5155555555555555\n",
            ":task_name:launch_and_fit\n",
            "[Client 2, round 8] fit, config: {'current_round': 8, 'local_epochs': 2, 'lr': 0.1}\n"
          ]
        },
        {
          "output_type": "stream",
          "name": "stderr",
          "text": [
            ":task_name:launch_and_fit\n"
          ]
        },
        {
          "output_type": "stream",
          "name": "stdout",
          "text": [
            "Epoch 2: train loss 1.6557960404290093, accuracy 0.4088888888888889\n",
            ":task_name:launch_and_fit\n",
            "[Client 6, round 8] fit, config: {'current_round': 8, 'local_epochs': 2, 'lr': 0.1}\n"
          ]
        },
        {
          "output_type": "stream",
          "name": "stderr",
          "text": [
            ":task_name:launch_and_fit\n"
          ]
        },
        {
          "output_type": "stream",
          "name": "stdout",
          "text": [
            ":task_name:launch_and_fit\n",
            ":task_name:launch_and_fit\n",
            "[Client 25, round 8] fit, config: {'current_round': 8, 'local_epochs': 2, 'lr': 0.1}\n",
            "[Client 12, round 8] fit, config: {'current_round': 8, 'local_epochs': 2, 'lr': 0.1}\n",
            "Epoch 2: train loss 1.686395361158583, accuracy 0.43222222222222223\n"
          ]
        },
        {
          "output_type": "stream",
          "name": "stderr",
          "text": [
            ":task_name:launch_and_fit\n",
            ":task_name:launch_and_fit\n"
          ]
        },
        {
          "output_type": "stream",
          "name": "stdout",
          "text": [
            "Epoch 2: train loss 1.818913827472263, accuracy 0.2811111111111111\n",
            "Epoch 2: train loss 1.5816182984246148, accuracy 0.47\n",
            "Epoch 2: train loss 1.2950575039121839, accuracy 0.5133333333333333\n",
            "Epoch 1: train loss 1.9790873363282946, accuracy 0.27444444444444444\n",
            "Epoch 1: train loss 1.789289583100213, accuracy 0.48\n",
            "Epoch 1: train loss 2.0788858985900878, accuracy 0.26222222222222225\n",
            "Epoch 1: train loss 1.8796504253811306, accuracy 0.3566666666666667\n",
            "Epoch 1: train loss 1.700295303132799, accuracy 0.48\n",
            "Epoch 1: train loss 1.8524395863215128, accuracy 0.3433333333333333\n",
            "Epoch 2: train loss 1.7040837950176664, accuracy 0.31333333333333335\n",
            "Epoch 2: train loss 1.6710609515508017, accuracy 0.3811111111111111\n",
            "Epoch 2: train loss 1.932686849170261, accuracy 0.2788888888888889\n",
            "Epoch 2: train loss 1.507929178873698, accuracy 0.4444444444444444\n"
          ]
        },
        {
          "output_type": "stream",
          "name": "stderr",
          "text": [
            "DEBUG flower 2022-06-01 14:23:11,348 | server.py:220 | fit_round received 16 results and 0 failures\n"
          ]
        },
        {
          "output_type": "stream",
          "name": "stdout",
          "text": [
            "Epoch 2: train loss 1.5421051364474827, accuracy 0.47\n",
            "Epoch 2: train loss 1.1350555647744074, accuracy 0.6166666666666667\n"
          ]
        },
        {
          "output_type": "stream",
          "name": "stderr",
          "text": [
            "INFO flower 2022-06-01 14:23:13,508 | server.py:120 | fit progress: (8, 2.2400429752349855, {'accuracy': 0.1526}, 367.2671117829999)\n",
            "INFO flower 2022-06-01 14:23:13,510 | server.py:155 | evaluate_round: no clients selected, cancel\n",
            "DEBUG flower 2022-06-01 14:23:13,517 | server.py:207 | fit_round: strategy sampled 16 clients (out of 50)\n"
          ]
        },
        {
          "output_type": "stream",
          "name": "stdout",
          "text": [
            ":task_name:launch_and_fit\n",
            ":task_name:launch_and_fit\n"
          ]
        },
        {
          "output_type": "stream",
          "name": "stderr",
          "text": [
            ":task_name:launch_and_fit\n",
            ":task_name:launch_and_fit\n"
          ]
        },
        {
          "output_type": "stream",
          "name": "stdout",
          "text": [
            ":task_name:launch_and_fit\n",
            ":task_name:launch_and_fit\n",
            "[Client 16, round 9] fit, config: {'current_round': 9, 'local_epochs': 2, 'lr': 0.1}\n",
            ":task_name:launch_and_fit\n",
            ":task_name:launch_and_fit\n"
          ]
        },
        {
          "output_type": "stream",
          "name": "stderr",
          "text": [
            ":task_name:launch_and_fit\n",
            ":task_name:launch_and_fit\n",
            ":task_name:launch_and_fit\n",
            ":task_name:launch_and_fit\n"
          ]
        },
        {
          "output_type": "stream",
          "name": "stdout",
          "text": [
            "[Client 22, round 9] fit, config: {'current_round': 9, 'local_epochs': 2, 'lr': 0.1}\n",
            "[Client 36, round 9] fit, config: {'current_round': 9, 'local_epochs': 2, 'lr': 0.1}\n",
            "[Client 43, round 9] fit, config: {'current_round': 9, 'local_epochs': 2, 'lr': 0.1}\n",
            "[Client 30, round 9] fit, config: {'current_round': 9, 'local_epochs': 2, 'lr': 0.1}\n",
            "[Client 10, round 9] fit, config: {'current_round': 9, 'local_epochs': 2, 'lr': 0.1}\n",
            ":task_name:launch_and_fit\n",
            ":task_name:launch_and_fit\n",
            "[Client 13, round 9] fit, config: {'current_round': 9, 'local_epochs': 2, 'lr': 0.1}\n",
            "[Client 46, round 9] fit, config: {'current_round': 9, 'local_epochs': 2, 'lr': 0.1}\n"
          ]
        },
        {
          "output_type": "stream",
          "name": "stderr",
          "text": [
            ":task_name:launch_and_fit\n",
            ":task_name:launch_and_fit\n"
          ]
        },
        {
          "output_type": "stream",
          "name": "stdout",
          "text": [
            ":task_name:launch_and_fit\n",
            ":task_name:launch_and_fit\n",
            "[Client 44, round 9] fit, config: {'current_round': 9, 'local_epochs': 2, 'lr': 0.1}\n",
            "[Client 3, round 9] fit, config: {'current_round': 9, 'local_epochs': 2, 'lr': 0.1}\n"
          ]
        },
        {
          "output_type": "stream",
          "name": "stderr",
          "text": [
            ":task_name:launch_and_fit\n",
            ":task_name:launch_and_fit\n"
          ]
        },
        {
          "output_type": "stream",
          "name": "stdout",
          "text": [
            "Epoch 1: train loss 1.977258645693461, accuracy 0.2833333333333333\n",
            "Epoch 1: train loss 1.7472358173794216, accuracy 0.4088888888888889\n",
            "Epoch 1: train loss 1.5674505456288657, accuracy 0.5388888888888889\n",
            "Epoch 1: train loss 1.5401346329185697, accuracy 0.5577777777777778\n",
            "Epoch 1: train loss 2.0244205384784273, accuracy 0.17444444444444446\n",
            "Epoch 1: train loss 1.8940324507819282, accuracy 0.37777777777777777\n",
            "Epoch 1: train loss 1.9307689825693766, accuracy 0.3277777777777778\n",
            "Epoch 1: train loss 1.59028457959493, accuracy 0.5633333333333334\n",
            "Epoch 1: train loss 1.3756816922376554, accuracy 0.6111111111111112\n",
            "Epoch 1: train loss 1.7046544986300998, accuracy 0.44\n",
            "Epoch 2: train loss 1.7083432102203369, accuracy 0.35\n",
            "Epoch 2: train loss 1.418437393506368, accuracy 0.6466666666666666\n",
            "Epoch 2: train loss 1.3571160678068797, accuracy 0.4311111111111111\n",
            ":task_name:launch_and_fit\n",
            ":task_name:launch_and_fit\n",
            ":task_name:launch_and_fit\n"
          ]
        },
        {
          "output_type": "stream",
          "name": "stderr",
          "text": [
            ":task_name:launch_and_fit\n",
            ":task_name:launch_and_fit\n",
            ":task_name:launch_and_fit\n"
          ]
        },
        {
          "output_type": "stream",
          "name": "stdout",
          "text": [
            "[Client 40, round 9] fit, config: {'current_round': 9, 'local_epochs': 2, 'lr': 0.1}Epoch 2: train loss 1.3073308685090808, accuracy 0.6066666666666667\n",
            "\n",
            "[Client 21, round 9] fit, config: {'current_round': 9, 'local_epochs': 2, 'lr': 0.1}\n",
            "[Client 33, round 9] fit, config: {'current_round': 9, 'local_epochs': 2, 'lr': 0.1}\n",
            "Epoch 2: train loss 1.4269329733318752, accuracy 0.3788888888888889\n",
            "Epoch 2: train loss 1.6541837226019964, accuracy 0.4633333333333333\n",
            ":task_name:launch_and_fit\n",
            ":task_name:launch_and_fit\n",
            "[Client 49, round 9] fit, config: {'current_round': 9, 'local_epochs': 2, 'lr': 0.1}\n",
            "[Client 7, round 9] fit, config: {'current_round': 9, 'local_epochs': 2, 'lr': 0.1}\n"
          ]
        },
        {
          "output_type": "stream",
          "name": "stderr",
          "text": [
            ":task_name:launch_and_fit\n",
            ":task_name:launch_and_fit\n"
          ]
        },
        {
          "output_type": "stream",
          "name": "stdout",
          "text": [
            "Epoch 2: train loss 1.7747495301564535, accuracy 0.34555555555555556\n",
            "Epoch 2: train loss 0.7824521266089546, accuracy 0.7533333333333333\n",
            ":task_name:launch_and_fit\n",
            "[Client 28, round 9] fit, config: {'current_round': 9, 'local_epochs': 2, 'lr': 0.1}\n"
          ]
        },
        {
          "output_type": "stream",
          "name": "stderr",
          "text": [
            ":task_name:launch_and_fit\n"
          ]
        },
        {
          "output_type": "stream",
          "name": "stdout",
          "text": [
            "Epoch 2: train loss 0.8261221903231409, accuracy 0.8622222222222222\n",
            "Epoch 2: train loss 1.3448917828665838, accuracy 0.5022222222222222\n",
            "Epoch 1: train loss 1.8845231607225206, accuracy 0.35777777777777775\n",
            "Epoch 1: train loss 2.078200470606486, accuracy 0.1988888888888889\n",
            "Epoch 1: train loss 1.5841541120741103, accuracy 0.5355555555555556\n",
            "Epoch 1: train loss 1.686578936179479, accuracy 0.4622222222222222\n",
            "Epoch 1: train loss 1.5768928718566895, accuracy 0.45222222222222225\n",
            "Epoch 1: train loss 1.4050405433442859, accuracy 0.6388888888888888\n",
            "Epoch 2: train loss 1.1091108740700615, accuracy 0.6022222222222222\n",
            "Epoch 2: train loss 1.8783444092008803, accuracy 0.3788888888888889\n",
            "Epoch 2: train loss 1.7997628837161594, accuracy 0.31222222222222223\n",
            "Epoch 2: train loss 1.3346204328536988, accuracy 0.6311111111111111\n",
            "Epoch 2: train loss 0.47187408367792766, accuracy 0.7955555555555556\n"
          ]
        },
        {
          "output_type": "stream",
          "name": "stderr",
          "text": [
            "DEBUG flower 2022-06-01 14:23:59,343 | server.py:220 | fit_round received 16 results and 0 failures\n"
          ]
        },
        {
          "output_type": "stream",
          "name": "stdout",
          "text": [
            "Epoch 2: train loss 1.11479800330268, accuracy 0.6644444444444444\n"
          ]
        },
        {
          "output_type": "stream",
          "name": "stderr",
          "text": [
            "INFO flower 2022-06-01 14:24:01,668 | server.py:120 | fit progress: (9, 2.2648050483703615, {'accuracy': 0.1154}, 415.42659204099994)\n",
            "INFO flower 2022-06-01 14:24:01,669 | server.py:155 | evaluate_round: no clients selected, cancel\n",
            "DEBUG flower 2022-06-01 14:24:01,674 | server.py:207 | fit_round: strategy sampled 16 clients (out of 50)\n"
          ]
        },
        {
          "output_type": "stream",
          "name": "stdout",
          "text": [
            ":task_name:launch_and_fit\n",
            ":task_name:launch_and_fit\n",
            ":task_name:launch_and_fit\n",
            ":task_name:launch_and_fit\n"
          ]
        },
        {
          "output_type": "stream",
          "name": "stderr",
          "text": [
            ":task_name:launch_and_fit\n",
            ":task_name:launch_and_fit\n",
            ":task_name:launch_and_fit\n",
            ":task_name:launch_and_fit\n"
          ]
        },
        {
          "output_type": "stream",
          "name": "stdout",
          "text": [
            ":task_name:launch_and_fit\n",
            "[Client 11, round 10] fit, config: {'current_round': 10, 'local_epochs': 2, 'lr': 0.1}[Client 26, round 10] fit, config: {'current_round': 10, 'local_epochs': 2, 'lr': 0.1}\n",
            "[Client 42, round 10] fit, config: {'current_round': 10, 'local_epochs': 2, 'lr': 0.1}\n",
            "\n",
            "[Client 36, round 10] fit, config: {'current_round': 10, 'local_epochs': 2, 'lr': 0.1}[Client 0, round 10] fit, config: {'current_round': 10, 'local_epochs': 2, 'lr': 0.1}\n",
            "\n",
            ":task_name:launch_and_fit\n",
            "[Client 30, round 10] fit, config: {'current_round': 10, 'local_epochs': 2, 'lr': 0.1}\n"
          ]
        },
        {
          "output_type": "stream",
          "name": "stderr",
          "text": [
            ":task_name:launch_and_fit\n",
            ":task_name:launch_and_fit\n"
          ]
        },
        {
          "output_type": "stream",
          "name": "stdout",
          "text": [
            ":task_name:launch_and_fit\n",
            ":task_name:launch_and_fit\n",
            ":task_name:launch_and_fit\n",
            ":task_name:launch_and_fit\n"
          ]
        },
        {
          "output_type": "stream",
          "name": "stderr",
          "text": [
            ":task_name:launch_and_fit\n",
            ":task_name:launch_and_fit\n",
            ":task_name:launch_and_fit\n",
            ":task_name:launch_and_fit\n"
          ]
        },
        {
          "output_type": "stream",
          "name": "stdout",
          "text": [
            "[Client 32, round 10] fit, config: {'current_round': 10, 'local_epochs': 2, 'lr': 0.1}\n",
            "[Client 43, round 10] fit, config: {'current_round': 10, 'local_epochs': 2, 'lr': 0.1}\n",
            "[Client 19, round 10] fit, config: {'current_round': 10, 'local_epochs': 2, 'lr': 0.1}\n",
            "[Client 22, round 10] fit, config: {'current_round': 10, 'local_epochs': 2, 'lr': 0.1}\n",
            "Epoch 1: train loss 1.5189550632900661, accuracy 0.5688888888888889\n",
            "Epoch 1: train loss 1.9372355397542318, accuracy 0.3211111111111111\n",
            "Epoch 1: train loss 1.953235362370809, accuracy 0.3211111111111111\n",
            "Epoch 1: train loss 1.9756085512373183, accuracy 0.28444444444444444\n",
            "Epoch 1: train loss 1.8778818374209933, accuracy 0.3277777777777778\n",
            "Epoch 1: train loss 1.6946152035395305, accuracy 0.38\n",
            "Epoch 1: train loss 1.5177504020267063, accuracy 0.5822222222222222\n",
            "Epoch 1: train loss 1.9226979149712458, accuracy 0.34\n",
            "Epoch 1: train loss 1.918166872660319, accuracy 0.35555555555555557\n",
            "Epoch 1: train loss 1.9236860805087619, accuracy 0.31555555555555553\n",
            "Epoch 2: train loss 1.7324465380774603, accuracy 0.3522222222222222\n",
            "Epoch 2: train loss 1.255231802728441, accuracy 0.4955555555555556\n",
            "Epoch 2: train loss 1.7665883106655544, accuracy 0.34\n",
            "Epoch 2: train loss 1.62256694316864, accuracy 0.42\n",
            ":task_name:launch_and_fit\n",
            ":task_name:launch_and_fit\n"
          ]
        },
        {
          "output_type": "stream",
          "name": "stderr",
          "text": [
            ":task_name:launch_and_fit\n",
            ":task_name:launch_and_fit\n"
          ]
        },
        {
          "output_type": "stream",
          "name": "stdout",
          "text": [
            "[Client 16, round 10] fit, config: {'current_round': 10, 'local_epochs': 2, 'lr': 0.1}[Client 24, round 10] fit, config: {'current_round': 10, 'local_epochs': 2, 'lr': 0.1}\n",
            "\n",
            "Epoch 2: train loss 1.46958413388994, accuracy 0.4022222222222222\n",
            ":task_name:launch_and_fit\n",
            ":task_name:launch_and_fit\n",
            ":task_name:launch_and_fit\n",
            "[Client 9, round 10] fit, config: {'current_round': 10, 'local_epochs': 2, 'lr': 0.1}\n",
            "[Client 35, round 10] fit, config: {'current_round': 10, 'local_epochs': 2, 'lr': 0.1}\n",
            "[Client 47, round 10] fit, config: {'current_round': 10, 'local_epochs': 2, 'lr': 0.1}\n"
          ]
        },
        {
          "output_type": "stream",
          "name": "stderr",
          "text": [
            ":task_name:launch_and_fit\n",
            ":task_name:launch_and_fit\n",
            ":task_name:launch_and_fit\n"
          ]
        },
        {
          "output_type": "stream",
          "name": "stdout",
          "text": [
            "Epoch 2: train loss 1.4916477351718478, accuracy 0.3711111111111111\n",
            ":task_name:launch_and_fit\n",
            "[Client 29, round 10] fit, config: {'current_round': 10, 'local_epochs': 2, 'lr': 0.1}\n"
          ]
        },
        {
          "output_type": "stream",
          "name": "stderr",
          "text": [
            ":task_name:launch_and_fit\n"
          ]
        },
        {
          "output_type": "stream",
          "name": "stdout",
          "text": [
            "Epoch 2: train loss 1.3059204117457073, accuracy 0.5366666666666666\n",
            "Epoch 2: train loss 1.5488160806232028, accuracy 0.4888888888888889\n",
            "Epoch 2: train loss 1.4163131141662597, accuracy 0.51\n",
            "Epoch 2: train loss 1.7747280597686768, accuracy 0.2577777777777778\n",
            "Epoch 1: train loss 1.7117728763156468, accuracy 0.4922222222222222\n",
            "Epoch 1: train loss 1.6648481803470188, accuracy 0.43444444444444447\n",
            "Epoch 1: train loss 1.996812441613939, accuracy 0.2877777777777778\n",
            "Epoch 1: train loss 2.105550931294759, accuracy 0.24555555555555555\n",
            "Epoch 1: train loss 1.5759341740608215, accuracy 0.5533333333333333\n",
            "Epoch 1: train loss 1.9616680632697212, accuracy 0.2577777777777778\n",
            "Epoch 2: train loss 1.8000498708089192, accuracy 0.31333333333333335\n",
            "Epoch 2: train loss 1.2336133522457546, accuracy 0.5955555555555555\n",
            "Epoch 2: train loss 0.9479498631424375, accuracy 0.56\n",
            "Epoch 2: train loss 1.1510335932837592, accuracy 0.6277777777777778\n",
            "Epoch 2: train loss 1.7253431865904065, accuracy 0.30666666666666664\n"
          ]
        },
        {
          "output_type": "stream",
          "name": "stderr",
          "text": [
            "DEBUG flower 2022-06-01 14:24:47,726 | server.py:220 | fit_round received 16 results and 0 failures\n"
          ]
        },
        {
          "output_type": "stream",
          "name": "stdout",
          "text": [
            "Epoch 2: train loss 1.880741523636712, accuracy 0.31333333333333335\n"
          ]
        },
        {
          "output_type": "stream",
          "name": "stderr",
          "text": [
            "INFO flower 2022-06-01 14:24:50,061 | server.py:120 | fit progress: (10, 2.2211602916717528, {'accuracy': 0.1534}, 463.81957093699987)\n",
            "INFO flower 2022-06-01 14:24:50,063 | server.py:155 | evaluate_round: no clients selected, cancel\n",
            "INFO flower 2022-06-01 14:24:50,068 | server.py:138 | FL finished in 463.82686970299994\n",
            "INFO flower 2022-06-01 14:24:50,073 | app.py:178 | app_fit: losses_distributed []\n",
            "INFO flower 2022-06-01 14:24:50,078 | app.py:179 | app_fit: metrics_distributed {}\n",
            "INFO flower 2022-06-01 14:24:50,081 | app.py:180 | app_fit: losses_centralized [(0, 2.3050458755493164), (1, 2.331439879989624), (2, 2.323782335662842), (3, 2.3351965183258057), (4, 2.356150206756592), (5, 2.3107319602966307), (6, 2.3805796180725096), (7, 2.20575557975769), (8, 2.2400429752349855), (9, 2.2648050483703615), (10, 2.2211602916717528)]\n",
            "INFO flower 2022-06-01 14:24:50,083 | app.py:181 | app_fit: metrics_centralized {'accuracy': [(0, 0.1011), (1, 0.0931), (2, 0.1), (3, 0.1435), (4, 0.1), (5, 0.1586), (6, 0.1), (7, 0.1382), (8, 0.1526), (9, 0.1154), (10, 0.1534)]}\n"
          ]
        },
        {
          "output_type": "execute_result",
          "data": {
            "text/plain": [
              "History (loss, centralized):\n",
              "\tround 0: 2.3050458755493164\n",
              "\tround 1: 2.331439879989624\n",
              "\tround 2: 2.323782335662842\n",
              "\tround 3: 2.3351965183258057\n",
              "\tround 4: 2.356150206756592\n",
              "\tround 5: 2.3107319602966307\n",
              "\tround 6: 2.3805796180725096\n",
              "\tround 7: 2.20575557975769\n",
              "\tround 8: 2.2400429752349855\n",
              "\tround 9: 2.2648050483703615\n",
              "\tround 10: 2.2211602916717528\n",
              "History (metrics, centralized):\n",
              "{'accuracy': [(0, 0.1011), (1, 0.0931), (2, 0.1), (3, 0.1435), (4, 0.1), (5, 0.1586), (6, 0.1), (7, 0.1382), (8, 0.1526), (9, 0.1154), (10, 0.1534)]}"
            ]
          },
          "metadata": {},
          "execution_count": 9
        }
      ],
      "source": [
        "def client_fn(cid) -> FlowerClient:\n",
        "    net = Net(NUM_CLASSES).to(DEVICE)\n",
        "    trainloader = trainloaders[int(cid)]\n",
        "    valloader = valloaders[int(cid)]\n",
        "    return FlowerClient(cid, net, trainloader, valloader)\n",
        "\n",
        "def evaluate(\n",
        "    weights: fl.common.Weights,\n",
        ") -> Optional[Tuple[float, Dict[str, fl.common.Scalar]]]:\n",
        "    net = Net(NUM_CLASSES).to(DEVICE)\n",
        "    set_parameters(net, weights)  # Update model with the latest parameters\n",
        "    loss, accuracy = test(net, testloader)\n",
        "    return loss, {\"accuracy\": accuracy}\n",
        "\n",
        "def fit_config(rnd: int):\n",
        "    lr = LR\n",
        "    if MILESTONES is not None and LR_DECAY is not None:\n",
        "        lr *= LR_DECAY ** sum([1 if rnd >= e else 0 for e in MILESTONES])\n",
        "    config = {\n",
        "        \"current_round\": rnd,\n",
        "        \"local_epochs\": 1 if rnd < 2 else LOCAL_EPOCHS,\n",
        "        \"lr\": lr\n",
        "    }\n",
        "    return config\n",
        "\n",
        "strategy = fl.server.strategy.FedAvg(\n",
        "    fraction_fit=FRACTION_FIT,\n",
        "    fraction_eval=FRACTION_EVAL,\n",
        "    min_fit_clients=int(FRACTION_FIT * NUM_CLIENTS),\n",
        "    min_eval_clients=int(FRACTION_EVAL * NUM_CLIENTS),\n",
        "    min_available_clients=NUM_CLIENTS,\n",
        "    initial_parameters=fl.common.weights_to_parameters(get_parameters(net)),\n",
        "    on_fit_config_fn=fit_config,\n",
        "    eval_fn=evaluate,\n",
        ")\n",
        "\n",
        "fl.simulation.start_simulation(\n",
        "    client_fn=client_fn,\n",
        "    num_clients=NUM_CLIENTS,\n",
        "    num_rounds=10,\n",
        "    strategy=strategy,\n",
        "    client_resources={\"num_cpus\": 1, \"num_gpus\": 1},\n",
        "    ray_init_args={\"local_mode\": True, \"include_dashboard\": False}\n",
        ")"
      ]
    }
  ],
  "metadata": {
    "colab": {
      "collapsed_sections": [],
      "name": "sim_fedavg_gpu",
      "provenance": []
    },
    "kernelspec": {
      "display_name": "Python 3",
      "name": "python3"
    },
    "language_info": {
      "codemirror_mode": {
        "name": "ipython",
        "version": 3
      },
      "file_extension": ".py",
      "mimetype": "text/x-python",
      "name": "python",
      "nbconvert_exporter": "python",
      "pygments_lexer": "ipython3",
      "version": "3.8.12"
    },
    "accelerator": "GPU"
  },
  "nbformat": 4,
  "nbformat_minor": 0
}